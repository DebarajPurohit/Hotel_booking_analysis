{
  "nbformat": 4,
  "nbformat_minor": 0,
  "metadata": {
    "kernelspec": {
      "display_name": "Python 3",
      "language": "python",
      "name": "python3"
    },
    "language_info": {
      "codemirror_mode": {
        "name": "ipython",
        "version": 3
      },
      "file_extension": ".py",
      "mimetype": "text/x-python",
      "name": "python",
      "nbconvert_exporter": "python",
      "pygments_lexer": "ipython3",
      "version": "3.6.6"
    },
    "colab": {
      "name": "Hotel Booking Analysis - Capstone Project.ipynb",
      "provenance": [],
      "collapsed_sections": [],
      "include_colab_link": true
    }
  },
  "cells": [
    {
      "cell_type": "markdown",
      "metadata": {
        "id": "view-in-github",
        "colab_type": "text"
      },
      "source": [
        "<a href=\"https://colab.research.google.com/github/DebarajPurohit/Hotel_booking_analysis/blob/main/Hotel_Booking_Analysis_Capstone_Project.ipynb\" target=\"_parent\"><img src=\"https://colab.research.google.com/assets/colab-badge.svg\" alt=\"Open In Colab\"/></a>"
      ]
    },
    {
      "cell_type": "markdown",
      "metadata": {
        "id": "Y06xIdG26kRF"
      },
      "source": [
        "## <b> Have you ever wondered when the best time of year to book a hotel room is? Or the optimal length of stay in order to get the best daily rate? What if you wanted to predict whether or not a hotel was likely to receive a disproportionately high number of special requests? This hotel booking dataset can help you explore those questions!\n",
        "\n",
        "## <b>This data set contains booking information for a city hotel and a resort hotel, and includes information such as when the booking was made, length of stay, the number of adults, children, and/or babies, and the number of available parking spaces, among other things. All personally identifying information has been removed from the data. </b>\n",
        "\n",
        "## <b> Explore and analyze the data to discover important factors that govern the bookings. </b>"
      ]
    },
    {
      "cell_type": "code",
      "metadata": {
        "colab": {
          "base_uri": "https://localhost:8080/"
        },
        "id": "HWSVyWonE1DB",
        "outputId": "1cae78fb-334e-4a7e-d4d9-686d6ace9134"
      },
      "source": [
        "from google.colab import drive\n",
        "drive.mount('/content/drive')"
      ],
      "execution_count": null,
      "outputs": [
        {
          "output_type": "stream",
          "text": [
            "Mounted at /content/drive\n"
          ],
          "name": "stdout"
        }
      ]
    },
    {
      "cell_type": "code",
      "metadata": {
        "id": "dByMsuzT8Tnw"
      },
      "source": [
        "import pandas as pd\n",
        "import numpy as np\n",
        "import matplotlib.pyplot as plt\n",
        "import seaborn as sns\n",
        "% matplotlib inline"
      ],
      "execution_count": null,
      "outputs": []
    },
    {
      "cell_type": "code",
      "metadata": {
        "id": "A_Yuq6IUFPfs"
      },
      "source": [
        "file_path = '/content/drive/MyDrive/Colab Notebooks/Almabetter/CAPSTONE PROJECT/PROJECT-1 EDA/HOTEL BOOKING EDA/Hotel Bookings.csv'"
      ],
      "execution_count": null,
      "outputs": []
    },
    {
      "cell_type": "code",
      "metadata": {
        "id": "pwfOGWgoFdIL"
      },
      "source": [
        "hotel_df = pd.read_csv(file_path)"
      ],
      "execution_count": null,
      "outputs": []
    },
    {
      "cell_type": "code",
      "metadata": {
        "colab": {
          "base_uri": "https://localhost:8080/",
          "height": 216
        },
        "id": "3Sy08kHXFjKa",
        "outputId": "ea50e0ca-577c-4ee7-cbae-197e83f47b71"
      },
      "source": [
        "hotel_df.head(3)"
      ],
      "execution_count": null,
      "outputs": [
        {
          "output_type": "execute_result",
          "data": {
            "text/html": [
              "<div>\n",
              "<style scoped>\n",
              "    .dataframe tbody tr th:only-of-type {\n",
              "        vertical-align: middle;\n",
              "    }\n",
              "\n",
              "    .dataframe tbody tr th {\n",
              "        vertical-align: top;\n",
              "    }\n",
              "\n",
              "    .dataframe thead th {\n",
              "        text-align: right;\n",
              "    }\n",
              "</style>\n",
              "<table border=\"1\" class=\"dataframe\">\n",
              "  <thead>\n",
              "    <tr style=\"text-align: right;\">\n",
              "      <th></th>\n",
              "      <th>hotel</th>\n",
              "      <th>is_canceled</th>\n",
              "      <th>lead_time</th>\n",
              "      <th>arrival_date_year</th>\n",
              "      <th>arrival_date_month</th>\n",
              "      <th>arrival_date_week_number</th>\n",
              "      <th>arrival_date_day_of_month</th>\n",
              "      <th>stays_in_weekend_nights</th>\n",
              "      <th>stays_in_week_nights</th>\n",
              "      <th>adults</th>\n",
              "      <th>children</th>\n",
              "      <th>babies</th>\n",
              "      <th>meal</th>\n",
              "      <th>country</th>\n",
              "      <th>market_segment</th>\n",
              "      <th>distribution_channel</th>\n",
              "      <th>is_repeated_guest</th>\n",
              "      <th>previous_cancellations</th>\n",
              "      <th>previous_bookings_not_canceled</th>\n",
              "      <th>reserved_room_type</th>\n",
              "      <th>assigned_room_type</th>\n",
              "      <th>booking_changes</th>\n",
              "      <th>deposit_type</th>\n",
              "      <th>agent</th>\n",
              "      <th>company</th>\n",
              "      <th>days_in_waiting_list</th>\n",
              "      <th>customer_type</th>\n",
              "      <th>adr</th>\n",
              "      <th>required_car_parking_spaces</th>\n",
              "      <th>total_of_special_requests</th>\n",
              "      <th>reservation_status</th>\n",
              "      <th>reservation_status_date</th>\n",
              "    </tr>\n",
              "  </thead>\n",
              "  <tbody>\n",
              "    <tr>\n",
              "      <th>0</th>\n",
              "      <td>Resort Hotel</td>\n",
              "      <td>0</td>\n",
              "      <td>342</td>\n",
              "      <td>2015</td>\n",
              "      <td>July</td>\n",
              "      <td>27</td>\n",
              "      <td>1</td>\n",
              "      <td>0</td>\n",
              "      <td>0</td>\n",
              "      <td>2</td>\n",
              "      <td>0.0</td>\n",
              "      <td>0</td>\n",
              "      <td>BB</td>\n",
              "      <td>PRT</td>\n",
              "      <td>Direct</td>\n",
              "      <td>Direct</td>\n",
              "      <td>0</td>\n",
              "      <td>0</td>\n",
              "      <td>0</td>\n",
              "      <td>C</td>\n",
              "      <td>C</td>\n",
              "      <td>3</td>\n",
              "      <td>No Deposit</td>\n",
              "      <td>NaN</td>\n",
              "      <td>NaN</td>\n",
              "      <td>0</td>\n",
              "      <td>Transient</td>\n",
              "      <td>0.0</td>\n",
              "      <td>0</td>\n",
              "      <td>0</td>\n",
              "      <td>Check-Out</td>\n",
              "      <td>01-07-15</td>\n",
              "    </tr>\n",
              "    <tr>\n",
              "      <th>1</th>\n",
              "      <td>Resort Hotel</td>\n",
              "      <td>0</td>\n",
              "      <td>737</td>\n",
              "      <td>2015</td>\n",
              "      <td>July</td>\n",
              "      <td>27</td>\n",
              "      <td>1</td>\n",
              "      <td>0</td>\n",
              "      <td>0</td>\n",
              "      <td>2</td>\n",
              "      <td>0.0</td>\n",
              "      <td>0</td>\n",
              "      <td>BB</td>\n",
              "      <td>PRT</td>\n",
              "      <td>Direct</td>\n",
              "      <td>Direct</td>\n",
              "      <td>0</td>\n",
              "      <td>0</td>\n",
              "      <td>0</td>\n",
              "      <td>C</td>\n",
              "      <td>C</td>\n",
              "      <td>4</td>\n",
              "      <td>No Deposit</td>\n",
              "      <td>NaN</td>\n",
              "      <td>NaN</td>\n",
              "      <td>0</td>\n",
              "      <td>Transient</td>\n",
              "      <td>0.0</td>\n",
              "      <td>0</td>\n",
              "      <td>0</td>\n",
              "      <td>Check-Out</td>\n",
              "      <td>01-07-15</td>\n",
              "    </tr>\n",
              "    <tr>\n",
              "      <th>2</th>\n",
              "      <td>Resort Hotel</td>\n",
              "      <td>0</td>\n",
              "      <td>7</td>\n",
              "      <td>2015</td>\n",
              "      <td>July</td>\n",
              "      <td>27</td>\n",
              "      <td>1</td>\n",
              "      <td>0</td>\n",
              "      <td>1</td>\n",
              "      <td>1</td>\n",
              "      <td>0.0</td>\n",
              "      <td>0</td>\n",
              "      <td>BB</td>\n",
              "      <td>GBR</td>\n",
              "      <td>Direct</td>\n",
              "      <td>Direct</td>\n",
              "      <td>0</td>\n",
              "      <td>0</td>\n",
              "      <td>0</td>\n",
              "      <td>A</td>\n",
              "      <td>C</td>\n",
              "      <td>0</td>\n",
              "      <td>No Deposit</td>\n",
              "      <td>NaN</td>\n",
              "      <td>NaN</td>\n",
              "      <td>0</td>\n",
              "      <td>Transient</td>\n",
              "      <td>75.0</td>\n",
              "      <td>0</td>\n",
              "      <td>0</td>\n",
              "      <td>Check-Out</td>\n",
              "      <td>02-07-15</td>\n",
              "    </tr>\n",
              "  </tbody>\n",
              "</table>\n",
              "</div>"
            ],
            "text/plain": [
              "          hotel  is_canceled  ...  reservation_status  reservation_status_date\n",
              "0  Resort Hotel            0  ...           Check-Out                 01-07-15\n",
              "1  Resort Hotel            0  ...           Check-Out                 01-07-15\n",
              "2  Resort Hotel            0  ...           Check-Out                 02-07-15\n",
              "\n",
              "[3 rows x 32 columns]"
            ]
          },
          "metadata": {
            "tags": []
          },
          "execution_count": 75
        }
      ]
    },
    {
      "cell_type": "code",
      "metadata": {
        "colab": {
          "base_uri": "https://localhost:8080/"
        },
        "id": "GBSTKCY4FnfJ",
        "outputId": "84ed752f-ef8f-4d12-96f4-51f582ebd96b"
      },
      "source": [
        "hotel_df.info()"
      ],
      "execution_count": null,
      "outputs": [
        {
          "output_type": "stream",
          "text": [
            "<class 'pandas.core.frame.DataFrame'>\n",
            "RangeIndex: 119390 entries, 0 to 119389\n",
            "Data columns (total 32 columns):\n",
            " #   Column                          Non-Null Count   Dtype  \n",
            "---  ------                          --------------   -----  \n",
            " 0   hotel                           119390 non-null  object \n",
            " 1   is_canceled                     119390 non-null  int64  \n",
            " 2   lead_time                       119390 non-null  int64  \n",
            " 3   arrival_date_year               119390 non-null  int64  \n",
            " 4   arrival_date_month              119390 non-null  object \n",
            " 5   arrival_date_week_number        119390 non-null  int64  \n",
            " 6   arrival_date_day_of_month       119390 non-null  int64  \n",
            " 7   stays_in_weekend_nights         119390 non-null  int64  \n",
            " 8   stays_in_week_nights            119390 non-null  int64  \n",
            " 9   adults                          119390 non-null  int64  \n",
            " 10  children                        119386 non-null  float64\n",
            " 11  babies                          119390 non-null  int64  \n",
            " 12  meal                            119390 non-null  object \n",
            " 13  country                         118902 non-null  object \n",
            " 14  market_segment                  119390 non-null  object \n",
            " 15  distribution_channel            119390 non-null  object \n",
            " 16  is_repeated_guest               119390 non-null  int64  \n",
            " 17  previous_cancellations          119390 non-null  int64  \n",
            " 18  previous_bookings_not_canceled  119390 non-null  int64  \n",
            " 19  reserved_room_type              119390 non-null  object \n",
            " 20  assigned_room_type              119390 non-null  object \n",
            " 21  booking_changes                 119390 non-null  int64  \n",
            " 22  deposit_type                    119390 non-null  object \n",
            " 23  agent                           103050 non-null  float64\n",
            " 24  company                         6797 non-null    float64\n",
            " 25  days_in_waiting_list            119390 non-null  int64  \n",
            " 26  customer_type                   119390 non-null  object \n",
            " 27  adr                             119390 non-null  float64\n",
            " 28  required_car_parking_spaces     119390 non-null  int64  \n",
            " 29  total_of_special_requests       119390 non-null  int64  \n",
            " 30  reservation_status              119390 non-null  object \n",
            " 31  reservation_status_date         119390 non-null  object \n",
            "dtypes: float64(4), int64(16), object(12)\n",
            "memory usage: 29.1+ MB\n"
          ],
          "name": "stdout"
        }
      ]
    },
    {
      "cell_type": "code",
      "metadata": {
        "colab": {
          "base_uri": "https://localhost:8080/",
          "height": 320
        },
        "id": "3GfSxh1wFtqu",
        "outputId": "55578cfa-a46e-463d-9044-d42c2c66f32c"
      },
      "source": [
        "hotel_df.describe()"
      ],
      "execution_count": null,
      "outputs": [
        {
          "output_type": "execute_result",
          "data": {
            "text/html": [
              "<div>\n",
              "<style scoped>\n",
              "    .dataframe tbody tr th:only-of-type {\n",
              "        vertical-align: middle;\n",
              "    }\n",
              "\n",
              "    .dataframe tbody tr th {\n",
              "        vertical-align: top;\n",
              "    }\n",
              "\n",
              "    .dataframe thead th {\n",
              "        text-align: right;\n",
              "    }\n",
              "</style>\n",
              "<table border=\"1\" class=\"dataframe\">\n",
              "  <thead>\n",
              "    <tr style=\"text-align: right;\">\n",
              "      <th></th>\n",
              "      <th>is_canceled</th>\n",
              "      <th>lead_time</th>\n",
              "      <th>arrival_date_year</th>\n",
              "      <th>arrival_date_week_number</th>\n",
              "      <th>arrival_date_day_of_month</th>\n",
              "      <th>stays_in_weekend_nights</th>\n",
              "      <th>stays_in_week_nights</th>\n",
              "      <th>adults</th>\n",
              "      <th>children</th>\n",
              "      <th>babies</th>\n",
              "      <th>is_repeated_guest</th>\n",
              "      <th>previous_cancellations</th>\n",
              "      <th>previous_bookings_not_canceled</th>\n",
              "      <th>booking_changes</th>\n",
              "      <th>agent</th>\n",
              "      <th>company</th>\n",
              "      <th>days_in_waiting_list</th>\n",
              "      <th>adr</th>\n",
              "      <th>required_car_parking_spaces</th>\n",
              "      <th>total_of_special_requests</th>\n",
              "    </tr>\n",
              "  </thead>\n",
              "  <tbody>\n",
              "    <tr>\n",
              "      <th>count</th>\n",
              "      <td>119390.000000</td>\n",
              "      <td>119390.000000</td>\n",
              "      <td>119390.000000</td>\n",
              "      <td>119390.000000</td>\n",
              "      <td>119390.000000</td>\n",
              "      <td>119390.000000</td>\n",
              "      <td>119390.000000</td>\n",
              "      <td>119390.000000</td>\n",
              "      <td>119386.000000</td>\n",
              "      <td>119390.000000</td>\n",
              "      <td>119390.000000</td>\n",
              "      <td>119390.000000</td>\n",
              "      <td>119390.000000</td>\n",
              "      <td>119390.000000</td>\n",
              "      <td>103050.000000</td>\n",
              "      <td>6797.000000</td>\n",
              "      <td>119390.000000</td>\n",
              "      <td>119390.000000</td>\n",
              "      <td>119390.000000</td>\n",
              "      <td>119390.000000</td>\n",
              "    </tr>\n",
              "    <tr>\n",
              "      <th>mean</th>\n",
              "      <td>0.370416</td>\n",
              "      <td>104.011416</td>\n",
              "      <td>2016.156554</td>\n",
              "      <td>27.165173</td>\n",
              "      <td>15.798241</td>\n",
              "      <td>0.927599</td>\n",
              "      <td>2.500302</td>\n",
              "      <td>1.856403</td>\n",
              "      <td>0.103890</td>\n",
              "      <td>0.007949</td>\n",
              "      <td>0.031912</td>\n",
              "      <td>0.087118</td>\n",
              "      <td>0.137097</td>\n",
              "      <td>0.221124</td>\n",
              "      <td>86.693382</td>\n",
              "      <td>189.266735</td>\n",
              "      <td>2.321149</td>\n",
              "      <td>101.831122</td>\n",
              "      <td>0.062518</td>\n",
              "      <td>0.571363</td>\n",
              "    </tr>\n",
              "    <tr>\n",
              "      <th>std</th>\n",
              "      <td>0.482918</td>\n",
              "      <td>106.863097</td>\n",
              "      <td>0.707476</td>\n",
              "      <td>13.605138</td>\n",
              "      <td>8.780829</td>\n",
              "      <td>0.998613</td>\n",
              "      <td>1.908286</td>\n",
              "      <td>0.579261</td>\n",
              "      <td>0.398561</td>\n",
              "      <td>0.097436</td>\n",
              "      <td>0.175767</td>\n",
              "      <td>0.844336</td>\n",
              "      <td>1.497437</td>\n",
              "      <td>0.652306</td>\n",
              "      <td>110.774548</td>\n",
              "      <td>131.655015</td>\n",
              "      <td>17.594721</td>\n",
              "      <td>50.535790</td>\n",
              "      <td>0.245291</td>\n",
              "      <td>0.792798</td>\n",
              "    </tr>\n",
              "    <tr>\n",
              "      <th>min</th>\n",
              "      <td>0.000000</td>\n",
              "      <td>0.000000</td>\n",
              "      <td>2015.000000</td>\n",
              "      <td>1.000000</td>\n",
              "      <td>1.000000</td>\n",
              "      <td>0.000000</td>\n",
              "      <td>0.000000</td>\n",
              "      <td>0.000000</td>\n",
              "      <td>0.000000</td>\n",
              "      <td>0.000000</td>\n",
              "      <td>0.000000</td>\n",
              "      <td>0.000000</td>\n",
              "      <td>0.000000</td>\n",
              "      <td>0.000000</td>\n",
              "      <td>1.000000</td>\n",
              "      <td>6.000000</td>\n",
              "      <td>0.000000</td>\n",
              "      <td>-6.380000</td>\n",
              "      <td>0.000000</td>\n",
              "      <td>0.000000</td>\n",
              "    </tr>\n",
              "    <tr>\n",
              "      <th>25%</th>\n",
              "      <td>0.000000</td>\n",
              "      <td>18.000000</td>\n",
              "      <td>2016.000000</td>\n",
              "      <td>16.000000</td>\n",
              "      <td>8.000000</td>\n",
              "      <td>0.000000</td>\n",
              "      <td>1.000000</td>\n",
              "      <td>2.000000</td>\n",
              "      <td>0.000000</td>\n",
              "      <td>0.000000</td>\n",
              "      <td>0.000000</td>\n",
              "      <td>0.000000</td>\n",
              "      <td>0.000000</td>\n",
              "      <td>0.000000</td>\n",
              "      <td>9.000000</td>\n",
              "      <td>62.000000</td>\n",
              "      <td>0.000000</td>\n",
              "      <td>69.290000</td>\n",
              "      <td>0.000000</td>\n",
              "      <td>0.000000</td>\n",
              "    </tr>\n",
              "    <tr>\n",
              "      <th>50%</th>\n",
              "      <td>0.000000</td>\n",
              "      <td>69.000000</td>\n",
              "      <td>2016.000000</td>\n",
              "      <td>28.000000</td>\n",
              "      <td>16.000000</td>\n",
              "      <td>1.000000</td>\n",
              "      <td>2.000000</td>\n",
              "      <td>2.000000</td>\n",
              "      <td>0.000000</td>\n",
              "      <td>0.000000</td>\n",
              "      <td>0.000000</td>\n",
              "      <td>0.000000</td>\n",
              "      <td>0.000000</td>\n",
              "      <td>0.000000</td>\n",
              "      <td>14.000000</td>\n",
              "      <td>179.000000</td>\n",
              "      <td>0.000000</td>\n",
              "      <td>94.575000</td>\n",
              "      <td>0.000000</td>\n",
              "      <td>0.000000</td>\n",
              "    </tr>\n",
              "    <tr>\n",
              "      <th>75%</th>\n",
              "      <td>1.000000</td>\n",
              "      <td>160.000000</td>\n",
              "      <td>2017.000000</td>\n",
              "      <td>38.000000</td>\n",
              "      <td>23.000000</td>\n",
              "      <td>2.000000</td>\n",
              "      <td>3.000000</td>\n",
              "      <td>2.000000</td>\n",
              "      <td>0.000000</td>\n",
              "      <td>0.000000</td>\n",
              "      <td>0.000000</td>\n",
              "      <td>0.000000</td>\n",
              "      <td>0.000000</td>\n",
              "      <td>0.000000</td>\n",
              "      <td>229.000000</td>\n",
              "      <td>270.000000</td>\n",
              "      <td>0.000000</td>\n",
              "      <td>126.000000</td>\n",
              "      <td>0.000000</td>\n",
              "      <td>1.000000</td>\n",
              "    </tr>\n",
              "    <tr>\n",
              "      <th>max</th>\n",
              "      <td>1.000000</td>\n",
              "      <td>737.000000</td>\n",
              "      <td>2017.000000</td>\n",
              "      <td>53.000000</td>\n",
              "      <td>31.000000</td>\n",
              "      <td>19.000000</td>\n",
              "      <td>50.000000</td>\n",
              "      <td>55.000000</td>\n",
              "      <td>10.000000</td>\n",
              "      <td>10.000000</td>\n",
              "      <td>1.000000</td>\n",
              "      <td>26.000000</td>\n",
              "      <td>72.000000</td>\n",
              "      <td>21.000000</td>\n",
              "      <td>535.000000</td>\n",
              "      <td>543.000000</td>\n",
              "      <td>391.000000</td>\n",
              "      <td>5400.000000</td>\n",
              "      <td>8.000000</td>\n",
              "      <td>5.000000</td>\n",
              "    </tr>\n",
              "  </tbody>\n",
              "</table>\n",
              "</div>"
            ],
            "text/plain": [
              "         is_canceled  ...  total_of_special_requests\n",
              "count  119390.000000  ...              119390.000000\n",
              "mean        0.370416  ...                   0.571363\n",
              "std         0.482918  ...                   0.792798\n",
              "min         0.000000  ...                   0.000000\n",
              "25%         0.000000  ...                   0.000000\n",
              "50%         0.000000  ...                   0.000000\n",
              "75%         1.000000  ...                   1.000000\n",
              "max         1.000000  ...                   5.000000\n",
              "\n",
              "[8 rows x 20 columns]"
            ]
          },
          "metadata": {
            "tags": []
          },
          "execution_count": 77
        }
      ]
    },
    {
      "cell_type": "markdown",
      "metadata": {
        "id": "RXU83wQinjcB"
      },
      "source": [
        "## DATA CLEANING"
      ]
    },
    {
      "cell_type": "code",
      "metadata": {
        "id": "AUIjDu74bhLe"
      },
      "source": [
        "hotel_df_copy=hotel_df.copy()\n",
        "#replacing the null value of agent and company column\n",
        "hotel_df_copy[['agent','company']]=hotel_df_copy[['agent','company']].fillna(0)\n",
        "#finding which country is occuring most of time \n",
        "hotel_df_copy['country'].mode()\n",
        "#replacing the null value \n",
        "hotel_df_copy['country'].fillna('PRT',inplace=True)\n",
        "children_mean=hotel_df_copy['children'].mean()\n",
        "hotel_df_copy['children'].fillna(children_mean,inplace=True)\n",
        "# type conversion from float to int\n",
        "hotel_df_copy[['agent','company','children']]=hotel_df_copy[['agent','company','children']].astype('int64')\n",
        "# droping the row in which thier number of customer is zero\n",
        "hotel_df_copy=hotel_df_copy.drop(hotel_df_copy[(hotel_df_copy.children+hotel_df_copy.adults+hotel_df_copy.babies)==0].index)"
      ],
      "execution_count": null,
      "outputs": []
    },
    {
      "cell_type": "markdown",
      "metadata": {
        "id": "IPs9YznukPUe"
      },
      "source": [
        "## In this analysis, we are going to answer the below mentioned questions:-\n",
        "\n",
        "\n",
        "*   What is **Booking Percentage** and **Cancellation Percentage** between Resort Hotel and City Hotel?\n",
        "*   What is the **Conversion Rate** of City Hotel and Resort Hotel?\n",
        "*   What **kind of Trend** is observed in Resort Hotel and City Hotel over the years?\n",
        "*   Whether in all countries same type of Hotel is preferred? If not, list **top 10 countries having city hotel** as preferred hotel and **top 10 countries having Resort Hotel** as preferred hotel.\n",
        "*   Do some analysis and figure out the variation in Average Daily Rate(ADR) with room type across different months in the year? \n",
        "\n",
        "\n",
        "\n",
        "\n",
        "\n",
        "\n"
      ]
    },
    {
      "cell_type": "markdown",
      "metadata": {
        "id": "zUK_KRqeuLhg"
      },
      "source": [
        "##1. What is **Booking Percentage** and **Cancellation Percentage** between Resort Hotel and City Hotel?\n",
        "\n"
      ]
    },
    {
      "cell_type": "markdown",
      "metadata": {
        "id": "omcKdVeSzJdH"
      },
      "source": [
        "Before going deep, we have to first analyze what the data is giving us at the outer level. So, we will handle the basic question of which hotel type is preferred more and what are the possible reasons behind it.\n",
        "\n",
        "As we have made a copy of the original dataframe **hotel_df**, going further we will use the copy of hotel_df i.e, **hotel_df_copy**.  "
      ]
    },
    {
      "cell_type": "code",
      "metadata": {
        "id": "dQ0rXgcny8-X"
      },
      "source": [
        "# Creating a Dataframe cancellation_df from hotel_df_copy.\n",
        "cancellation_df = hotel_df_copy.groupby(['hotel','is_canceled'])['is_canceled'].count().unstack()\n",
        "cancellation_df"
      ],
      "execution_count": null,
      "outputs": []
    },
    {
      "cell_type": "code",
      "metadata": {
        "colab": {
          "base_uri": "https://localhost:8080/",
          "height": 144
        },
        "id": "OfUQ1Lrr4pgt",
        "outputId": "93717933-2cf0-473b-891f-a98979570f9f"
      },
      "source": [
        "cancellation_df"
      ],
      "execution_count": null,
      "outputs": [
        {
          "output_type": "execute_result",
          "data": {
            "text/html": [
              "<div>\n",
              "<style scoped>\n",
              "    .dataframe tbody tr th:only-of-type {\n",
              "        vertical-align: middle;\n",
              "    }\n",
              "\n",
              "    .dataframe tbody tr th {\n",
              "        vertical-align: top;\n",
              "    }\n",
              "\n",
              "    .dataframe thead th {\n",
              "        text-align: right;\n",
              "    }\n",
              "</style>\n",
              "<table border=\"1\" class=\"dataframe\">\n",
              "  <thead>\n",
              "    <tr style=\"text-align: right;\">\n",
              "      <th>is_canceled</th>\n",
              "      <th>0</th>\n",
              "      <th>1</th>\n",
              "    </tr>\n",
              "    <tr>\n",
              "      <th>hotel</th>\n",
              "      <th></th>\n",
              "      <th></th>\n",
              "    </tr>\n",
              "  </thead>\n",
              "  <tbody>\n",
              "    <tr>\n",
              "      <th>City Hotel</th>\n",
              "      <td>46084</td>\n",
              "      <td>33079</td>\n",
              "    </tr>\n",
              "    <tr>\n",
              "      <th>Resort Hotel</th>\n",
              "      <td>28927</td>\n",
              "      <td>11120</td>\n",
              "    </tr>\n",
              "  </tbody>\n",
              "</table>\n",
              "</div>"
            ],
            "text/plain": [
              "is_canceled       0      1\n",
              "hotel                     \n",
              "City Hotel    46084  33079\n",
              "Resort Hotel  28927  11120"
            ]
          },
          "metadata": {
            "tags": []
          },
          "execution_count": 80
        }
      ]
    },
    {
      "cell_type": "code",
      "metadata": {
        "id": "qzrhKzeY-uyU",
        "colab": {
          "base_uri": "https://localhost:8080/",
          "height": 144
        },
        "outputId": "5856a350-cb58-4ac6-f783-933c288ff511"
      },
      "source": [
        "#Rename the column name from 0 & 1 to canceled bookings and confirmed bookings respectively.\n",
        "cancellation_df.rename(columns = {1:'canceled bookings',0:'confirmed bookings'}, inplace= True)\n",
        "#Creating a new column to calculate Total Booking as per hotel type\n",
        "cancellation_df['Total_booking_hotel_wise'] = cancellation_df['confirmed bookings']+ cancellation_df['canceled bookings']\n",
        "# Creating a variable Total_booking and assigning it the total no. of bookings from 2015 to 2017\n",
        "Total_booking = cancellation_df['Total_booking_hotel_wise'].sum()\n",
        "#Calculate the Booking Percentage of Resort hotel and City hotel as compared to Total_booking\n",
        "cancellation_df['Booking_%_wrt_total_booking'] = (cancellation_df['Total_booking_hotel_wise']/Total_booking)*100\n",
        "cancellation_df"
      ],
      "execution_count": null,
      "outputs": [
        {
          "output_type": "execute_result",
          "data": {
            "text/html": [
              "<div>\n",
              "<style scoped>\n",
              "    .dataframe tbody tr th:only-of-type {\n",
              "        vertical-align: middle;\n",
              "    }\n",
              "\n",
              "    .dataframe tbody tr th {\n",
              "        vertical-align: top;\n",
              "    }\n",
              "\n",
              "    .dataframe thead th {\n",
              "        text-align: right;\n",
              "    }\n",
              "</style>\n",
              "<table border=\"1\" class=\"dataframe\">\n",
              "  <thead>\n",
              "    <tr style=\"text-align: right;\">\n",
              "      <th>is_canceled</th>\n",
              "      <th>confirmed bookings</th>\n",
              "      <th>canceled bookings</th>\n",
              "      <th>Total_booking_hotel_wise</th>\n",
              "      <th>Booking_%_wrt_total_booking</th>\n",
              "    </tr>\n",
              "    <tr>\n",
              "      <th>hotel</th>\n",
              "      <th></th>\n",
              "      <th></th>\n",
              "      <th></th>\n",
              "      <th></th>\n",
              "    </tr>\n",
              "  </thead>\n",
              "  <tbody>\n",
              "    <tr>\n",
              "      <th>City Hotel</th>\n",
              "      <td>46084</td>\n",
              "      <td>33079</td>\n",
              "      <td>79163</td>\n",
              "      <td>66.406342</td>\n",
              "    </tr>\n",
              "    <tr>\n",
              "      <th>Resort Hotel</th>\n",
              "      <td>28927</td>\n",
              "      <td>11120</td>\n",
              "      <td>40047</td>\n",
              "      <td>33.593658</td>\n",
              "    </tr>\n",
              "  </tbody>\n",
              "</table>\n",
              "</div>"
            ],
            "text/plain": [
              "is_canceled   confirmed bookings  ...  Booking_%_wrt_total_booking\n",
              "hotel                             ...                             \n",
              "City Hotel                 46084  ...                    66.406342\n",
              "Resort Hotel               28927  ...                    33.593658\n",
              "\n",
              "[2 rows x 4 columns]"
            ]
          },
          "metadata": {
            "tags": []
          },
          "execution_count": 81
        }
      ]
    },
    {
      "cell_type": "code",
      "metadata": {
        "colab": {
          "base_uri": "https://localhost:8080/",
          "height": 580
        },
        "id": "Wymg4mS29nFm",
        "outputId": "b74e595e-a6f7-4b95-8e7f-a27f84c09bbe"
      },
      "source": [
        "#Plot the Pie chart to Visualise the booking percentage\n",
        "ax1= cancellation_df.plot.pie(y='Booking_%_wrt_total_booking',figsize=(10,9),fontsize= 15, autopct='%1.2f%%')\n",
        "ax1.set_title('Overall Booking Analysis\\n City Hotel Vs Resort Hotel', fontsize= 20)\n",
        "ax1.legend(fontsize= 16)"
      ],
      "execution_count": null,
      "outputs": [
        {
          "output_type": "execute_result",
          "data": {
            "text/plain": [
              "<matplotlib.legend.Legend at 0x7f475595d5d0>"
            ]
          },
          "metadata": {
            "tags": []
          },
          "execution_count": 127
        },
        {
          "output_type": "display_data",
          "data": {
            "image/png": "[encoded data removed]",
            "text/plain": [
              "<Figure size 720x648 with 1 Axes>"
            ]
          },
          "metadata": {
            "tags": []
          }
        }
      ]
    },
    {
      "cell_type": "markdown",
      "metadata": {
        "id": "-ZcoXgGKqnzC"
      },
      "source": [
        "### As per the given Dataset from the year 2015 to year 2017, City Hotel is preferred by **66.45%** of people. The possible reasons may be because of \n",
        "### 1. **Low Cost:** The stay at a city hotel is cheaper as compared to Resort Hotel\n",
        "### 2. **Easy availability:** The number of City Hotel is more than Resort Hotel \n",
        "### The above graph shows overall booking status which includes the cancelled booking also, in futher study, we will dig down and study how the cancellation data is affecting our above data?"
      ]
    },
    {
      "cell_type": "code",
      "metadata": {
        "id": "iF9GZUB4CQVl",
        "colab": {
          "base_uri": "https://localhost:8080/",
          "height": 144
        },
        "outputId": "49f84572-1b5f-4a1a-fcb4-a48f86454f89"
      },
      "source": [
        "# Total_Cancellation will store the summation of column canceled booking\n",
        "Total_cancellation = cancellation_df['canceled bookings'].sum()\n",
        "#creating a column to show the Overall cancellation Percentage\n",
        "cancellation_df['cancellation_%_wrt_total_booking'] = (cancellation_df['canceled bookings']/Total_booking)*100\n",
        "cancellation_df"
      ],
      "execution_count": null,
      "outputs": [
        {
          "output_type": "execute_result",
          "data": {
            "text/html": [
              "<div>\n",
              "<style scoped>\n",
              "    .dataframe tbody tr th:only-of-type {\n",
              "        vertical-align: middle;\n",
              "    }\n",
              "\n",
              "    .dataframe tbody tr th {\n",
              "        vertical-align: top;\n",
              "    }\n",
              "\n",
              "    .dataframe thead th {\n",
              "        text-align: right;\n",
              "    }\n",
              "</style>\n",
              "<table border=\"1\" class=\"dataframe\">\n",
              "  <thead>\n",
              "    <tr style=\"text-align: right;\">\n",
              "      <th>is_canceled</th>\n",
              "      <th>confirmed bookings</th>\n",
              "      <th>canceled bookings</th>\n",
              "      <th>Total_booking_hotel_wise</th>\n",
              "      <th>Booking_%_wrt_total_booking</th>\n",
              "      <th>cancellation_%_wrt_total_booking</th>\n",
              "    </tr>\n",
              "    <tr>\n",
              "      <th>hotel</th>\n",
              "      <th></th>\n",
              "      <th></th>\n",
              "      <th></th>\n",
              "      <th></th>\n",
              "      <th></th>\n",
              "    </tr>\n",
              "  </thead>\n",
              "  <tbody>\n",
              "    <tr>\n",
              "      <th>City Hotel</th>\n",
              "      <td>46084</td>\n",
              "      <td>33079</td>\n",
              "      <td>79163</td>\n",
              "      <td>66.406342</td>\n",
              "      <td>27.748511</td>\n",
              "    </tr>\n",
              "    <tr>\n",
              "      <th>Resort Hotel</th>\n",
              "      <td>28927</td>\n",
              "      <td>11120</td>\n",
              "      <td>40047</td>\n",
              "      <td>33.593658</td>\n",
              "      <td>9.328077</td>\n",
              "    </tr>\n",
              "  </tbody>\n",
              "</table>\n",
              "</div>"
            ],
            "text/plain": [
              "is_canceled   confirmed bookings  ...  cancellation_%_wrt_total_booking\n",
              "hotel                             ...                                  \n",
              "City Hotel                 46084  ...                         27.748511\n",
              "Resort Hotel               28927  ...                          9.328077\n",
              "\n",
              "[2 rows x 5 columns]"
            ]
          },
          "metadata": {
            "tags": []
          },
          "execution_count": 83
        }
      ]
    },
    {
      "cell_type": "code",
      "metadata": {
        "colab": {
          "base_uri": "https://localhost:8080/",
          "height": 606
        },
        "id": "U4KKiryl_-kB",
        "outputId": "8153ad2e-08a8-4074-916b-cfdf2e530a7a"
      },
      "source": [
        "#Plotting the Overall cancellation Percentage of both City Hotel and Resort Hotel\n",
        "ax1 = cancellation_df.plot.bar(y= 'cancellation_%_wrt_total_booking', figsize= (10,9), fontsize=16,rot=0)\n",
        "ax1.set_title('Cancellation Analysis\\n City Hotel Vs Resort Hotel', fontsize=20)\n",
        "ax1.legend(fontsize=15)\n",
        "ax1.set_xlabel('Hotel Types', fontsize=18)\n",
        "ax1.set_ylabel('Percentage(%)', fontsize=18)\n",
        "for index, data in enumerate(cancellation_df['cancellation_%_wrt_total_booking']):\n",
        "  plt.text(x= index,y=data+0.25, s= f'{round(data,2)}%' , fontdict=dict(fontsize=20), ha='center')"
      ],
      "execution_count": null,
      "outputs": [
        {
          "output_type": "display_data",
          "data": {
            "image/png": "[encoded data removed]",
            "text/plain": [
              "<Figure size 720x648 with 1 Axes>"
            ]
          },
          "metadata": {
            "tags": [],
            "needs_background": "light"
          }
        }
      ]
    },
    {
      "cell_type": "markdown",
      "metadata": {
        "id": "Hb-t1-bP1P4g"
      },
      "source": [
        "##**The results are quite unexpected!!**\n",
        "\n",
        "City_hotel has cancellation of almost 3 times the cancellation of Resort Hotel. The difference was quite massive. This study also give some below mentioned insights.\n",
        "1. Easy availability which was a factor in increasing the booking is also responsible for cancellation as the customer has more choice.\n",
        "2. The another factor is same as above i.e., Cheap Pricing. As the competition is more between City Hotels, the pricing of hotels tends to be in the lower side. It gives customer more options to choose from at a cheaper price.\n",
        "\n",
        "Let's find out the conversion rate of both hotel types. Coversion Rate tells us out of 100 hotels booked, how many will be converted to a confirmed booking."
      ]
    },
    {
      "cell_type": "markdown",
      "metadata": {
        "id": "jDJAYp4ruZNJ"
      },
      "source": [
        "##2. What is the **Conversion Rate** of City Hotel and Resort Hotel?"
      ]
    },
    {
      "cell_type": "code",
      "metadata": {
        "id": "lviGeQnQBakm"
      },
      "source": [
        "# Calculate conversion Rate\n",
        "cancellation_df['conversion Rate'] = (cancellation_df['confirmed bookings']/cancellation_df['Total_booking_hotel_wise'])*100"
      ],
      "execution_count": null,
      "outputs": []
    },
    {
      "cell_type": "code",
      "metadata": {
        "colab": {
          "base_uri": "https://localhost:8080/",
          "height": 144
        },
        "id": "mpfJNPhXGt9T",
        "outputId": "9aae1aef-04ae-4cc2-94a3-1e68aaba1614"
      },
      "source": [
        "cancellation_df"
      ],
      "execution_count": null,
      "outputs": [
        {
          "output_type": "execute_result",
          "data": {
            "text/html": [
              "<div>\n",
              "<style scoped>\n",
              "    .dataframe tbody tr th:only-of-type {\n",
              "        vertical-align: middle;\n",
              "    }\n",
              "\n",
              "    .dataframe tbody tr th {\n",
              "        vertical-align: top;\n",
              "    }\n",
              "\n",
              "    .dataframe thead th {\n",
              "        text-align: right;\n",
              "    }\n",
              "</style>\n",
              "<table border=\"1\" class=\"dataframe\">\n",
              "  <thead>\n",
              "    <tr style=\"text-align: right;\">\n",
              "      <th>is_canceled</th>\n",
              "      <th>confirmed bookings</th>\n",
              "      <th>canceled bookings</th>\n",
              "      <th>Total_booking_hotel_wise</th>\n",
              "      <th>Booking_%_wrt_total_booking</th>\n",
              "      <th>cancellation_%_wrt_total_booking</th>\n",
              "      <th>conversion Rate</th>\n",
              "    </tr>\n",
              "    <tr>\n",
              "      <th>hotel</th>\n",
              "      <th></th>\n",
              "      <th></th>\n",
              "      <th></th>\n",
              "      <th></th>\n",
              "      <th></th>\n",
              "      <th></th>\n",
              "    </tr>\n",
              "  </thead>\n",
              "  <tbody>\n",
              "    <tr>\n",
              "      <th>City Hotel</th>\n",
              "      <td>46084</td>\n",
              "      <td>33079</td>\n",
              "      <td>79163</td>\n",
              "      <td>66.406342</td>\n",
              "      <td>27.748511</td>\n",
              "      <td>58.214065</td>\n",
              "    </tr>\n",
              "    <tr>\n",
              "      <th>Resort Hotel</th>\n",
              "      <td>28927</td>\n",
              "      <td>11120</td>\n",
              "      <td>40047</td>\n",
              "      <td>33.593658</td>\n",
              "      <td>9.328077</td>\n",
              "      <td>72.232627</td>\n",
              "    </tr>\n",
              "  </tbody>\n",
              "</table>\n",
              "</div>"
            ],
            "text/plain": [
              "is_canceled   confirmed bookings  ...  conversion Rate\n",
              "hotel                             ...                 \n",
              "City Hotel                 46084  ...        58.214065\n",
              "Resort Hotel               28927  ...        72.232627\n",
              "\n",
              "[2 rows x 6 columns]"
            ]
          },
          "metadata": {
            "tags": []
          },
          "execution_count": 86
        }
      ]
    },
    {
      "cell_type": "code",
      "metadata": {
        "colab": {
          "base_uri": "https://localhost:8080/",
          "height": 582
        },
        "id": "ciRAu75NDjNg",
        "outputId": "1504f9f9-bae2-45b7-bef1-31d345cf63c8"
      },
      "source": [
        "# Plotting the bar graph to visualize the conversion rate\n",
        "ax1 = cancellation_df.plot.bar(y='conversion Rate',figsize= (10,9), width=0.35, fontsize=16, rot=0)\n",
        "ax1.set_title('Conversion Rate', fontsize=20)\n",
        "ax1.set_xlabel('Hotel Types', fontsize=16)\n",
        "ax1.set_ylabel('Conversion Rate', fontsize=16)\n",
        "ax1.legend(fontsize=16)\n",
        "for index,data in enumerate(cancellation_df['conversion Rate']):\n",
        "  plt.text(x=index , y =data+1 , s= f'{round(data,2)}%' , fontdict=dict(fontsize=20), ha='center')"
      ],
      "execution_count": null,
      "outputs": [
        {
          "output_type": "display_data",
          "data": {
            "image/png": "[encoded data removed]",
            "text/plain": [
              "<Figure size 720x648 with 1 Axes>"
            ]
          },
          "metadata": {
            "tags": [],
            "needs_background": "light"
          }
        }
      ]
    },
    {
      "cell_type": "markdown",
      "metadata": {
        "id": "4OnAb1C-8tAP"
      },
      "source": [
        "## **Another Boomer!!**\n",
        "\n",
        "Really saying, I didn't expect that! \n",
        "\n",
        "The conversion rate of City Hotel is near to 58% while for Resort Hotel, it is above 70%.\n",
        "\n",
        "From Resort Hotel point of view, we can say that, these types of hotel are premium in nature and booked after various types of planning. These hotels are generally used as vacation spots or function spots. Hence, the chances of being cancelled is quite less. The same thing, our data is showing above that conversion rate is much higher that City Hotel.\n"
      ]
    },
    {
      "cell_type": "markdown",
      "metadata": {
        "id": "aHcMqmmJVETL"
      },
      "source": [
        "In the above questions, we have seen tried to study and compare City Hotel type and resort Hotel Type with each other. Now, we are going to analyse over the years how the trends is changing in both the hotel types. Whether with each year, bookings are increasing, decreasing, or not changing."
      ]
    },
    {
      "cell_type": "markdown",
      "metadata": {
        "id": "CXEEtZmPuoQi"
      },
      "source": [
        "##3. What **kind of Trend** is observed in Resort Hotel and City Hotel over the years?"
      ]
    },
    {
      "cell_type": "markdown",
      "metadata": {
        "id": "Jyt90R8pWce-"
      },
      "source": [
        "We will create a dataframe **year_wise_df**, which carries the information of canceled booking, confirmed bookings, and the bookings that are NO Show."
      ]
    },
    {
      "cell_type": "code",
      "metadata": {
        "id": "MuGKz91jEl9T",
        "colab": {
          "base_uri": "https://localhost:8080/",
          "height": 300
        },
        "outputId": "5516662b-4781-4d23-d4cd-01de6dbf1234"
      },
      "source": [
        "year_wise_df = hotel_df_copy.groupby(['arrival_date_year','hotel','reservation_status'])[['reservation_status']].count().unstack()\n",
        "year_wise_df['total_booking'] = year_wise_df.sum(level=0, axis=1)\n",
        "year_wise_df['valid_booking %'] = (year_wise_df[('reservation_status','Check-Out')]/year_wise_df[('total_booking','')])*100\n",
        "year_wise_df"
      ],
      "execution_count": null,
      "outputs": [
        {
          "output_type": "execute_result",
          "data": {
            "text/html": [
              "<div>\n",
              "<style scoped>\n",
              "    .dataframe tbody tr th:only-of-type {\n",
              "        vertical-align: middle;\n",
              "    }\n",
              "\n",
              "    .dataframe tbody tr th {\n",
              "        vertical-align: top;\n",
              "    }\n",
              "\n",
              "    .dataframe thead tr th {\n",
              "        text-align: left;\n",
              "    }\n",
              "\n",
              "    .dataframe thead tr:last-of-type th {\n",
              "        text-align: right;\n",
              "    }\n",
              "</style>\n",
              "<table border=\"1\" class=\"dataframe\">\n",
              "  <thead>\n",
              "    <tr>\n",
              "      <th></th>\n",
              "      <th></th>\n",
              "      <th colspan=\"3\" halign=\"left\">reservation_status</th>\n",
              "      <th>total_booking</th>\n",
              "    </tr>\n",
              "    <tr>\n",
              "      <th></th>\n",
              "      <th>reservation_status</th>\n",
              "      <th>Canceled</th>\n",
              "      <th>Check-Out</th>\n",
              "      <th>No-Show</th>\n",
              "      <th></th>\n",
              "    </tr>\n",
              "    <tr>\n",
              "      <th>arrival_date_year</th>\n",
              "      <th>hotel</th>\n",
              "      <th></th>\n",
              "      <th></th>\n",
              "      <th></th>\n",
              "      <th></th>\n",
              "    </tr>\n",
              "  </thead>\n",
              "  <tbody>\n",
              "    <tr>\n",
              "      <th rowspan=\"2\" valign=\"top\">2015</th>\n",
              "      <th>City Hotel</th>\n",
              "      <td>5881</td>\n",
              "      <td>7655</td>\n",
              "      <td>122</td>\n",
              "      <td>13658</td>\n",
              "    </tr>\n",
              "    <tr>\n",
              "      <th>Resort Hotel</th>\n",
              "      <td>2069</td>\n",
              "      <td>6171</td>\n",
              "      <td>69</td>\n",
              "      <td>8309</td>\n",
              "    </tr>\n",
              "    <tr>\n",
              "      <th rowspan=\"2\" valign=\"top\">2016</th>\n",
              "      <th>City Hotel</th>\n",
              "      <td>14842</td>\n",
              "      <td>22663</td>\n",
              "      <td>554</td>\n",
              "      <td>38059</td>\n",
              "    </tr>\n",
              "    <tr>\n",
              "      <th>Resort Hotel</th>\n",
              "      <td>4815</td>\n",
              "      <td>13636</td>\n",
              "      <td>113</td>\n",
              "      <td>18564</td>\n",
              "    </tr>\n",
              "    <tr>\n",
              "      <th rowspan=\"2\" valign=\"top\">2017</th>\n",
              "      <th>City Hotel</th>\n",
              "      <td>11441</td>\n",
              "      <td>15766</td>\n",
              "      <td>239</td>\n",
              "      <td>27446</td>\n",
              "    </tr>\n",
              "    <tr>\n",
              "      <th>Resort Hotel</th>\n",
              "      <td>3945</td>\n",
              "      <td>9120</td>\n",
              "      <td>109</td>\n",
              "      <td>13174</td>\n",
              "    </tr>\n",
              "  </tbody>\n",
              "</table>\n",
              "</div>"
            ],
            "text/plain": [
              "                               reservation_status  ... total_booking\n",
              "reservation_status                       Canceled  ...              \n",
              "arrival_date_year hotel                            ...              \n",
              "2015              City Hotel                 5881  ...         13658\n",
              "                  Resort Hotel               2069  ...          8309\n",
              "2016              City Hotel                14842  ...         38059\n",
              "                  Resort Hotel               4815  ...         18564\n",
              "2017              City Hotel                11441  ...         27446\n",
              "                  Resort Hotel               3945  ...         13174\n",
              "\n",
              "[6 rows x 4 columns]"
            ]
          },
          "metadata": {
            "tags": []
          },
          "execution_count": 88
        }
      ]
    },
    {
      "cell_type": "code",
      "metadata": {
        "id": "Eqb3gPSyVGgB"
      },
      "source": [
        "# Create DataFrame from the elemnets of year_wise_df to get the year_wise percentage of booking\n",
        "valid_booking_df = year_wise_df.groupby(['hotel','arrival_date_year'])['valid_booking %'].mean().unstack()"
      ],
      "execution_count": null,
      "outputs": []
    },
    {
      "cell_type": "code",
      "metadata": {
        "colab": {
          "base_uri": "https://localhost:8080/",
          "height": 144
        },
        "id": "lgUN6xUoVgqo",
        "outputId": "5adb4552-ebd2-4c58-bc61-4339eadbd1b8"
      },
      "source": [
        "valid_booking_df"
      ],
      "execution_count": null,
      "outputs": [
        {
          "output_type": "execute_result",
          "data": {
            "text/html": [
              "<div>\n",
              "<style scoped>\n",
              "    .dataframe tbody tr th:only-of-type {\n",
              "        vertical-align: middle;\n",
              "    }\n",
              "\n",
              "    .dataframe tbody tr th {\n",
              "        vertical-align: top;\n",
              "    }\n",
              "\n",
              "    .dataframe thead th {\n",
              "        text-align: right;\n",
              "    }\n",
              "</style>\n",
              "<table border=\"1\" class=\"dataframe\">\n",
              "  <thead>\n",
              "    <tr style=\"text-align: right;\">\n",
              "      <th>arrival_date_year</th>\n",
              "      <th>2015</th>\n",
              "      <th>2016</th>\n",
              "      <th>2017</th>\n",
              "    </tr>\n",
              "    <tr>\n",
              "      <th>hotel</th>\n",
              "      <th></th>\n",
              "      <th></th>\n",
              "      <th></th>\n",
              "    </tr>\n",
              "  </thead>\n",
              "  <tbody>\n",
              "    <tr>\n",
              "      <th>City Hotel</th>\n",
              "      <td>56.047738</td>\n",
              "      <td>59.547019</td>\n",
              "      <td>57.443708</td>\n",
              "    </tr>\n",
              "    <tr>\n",
              "      <th>Resort Hotel</th>\n",
              "      <td>74.268865</td>\n",
              "      <td>73.453997</td>\n",
              "      <td>69.227266</td>\n",
              "    </tr>\n",
              "  </tbody>\n",
              "</table>\n",
              "</div>"
            ],
            "text/plain": [
              "arrival_date_year       2015       2016       2017\n",
              "hotel                                             \n",
              "City Hotel         56.047738  59.547019  57.443708\n",
              "Resort Hotel       74.268865  73.453997  69.227266"
            ]
          },
          "metadata": {
            "tags": []
          },
          "execution_count": 92
        }
      ]
    },
    {
      "cell_type": "code",
      "metadata": {
        "colab": {
          "base_uri": "https://localhost:8080/",
          "height": 584
        },
        "id": "oS5rEPXAHzU1",
        "outputId": "4cd97a9f-cbd8-4c61-cc0d-a44d65f21acc"
      },
      "source": [
        "# Codes to plot the graphs\n",
        "ax1=valid_booking_df.plot.bar(figsize = (10,9), fontsize = 18, rot=0)\n",
        "ax1.set_title('Booking Comparision Over the years', fontsize= 18)\n",
        "ax1.set_xlabel('Hotel Types', fontsize=16)\n",
        "ax1.set_ylabel('Booking Percentage(%)', fontsize=16)\n",
        "ax1.legend(fontsize=16)\n",
        "for index,data in enumerate(valid_booking_df[2015]):\n",
        "  plt.text(x=index-0.20 , y =data , s= f'{round(data,2)}%' , fontdict=dict(fontsize=15), ha='center')\n",
        "for index,data in enumerate(valid_booking_df[2016]):\n",
        "  plt.text(x=index , y =data+0.5 , s= f'{round(data,2)}%' , fontdict=dict(fontsize=15), ha='center')\n",
        "for index,data in enumerate(valid_booking_df[2017]):\n",
        "  plt.text(x=index+0.20 , y =data+0.5 , s= f'{round(data,2)}%' , fontdict=dict(fontsize=15), ha='center')"
      ],
      "execution_count": null,
      "outputs": [
        {
          "output_type": "display_data",
          "data": {
            "image/png": "[encoded data removed]",
            "text/plain": [
              "<Figure size 720x648 with 1 Axes>"
            ]
          },
          "metadata": {
            "tags": [],
            "needs_background": "light"
          }
        }
      ]
    },
    {
      "cell_type": "markdown",
      "metadata": {
        "id": "Z1sa9r10CRhQ"
      },
      "source": [
        "## **What is the trend?**\n",
        "We can clearly in the above graph that City Hotel has a rise in booking in the year 2016 but there is again a dcline in 2017 but in Resort Hotel, there is clear decline trend over the years from 2015 to 2017"
      ]
    },
    {
      "cell_type": "markdown",
      "metadata": {
        "id": "UyzNpf0emVzH"
      },
      "source": [
        "##4. Whether in all countries same type of Hotel is preferred? If not, list **top 10 countries having city hotel** as preferred hotel and **top 10 countries having Resort Hotel** as preferred hotel."
      ]
    },
    {
      "cell_type": "code",
      "metadata": {
        "colab": {
          "base_uri": "https://localhost:8080/"
        },
        "id": "GtFBKNc8numo",
        "outputId": "aa3ed72f-a927-4868-eebf-53fb0e36fed4"
      },
      "source": [
        "hotel_df.info()"
      ],
      "execution_count": null,
      "outputs": [
        {
          "output_type": "stream",
          "text": [
            "<class 'pandas.core.frame.DataFrame'>\n",
            "RangeIndex: 119390 entries, 0 to 119389\n",
            "Data columns (total 32 columns):\n",
            " #   Column                          Non-Null Count   Dtype  \n",
            "---  ------                          --------------   -----  \n",
            " 0   hotel                           119390 non-null  object \n",
            " 1   is_canceled                     119390 non-null  int64  \n",
            " 2   lead_time                       119390 non-null  int64  \n",
            " 3   arrival_date_year               119390 non-null  int64  \n",
            " 4   arrival_date_month              119390 non-null  object \n",
            " 5   arrival_date_week_number        119390 non-null  int64  \n",
            " 6   arrival_date_day_of_month       119390 non-null  int64  \n",
            " 7   stays_in_weekend_nights         119390 non-null  int64  \n",
            " 8   stays_in_week_nights            119390 non-null  int64  \n",
            " 9   adults                          119390 non-null  int64  \n",
            " 10  children                        119386 non-null  float64\n",
            " 11  babies                          119390 non-null  int64  \n",
            " 12  meal                            119390 non-null  object \n",
            " 13  country                         118902 non-null  object \n",
            " 14  market_segment                  119390 non-null  object \n",
            " 15  distribution_channel            119390 non-null  object \n",
            " 16  is_repeated_guest               119390 non-null  int64  \n",
            " 17  previous_cancellations          119390 non-null  int64  \n",
            " 18  previous_bookings_not_canceled  119390 non-null  int64  \n",
            " 19  reserved_room_type              119390 non-null  object \n",
            " 20  assigned_room_type              119390 non-null  object \n",
            " 21  booking_changes                 119390 non-null  int64  \n",
            " 22  deposit_type                    119390 non-null  object \n",
            " 23  agent                           103050 non-null  float64\n",
            " 24  company                         6797 non-null    float64\n",
            " 25  days_in_waiting_list            119390 non-null  int64  \n",
            " 26  customer_type                   119390 non-null  object \n",
            " 27  adr                             119390 non-null  float64\n",
            " 28  required_car_parking_spaces     119390 non-null  int64  \n",
            " 29  total_of_special_requests       119390 non-null  int64  \n",
            " 30  reservation_status              119390 non-null  object \n",
            " 31  reservation_status_date         119390 non-null  object \n",
            "dtypes: float64(4), int64(16), object(12)\n",
            "memory usage: 29.1+ MB\n"
          ],
          "name": "stdout"
        }
      ]
    },
    {
      "cell_type": "markdown",
      "metadata": {
        "id": "1JLlbrFU6-Ql"
      },
      "source": [
        "## In the country column there are 488 rows with NaN data. Since there isn't any other column giving us any hint about data that should be in country column against NaN value, it is better to delete the rows for proper analysis."
      ]
    },
    {
      "cell_type": "code",
      "metadata": {
        "id": "msPPVjT47cgR"
      },
      "source": [
        "# Getting only non Nan values from hotel_df to country_df_withno_na DataFrame\n",
        "country_df_withno_na= hotel_df.loc[~hotel_df['country'].isna()]"
      ],
      "execution_count": null,
      "outputs": []
    },
    {
      "cell_type": "code",
      "metadata": {
        "colab": {
          "base_uri": "https://localhost:8080/"
        },
        "id": "sZ7pug6o8KRK",
        "outputId": "8b8fcde9-2941-4af5-ee4b-dab2c471594c"
      },
      "source": [
        "country_df_withno_na.info()"
      ],
      "execution_count": null,
      "outputs": [
        {
          "output_type": "stream",
          "text": [
            "<class 'pandas.core.frame.DataFrame'>\n",
            "Int64Index: 118902 entries, 0 to 119389\n",
            "Data columns (total 32 columns):\n",
            " #   Column                          Non-Null Count   Dtype  \n",
            "---  ------                          --------------   -----  \n",
            " 0   hotel                           118902 non-null  object \n",
            " 1   is_canceled                     118902 non-null  int64  \n",
            " 2   lead_time                       118902 non-null  int64  \n",
            " 3   arrival_date_year               118902 non-null  int64  \n",
            " 4   arrival_date_month              118902 non-null  object \n",
            " 5   arrival_date_week_number        118902 non-null  int64  \n",
            " 6   arrival_date_day_of_month       118902 non-null  int64  \n",
            " 7   stays_in_weekend_nights         118902 non-null  int64  \n",
            " 8   stays_in_week_nights            118902 non-null  int64  \n",
            " 9   adults                          118902 non-null  int64  \n",
            " 10  children                        118898 non-null  float64\n",
            " 11  babies                          118902 non-null  int64  \n",
            " 12  meal                            118902 non-null  object \n",
            " 13  country                         118902 non-null  object \n",
            " 14  market_segment                  118902 non-null  object \n",
            " 15  distribution_channel            118902 non-null  object \n",
            " 16  is_repeated_guest               118902 non-null  int64  \n",
            " 17  previous_cancellations          118902 non-null  int64  \n",
            " 18  previous_bookings_not_canceled  118902 non-null  int64  \n",
            " 19  reserved_room_type              118902 non-null  object \n",
            " 20  assigned_room_type              118902 non-null  object \n",
            " 21  booking_changes                 118902 non-null  int64  \n",
            " 22  deposit_type                    118902 non-null  object \n",
            " 23  agent                           102896 non-null  float64\n",
            " 24  company                         6623 non-null    float64\n",
            " 25  days_in_waiting_list            118902 non-null  int64  \n",
            " 26  customer_type                   118902 non-null  object \n",
            " 27  adr                             118902 non-null  float64\n",
            " 28  required_car_parking_spaces     118902 non-null  int64  \n",
            " 29  total_of_special_requests       118902 non-null  int64  \n",
            " 30  reservation_status              118902 non-null  object \n",
            " 31  reservation_status_date         118902 non-null  object \n",
            "dtypes: float64(4), int64(16), object(12)\n",
            "memory usage: 29.9+ MB\n"
          ],
          "name": "stdout"
        }
      ]
    },
    {
      "cell_type": "code",
      "metadata": {
        "id": "nwH5o--s8OY_"
      },
      "source": [
        "#Getting the country name and respective Resort Hotel and City Hotel bookings count\n",
        "country_wise_booking_df= country_df_withno_na.groupby(['country','hotel'],sort= False)[['hotel']].count().unstack()"
      ],
      "execution_count": null,
      "outputs": []
    },
    {
      "cell_type": "code",
      "metadata": {
        "colab": {
          "base_uri": "https://localhost:8080/",
          "height": 582
        },
        "id": "RSOzbEZL8919",
        "outputId": "0d00fbdf-930e-4c9a-f3de-4a639c33fb5d"
      },
      "source": [
        "country_wise_booking_df.head(15)"
      ],
      "execution_count": null,
      "outputs": [
        {
          "output_type": "execute_result",
          "data": {
            "text/html": [
              "<div>\n",
              "<style scoped>\n",
              "    .dataframe tbody tr th:only-of-type {\n",
              "        vertical-align: middle;\n",
              "    }\n",
              "\n",
              "    .dataframe tbody tr th {\n",
              "        vertical-align: top;\n",
              "    }\n",
              "\n",
              "    .dataframe thead tr th {\n",
              "        text-align: left;\n",
              "    }\n",
              "\n",
              "    .dataframe thead tr:last-of-type th {\n",
              "        text-align: right;\n",
              "    }\n",
              "</style>\n",
              "<table border=\"1\" class=\"dataframe\">\n",
              "  <thead>\n",
              "    <tr>\n",
              "      <th></th>\n",
              "      <th colspan=\"2\" halign=\"left\">hotel</th>\n",
              "    </tr>\n",
              "    <tr>\n",
              "      <th>hotel</th>\n",
              "      <th>Resort Hotel</th>\n",
              "      <th>City Hotel</th>\n",
              "    </tr>\n",
              "    <tr>\n",
              "      <th>country</th>\n",
              "      <th></th>\n",
              "      <th></th>\n",
              "    </tr>\n",
              "  </thead>\n",
              "  <tbody>\n",
              "    <tr>\n",
              "      <th>PRT</th>\n",
              "      <td>17630.0</td>\n",
              "      <td>30960.0</td>\n",
              "    </tr>\n",
              "    <tr>\n",
              "      <th>GBR</th>\n",
              "      <td>6814.0</td>\n",
              "      <td>5315.0</td>\n",
              "    </tr>\n",
              "    <tr>\n",
              "      <th>USA</th>\n",
              "      <td>479.0</td>\n",
              "      <td>1618.0</td>\n",
              "    </tr>\n",
              "    <tr>\n",
              "      <th>ESP</th>\n",
              "      <td>3957.0</td>\n",
              "      <td>4611.0</td>\n",
              "    </tr>\n",
              "    <tr>\n",
              "      <th>IRL</th>\n",
              "      <td>2166.0</td>\n",
              "      <td>1209.0</td>\n",
              "    </tr>\n",
              "    <tr>\n",
              "      <th>FRA</th>\n",
              "      <td>1611.0</td>\n",
              "      <td>8804.0</td>\n",
              "    </tr>\n",
              "    <tr>\n",
              "      <th>ROU</th>\n",
              "      <td>177.0</td>\n",
              "      <td>323.0</td>\n",
              "    </tr>\n",
              "    <tr>\n",
              "      <th>NOR</th>\n",
              "      <td>123.0</td>\n",
              "      <td>484.0</td>\n",
              "    </tr>\n",
              "    <tr>\n",
              "      <th>OMN</th>\n",
              "      <td>11.0</td>\n",
              "      <td>7.0</td>\n",
              "    </tr>\n",
              "    <tr>\n",
              "      <th>ARG</th>\n",
              "      <td>57.0</td>\n",
              "      <td>157.0</td>\n",
              "    </tr>\n",
              "    <tr>\n",
              "      <th>POL</th>\n",
              "      <td>333.0</td>\n",
              "      <td>586.0</td>\n",
              "    </tr>\n",
              "    <tr>\n",
              "      <th>DEU</th>\n",
              "      <td>1203.0</td>\n",
              "      <td>6084.0</td>\n",
              "    </tr>\n",
              "    <tr>\n",
              "      <th>BEL</th>\n",
              "      <td>448.0</td>\n",
              "      <td>1894.0</td>\n",
              "    </tr>\n",
              "    <tr>\n",
              "      <th>CHE</th>\n",
              "      <td>435.0</td>\n",
              "      <td>1295.0</td>\n",
              "    </tr>\n",
              "    <tr>\n",
              "      <th>CN</th>\n",
              "      <td>710.0</td>\n",
              "      <td>569.0</td>\n",
              "    </tr>\n",
              "  </tbody>\n",
              "</table>\n",
              "</div>"
            ],
            "text/plain": [
              "               hotel           \n",
              "hotel   Resort Hotel City Hotel\n",
              "country                        \n",
              "PRT          17630.0    30960.0\n",
              "GBR           6814.0     5315.0\n",
              "USA            479.0     1618.0\n",
              "ESP           3957.0     4611.0\n",
              "IRL           2166.0     1209.0\n",
              "FRA           1611.0     8804.0\n",
              "ROU            177.0      323.0\n",
              "NOR            123.0      484.0\n",
              "OMN             11.0        7.0\n",
              "ARG             57.0      157.0\n",
              "POL            333.0      586.0\n",
              "DEU           1203.0     6084.0\n",
              "BEL            448.0     1894.0\n",
              "CHE            435.0     1295.0\n",
              "CN             710.0      569.0"
            ]
          },
          "metadata": {
            "tags": []
          },
          "execution_count": 100
        }
      ]
    },
    {
      "cell_type": "code",
      "metadata": {
        "colab": {
          "base_uri": "https://localhost:8080/"
        },
        "id": "_Bd2LovmABvF",
        "outputId": "fe213804-a40b-428d-9674-47f9dadf5bb5"
      },
      "source": [
        "country_wise_booking_df.columns"
      ],
      "execution_count": null,
      "outputs": [
        {
          "output_type": "execute_result",
          "data": {
            "text/plain": [
              "MultiIndex([('hotel', 'Resort Hotel'),\n",
              "            ('hotel',   'City Hotel')],\n",
              "           names=[None, 'hotel'])"
            ]
          },
          "metadata": {
            "tags": []
          },
          "execution_count": 101
        }
      ]
    },
    {
      "cell_type": "markdown",
      "metadata": {
        "id": "2gxVrXYzDsY2"
      },
      "source": [
        "## *Countries where Resort Hotels are more preferred over City Hotels*\n",
        "Due to less price and easy availability, in most of the countries, City Hotels are preferred however you would be excited to know that there are some countries where Resort Hotels are the most preferred hotels. I think, the possible reasons may include but not limited to **the exotic locations**, **great tourist spots** etc."
      ]
    },
    {
      "cell_type": "code",
      "metadata": {
        "id": "uOZO2fsY9Ei_"
      },
      "source": [
        "Resort_hotel_more_preferred_df = country_wise_booking_df.loc[country_wise_booking_df[('hotel','Resort Hotel')]>country_wise_booking_df[('hotel','City Hotel')],:]"
      ],
      "execution_count": null,
      "outputs": []
    },
    {
      "cell_type": "code",
      "metadata": {
        "colab": {
          "base_uri": "https://localhost:8080/",
          "height": 488
        },
        "id": "Q0LcGerX-Tc6",
        "outputId": "04f0a86c-c226-452f-8168-c92b0f2cf6e4"
      },
      "source": [
        "Resort_hotel_more_preferred_df"
      ],
      "execution_count": null,
      "outputs": [
        {
          "output_type": "execute_result",
          "data": {
            "text/html": [
              "<div>\n",
              "<style scoped>\n",
              "    .dataframe tbody tr th:only-of-type {\n",
              "        vertical-align: middle;\n",
              "    }\n",
              "\n",
              "    .dataframe tbody tr th {\n",
              "        vertical-align: top;\n",
              "    }\n",
              "\n",
              "    .dataframe thead tr th {\n",
              "        text-align: left;\n",
              "    }\n",
              "\n",
              "    .dataframe thead tr:last-of-type th {\n",
              "        text-align: right;\n",
              "    }\n",
              "</style>\n",
              "<table border=\"1\" class=\"dataframe\">\n",
              "  <thead>\n",
              "    <tr>\n",
              "      <th></th>\n",
              "      <th colspan=\"2\" halign=\"left\">hotel</th>\n",
              "    </tr>\n",
              "    <tr>\n",
              "      <th>hotel</th>\n",
              "      <th>Resort Hotel</th>\n",
              "      <th>City Hotel</th>\n",
              "    </tr>\n",
              "    <tr>\n",
              "      <th>country</th>\n",
              "      <th></th>\n",
              "      <th></th>\n",
              "    </tr>\n",
              "  </thead>\n",
              "  <tbody>\n",
              "    <tr>\n",
              "      <th>GBR</th>\n",
              "      <td>6814.0</td>\n",
              "      <td>5315.0</td>\n",
              "    </tr>\n",
              "    <tr>\n",
              "      <th>IRL</th>\n",
              "      <td>2166.0</td>\n",
              "      <td>1209.0</td>\n",
              "    </tr>\n",
              "    <tr>\n",
              "      <th>OMN</th>\n",
              "      <td>11.0</td>\n",
              "      <td>7.0</td>\n",
              "    </tr>\n",
              "    <tr>\n",
              "      <th>CN</th>\n",
              "      <td>710.0</td>\n",
              "      <td>569.0</td>\n",
              "    </tr>\n",
              "    <tr>\n",
              "      <th>LVA</th>\n",
              "      <td>33.0</td>\n",
              "      <td>22.0</td>\n",
              "    </tr>\n",
              "    <tr>\n",
              "      <th>PRI</th>\n",
              "      <td>9.0</td>\n",
              "      <td>3.0</td>\n",
              "    </tr>\n",
              "    <tr>\n",
              "      <th>LTU</th>\n",
              "      <td>46.0</td>\n",
              "      <td>35.0</td>\n",
              "    </tr>\n",
              "    <tr>\n",
              "      <th>JAM</th>\n",
              "      <td>5.0</td>\n",
              "      <td>1.0</td>\n",
              "    </tr>\n",
              "    <tr>\n",
              "      <th>AND</th>\n",
              "      <td>5.0</td>\n",
              "      <td>2.0</td>\n",
              "    </tr>\n",
              "    <tr>\n",
              "      <th>GIB</th>\n",
              "      <td>13.0</td>\n",
              "      <td>5.0</td>\n",
              "    </tr>\n",
              "    <tr>\n",
              "      <th>CAF</th>\n",
              "      <td>3.0</td>\n",
              "      <td>2.0</td>\n",
              "    </tr>\n",
              "    <tr>\n",
              "      <th>SUR</th>\n",
              "      <td>4.0</td>\n",
              "      <td>1.0</td>\n",
              "    </tr>\n",
              "  </tbody>\n",
              "</table>\n",
              "</div>"
            ],
            "text/plain": [
              "               hotel           \n",
              "hotel   Resort Hotel City Hotel\n",
              "country                        \n",
              "GBR           6814.0     5315.0\n",
              "IRL           2166.0     1209.0\n",
              "OMN             11.0        7.0\n",
              "CN             710.0      569.0\n",
              "LVA             33.0       22.0\n",
              "PRI              9.0        3.0\n",
              "LTU             46.0       35.0\n",
              "JAM              5.0        1.0\n",
              "AND              5.0        2.0\n",
              "GIB             13.0        5.0\n",
              "CAF              3.0        2.0\n",
              "SUR              4.0        1.0"
            ]
          },
          "metadata": {
            "tags": []
          },
          "execution_count": 103
        }
      ]
    },
    {
      "cell_type": "markdown",
      "metadata": {
        "id": "aWZamBj8jm5D"
      },
      "source": [
        "As we have discussed above about countries having Resort Hotel types as most preferred type. Great Britain (GBR) tops this list and the most suprising thing is that the difference between both hotel types is more than 1500 here. The analysis becomes more accurate if the data is shown in terms of percentage. So, lets do that!!!"
      ]
    },
    {
      "cell_type": "code",
      "metadata": {
        "colab": {
          "base_uri": "https://localhost:8080/"
        },
        "id": "pWwJB0uwHQaT",
        "outputId": "fccc4e06-4423-494a-f3b2-3542e604f1ae"
      },
      "source": [
        "# Calculating the Total Bookings in that country, which sums the bookings of City Hotel and Resort Hotel\n",
        "Resort_hotel_more_preferred_df['Total Bookings'] = Resort_hotel_more_preferred_df.sum(level= 0, axis=1)"
      ],
      "execution_count": null,
      "outputs": [
        {
          "output_type": "stream",
          "text": [
            "/usr/local/lib/python3.7/dist-packages/ipykernel_launcher.py:1: SettingWithCopyWarning: \n",
            "A value is trying to be set on a copy of a slice from a DataFrame.\n",
            "Try using .loc[row_indexer,col_indexer] = value instead\n",
            "\n",
            "See the caveats in the documentation: https://pandas.pydata.org/pandas-docs/stable/user_guide/indexing.html#returning-a-view-versus-a-copy\n",
            "  \"\"\"Entry point for launching an IPython kernel.\n"
          ],
          "name": "stderr"
        }
      ]
    },
    {
      "cell_type": "code",
      "metadata": {
        "colab": {
          "base_uri": "https://localhost:8080/"
        },
        "id": "_kVrfn0yHpKn",
        "outputId": "3ceaba19-7b00-4de6-e6ce-31084f3bfd3d"
      },
      "source": [
        "# Calculate the Resort Hotel %\n",
        "Resort_hotel_more_preferred_df['Resort Hotel Booking %'] = (Resort_hotel_more_preferred_df[('hotel','Resort Hotel')]/Resort_hotel_more_preferred_df[('Total Bookings','')])*100"
      ],
      "execution_count": null,
      "outputs": [
        {
          "output_type": "stream",
          "text": [
            "/usr/local/lib/python3.7/dist-packages/ipykernel_launcher.py:1: SettingWithCopyWarning: \n",
            "A value is trying to be set on a copy of a slice from a DataFrame.\n",
            "Try using .loc[row_indexer,col_indexer] = value instead\n",
            "\n",
            "See the caveats in the documentation: https://pandas.pydata.org/pandas-docs/stable/user_guide/indexing.html#returning-a-view-versus-a-copy\n",
            "  \"\"\"Entry point for launching an IPython kernel.\n"
          ],
          "name": "stderr"
        }
      ]
    },
    {
      "cell_type": "code",
      "metadata": {
        "colab": {
          "base_uri": "https://localhost:8080/"
        },
        "id": "40p0Q3ZfIJlv",
        "outputId": "b45b3621-5b8e-426c-f8cc-e697ecd4bdd9"
      },
      "source": [
        "# Calculate the Resort Hotel %\n",
        "Resort_hotel_more_preferred_df['City Hotel Booking %'] = (Resort_hotel_more_preferred_df[('hotel','City Hotel')]/Resort_hotel_more_preferred_df[('Total Bookings','')])*100"
      ],
      "execution_count": null,
      "outputs": [
        {
          "output_type": "stream",
          "text": [
            "/usr/local/lib/python3.7/dist-packages/ipykernel_launcher.py:1: SettingWithCopyWarning: \n",
            "A value is trying to be set on a copy of a slice from a DataFrame.\n",
            "Try using .loc[row_indexer,col_indexer] = value instead\n",
            "\n",
            "See the caveats in the documentation: https://pandas.pydata.org/pandas-docs/stable/user_guide/indexing.html#returning-a-view-versus-a-copy\n",
            "  \"\"\"Entry point for launching an IPython kernel.\n"
          ],
          "name": "stderr"
        }
      ]
    },
    {
      "cell_type": "code",
      "metadata": {
        "colab": {
          "base_uri": "https://localhost:8080/",
          "height": 488
        },
        "id": "nTg8UeNoITdC",
        "outputId": "e93b72a7-cb63-41c4-ef21-44c8c785c4b8"
      },
      "source": [
        "Resort_hotel_more_preferred_df"
      ],
      "execution_count": null,
      "outputs": [
        {
          "output_type": "execute_result",
          "data": {
            "text/html": [
              "<div>\n",
              "<style scoped>\n",
              "    .dataframe tbody tr th:only-of-type {\n",
              "        vertical-align: middle;\n",
              "    }\n",
              "\n",
              "    .dataframe tbody tr th {\n",
              "        vertical-align: top;\n",
              "    }\n",
              "\n",
              "    .dataframe thead tr th {\n",
              "        text-align: left;\n",
              "    }\n",
              "\n",
              "    .dataframe thead tr:last-of-type th {\n",
              "        text-align: right;\n",
              "    }\n",
              "</style>\n",
              "<table border=\"1\" class=\"dataframe\">\n",
              "  <thead>\n",
              "    <tr>\n",
              "      <th></th>\n",
              "      <th colspan=\"2\" halign=\"left\">hotel</th>\n",
              "      <th>Total Bookings</th>\n",
              "      <th>Resort Hotel Booking %</th>\n",
              "      <th>City Hotel Booking %</th>\n",
              "    </tr>\n",
              "    <tr>\n",
              "      <th>hotel</th>\n",
              "      <th>Resort Hotel</th>\n",
              "      <th>City Hotel</th>\n",
              "      <th></th>\n",
              "      <th></th>\n",
              "      <th></th>\n",
              "    </tr>\n",
              "    <tr>\n",
              "      <th>country</th>\n",
              "      <th></th>\n",
              "      <th></th>\n",
              "      <th></th>\n",
              "      <th></th>\n",
              "      <th></th>\n",
              "    </tr>\n",
              "  </thead>\n",
              "  <tbody>\n",
              "    <tr>\n",
              "      <th>GBR</th>\n",
              "      <td>6814.0</td>\n",
              "      <td>5315.0</td>\n",
              "      <td>12129.0</td>\n",
              "      <td>56.179405</td>\n",
              "      <td>43.820595</td>\n",
              "    </tr>\n",
              "    <tr>\n",
              "      <th>IRL</th>\n",
              "      <td>2166.0</td>\n",
              "      <td>1209.0</td>\n",
              "      <td>3375.0</td>\n",
              "      <td>64.177778</td>\n",
              "      <td>35.822222</td>\n",
              "    </tr>\n",
              "    <tr>\n",
              "      <th>OMN</th>\n",
              "      <td>11.0</td>\n",
              "      <td>7.0</td>\n",
              "      <td>18.0</td>\n",
              "      <td>61.111111</td>\n",
              "      <td>38.888889</td>\n",
              "    </tr>\n",
              "    <tr>\n",
              "      <th>CN</th>\n",
              "      <td>710.0</td>\n",
              "      <td>569.0</td>\n",
              "      <td>1279.0</td>\n",
              "      <td>55.512119</td>\n",
              "      <td>44.487881</td>\n",
              "    </tr>\n",
              "    <tr>\n",
              "      <th>LVA</th>\n",
              "      <td>33.0</td>\n",
              "      <td>22.0</td>\n",
              "      <td>55.0</td>\n",
              "      <td>60.000000</td>\n",
              "      <td>40.000000</td>\n",
              "    </tr>\n",
              "    <tr>\n",
              "      <th>PRI</th>\n",
              "      <td>9.0</td>\n",
              "      <td>3.0</td>\n",
              "      <td>12.0</td>\n",
              "      <td>75.000000</td>\n",
              "      <td>25.000000</td>\n",
              "    </tr>\n",
              "    <tr>\n",
              "      <th>LTU</th>\n",
              "      <td>46.0</td>\n",
              "      <td>35.0</td>\n",
              "      <td>81.0</td>\n",
              "      <td>56.790123</td>\n",
              "      <td>43.209877</td>\n",
              "    </tr>\n",
              "    <tr>\n",
              "      <th>JAM</th>\n",
              "      <td>5.0</td>\n",
              "      <td>1.0</td>\n",
              "      <td>6.0</td>\n",
              "      <td>83.333333</td>\n",
              "      <td>16.666667</td>\n",
              "    </tr>\n",
              "    <tr>\n",
              "      <th>AND</th>\n",
              "      <td>5.0</td>\n",
              "      <td>2.0</td>\n",
              "      <td>7.0</td>\n",
              "      <td>71.428571</td>\n",
              "      <td>28.571429</td>\n",
              "    </tr>\n",
              "    <tr>\n",
              "      <th>GIB</th>\n",
              "      <td>13.0</td>\n",
              "      <td>5.0</td>\n",
              "      <td>18.0</td>\n",
              "      <td>72.222222</td>\n",
              "      <td>27.777778</td>\n",
              "    </tr>\n",
              "    <tr>\n",
              "      <th>CAF</th>\n",
              "      <td>3.0</td>\n",
              "      <td>2.0</td>\n",
              "      <td>5.0</td>\n",
              "      <td>60.000000</td>\n",
              "      <td>40.000000</td>\n",
              "    </tr>\n",
              "    <tr>\n",
              "      <th>SUR</th>\n",
              "      <td>4.0</td>\n",
              "      <td>1.0</td>\n",
              "      <td>5.0</td>\n",
              "      <td>80.000000</td>\n",
              "      <td>20.000000</td>\n",
              "    </tr>\n",
              "  </tbody>\n",
              "</table>\n",
              "</div>"
            ],
            "text/plain": [
              "               hotel             ... Resort Hotel Booking % City Hotel Booking %\n",
              "hotel   Resort Hotel City Hotel  ...                                            \n",
              "country                          ...                                            \n",
              "GBR           6814.0     5315.0  ...              56.179405            43.820595\n",
              "IRL           2166.0     1209.0  ...              64.177778            35.822222\n",
              "OMN             11.0        7.0  ...              61.111111            38.888889\n",
              "CN             710.0      569.0  ...              55.512119            44.487881\n",
              "LVA             33.0       22.0  ...              60.000000            40.000000\n",
              "PRI              9.0        3.0  ...              75.000000            25.000000\n",
              "LTU             46.0       35.0  ...              56.790123            43.209877\n",
              "JAM              5.0        1.0  ...              83.333333            16.666667\n",
              "AND              5.0        2.0  ...              71.428571            28.571429\n",
              "GIB             13.0        5.0  ...              72.222222            27.777778\n",
              "CAF              3.0        2.0  ...              60.000000            40.000000\n",
              "SUR              4.0        1.0  ...              80.000000            20.000000\n",
              "\n",
              "[12 rows x 5 columns]"
            ]
          },
          "metadata": {
            "tags": []
          },
          "execution_count": 108
        }
      ]
    },
    {
      "cell_type": "code",
      "metadata": {
        "colab": {
          "base_uri": "https://localhost:8080/",
          "height": 582
        },
        "id": "QgNxm4JsEQUQ",
        "outputId": "8d483638-f78f-4ed7-a630-da94f6aca2b7"
      },
      "source": [
        "# Plot the graph for Resort Hotel % across top 10 countries\n",
        "ax1= Resort_hotel_more_preferred_df.plot.bar(y='Resort Hotel Booking %',figsize = (20,9), fontsize= 18, rot=0)\n",
        "ax1.set_title(\"Countries With more demand for Resort Hotels\", fontsize=16)\n",
        "ax1.set_xlabel('Countries', fontsize= 16)\n",
        "ax1.set_ylabel('Booking %', fontsize=16)\n",
        "ax1.legend(fontsize= 16, loc='upper left')\n",
        "for index,data in enumerate(Resort_hotel_more_preferred_df['Resort Hotel Booking %']):\n",
        "  plt.text(x=index , y =data+1 , s= f'{round(data,2)}%' , fontdict=dict(fontsize=20), ha='center')"
      ],
      "execution_count": null,
      "outputs": [
        {
          "output_type": "display_data",
          "data": {
            "image/png": "[encoded data removed]",
            "text/plain": [
              "<Figure size 1440x648 with 1 Axes>"
            ]
          },
          "metadata": {
            "tags": [],
            "needs_background": "light"
          }
        }
      ]
    },
    {
      "cell_type": "markdown",
      "metadata": {
        "id": "YM08MI9q0PR3"
      },
      "source": [
        "# 5. Type of room and adr distribution across different months"
      ]
    },
    {
      "cell_type": "markdown",
      "metadata": {
        "id": "rGZWq33gvbB0"
      },
      "source": [
        "In this process of analysis, it is very important to understand the variation of room types in different time period of the year. From a customer perspective, it will give a clear picture and judgement on selection of rooms."
      ]
    },
    {
      "cell_type": "code",
      "metadata": {
        "id": "DJz1rN-4hwCm"
      },
      "source": [
        "# removing that extreme value of ADR\n",
        "hotel_df_copy=hotel_df_copy.drop(hotel_df_copy[(hotel_df_copy.adr)>5000].index)"
      ],
      "execution_count": null,
      "outputs": []
    },
    {
      "cell_type": "code",
      "metadata": {
        "id": "2iM3wjVwP0s_"
      },
      "source": [
        "resort_df=hotel_df_copy.loc[hotel_df_copy['hotel']=='Resort Hotel'][['hotel','arrival_date_month','assigned_room_type','adr']]\n",
        "city_df=hotel_df_copy.loc[hotel_df_copy['hotel']=='City Hotel'][['hotel','arrival_date_month','assigned_room_type','adr']]"
      ],
      "execution_count": null,
      "outputs": []
    },
    {
      "cell_type": "code",
      "metadata": {
        "colab": {
          "base_uri": "https://localhost:8080/",
          "height": 144
        },
        "id": "NDX5zUdQQ-rw",
        "outputId": "0f4796a5-8056-4963-bd5a-9883a94023fd"
      },
      "source": [
        "resort_df.head(3)"
      ],
      "execution_count": null,
      "outputs": [
        {
          "output_type": "execute_result",
          "data": {
            "text/html": [
              "<div>\n",
              "<style scoped>\n",
              "    .dataframe tbody tr th:only-of-type {\n",
              "        vertical-align: middle;\n",
              "    }\n",
              "\n",
              "    .dataframe tbody tr th {\n",
              "        vertical-align: top;\n",
              "    }\n",
              "\n",
              "    .dataframe thead th {\n",
              "        text-align: right;\n",
              "    }\n",
              "</style>\n",
              "<table border=\"1\" class=\"dataframe\">\n",
              "  <thead>\n",
              "    <tr style=\"text-align: right;\">\n",
              "      <th></th>\n",
              "      <th>hotel</th>\n",
              "      <th>arrival_date_month</th>\n",
              "      <th>assigned_room_type</th>\n",
              "      <th>adr</th>\n",
              "    </tr>\n",
              "  </thead>\n",
              "  <tbody>\n",
              "    <tr>\n",
              "      <th>0</th>\n",
              "      <td>Resort Hotel</td>\n",
              "      <td>July</td>\n",
              "      <td>C</td>\n",
              "      <td>0.0</td>\n",
              "    </tr>\n",
              "    <tr>\n",
              "      <th>1</th>\n",
              "      <td>Resort Hotel</td>\n",
              "      <td>July</td>\n",
              "      <td>C</td>\n",
              "      <td>0.0</td>\n",
              "    </tr>\n",
              "    <tr>\n",
              "      <th>2</th>\n",
              "      <td>Resort Hotel</td>\n",
              "      <td>July</td>\n",
              "      <td>C</td>\n",
              "      <td>75.0</td>\n",
              "    </tr>\n",
              "  </tbody>\n",
              "</table>\n",
              "</div>"
            ],
            "text/plain": [
              "          hotel arrival_date_month assigned_room_type   adr\n",
              "0  Resort Hotel               July                  C   0.0\n",
              "1  Resort Hotel               July                  C   0.0\n",
              "2  Resort Hotel               July                  C  75.0"
            ]
          },
          "metadata": {
            "tags": []
          },
          "execution_count": 112
        }
      ]
    },
    {
      "cell_type": "code",
      "metadata": {
        "id": "0wEouucZ8avo"
      },
      "source": [
        "# Use groupby to get the adr variation in different months across different room types\n",
        "adr_resort_df= resort_df.groupby(['arrival_date_month','assigned_room_type'])['adr'].mean().unstack()"
      ],
      "execution_count": null,
      "outputs": []
    },
    {
      "cell_type": "code",
      "metadata": {
        "colab": {
          "base_uri": "https://localhost:8080/",
          "height": 457
        },
        "id": "5KAkvuX69KBG",
        "outputId": "a628c61f-3d33-4c6b-a4d4-efb8933e16b6"
      },
      "source": [
        "adr_resort_df"
      ],
      "execution_count": null,
      "outputs": [
        {
          "output_type": "execute_result",
          "data": {
            "text/html": [
              "<div>\n",
              "<style scoped>\n",
              "    .dataframe tbody tr th:only-of-type {\n",
              "        vertical-align: middle;\n",
              "    }\n",
              "\n",
              "    .dataframe tbody tr th {\n",
              "        vertical-align: top;\n",
              "    }\n",
              "\n",
              "    .dataframe thead th {\n",
              "        text-align: right;\n",
              "    }\n",
              "</style>\n",
              "<table border=\"1\" class=\"dataframe\">\n",
              "  <thead>\n",
              "    <tr style=\"text-align: right;\">\n",
              "      <th>assigned_room_type</th>\n",
              "      <th>A</th>\n",
              "      <th>B</th>\n",
              "      <th>C</th>\n",
              "      <th>D</th>\n",
              "      <th>E</th>\n",
              "      <th>F</th>\n",
              "      <th>G</th>\n",
              "      <th>H</th>\n",
              "      <th>I</th>\n",
              "      <th>L</th>\n",
              "      <th>P</th>\n",
              "    </tr>\n",
              "    <tr>\n",
              "      <th>arrival_date_month</th>\n",
              "      <th></th>\n",
              "      <th></th>\n",
              "      <th></th>\n",
              "      <th></th>\n",
              "      <th></th>\n",
              "      <th></th>\n",
              "      <th></th>\n",
              "      <th></th>\n",
              "      <th></th>\n",
              "      <th></th>\n",
              "      <th></th>\n",
              "    </tr>\n",
              "  </thead>\n",
              "  <tbody>\n",
              "    <tr>\n",
              "      <th>April</th>\n",
              "      <td>66.873139</td>\n",
              "      <td>77.046667</td>\n",
              "      <td>83.957343</td>\n",
              "      <td>73.107093</td>\n",
              "      <td>89.354293</td>\n",
              "      <td>95.302409</td>\n",
              "      <td>136.504626</td>\n",
              "      <td>146.416170</td>\n",
              "      <td>38.080000</td>\n",
              "      <td>NaN</td>\n",
              "      <td>NaN</td>\n",
              "    </tr>\n",
              "    <tr>\n",
              "      <th>August</th>\n",
              "      <td>166.188725</td>\n",
              "      <td>166.563429</td>\n",
              "      <td>208.749581</td>\n",
              "      <td>182.832802</td>\n",
              "      <td>192.811411</td>\n",
              "      <td>208.599920</td>\n",
              "      <td>258.959619</td>\n",
              "      <td>273.538226</td>\n",
              "      <td>93.998235</td>\n",
              "      <td>NaN</td>\n",
              "      <td>NaN</td>\n",
              "    </tr>\n",
              "    <tr>\n",
              "      <th>December</th>\n",
              "      <td>63.838404</td>\n",
              "      <td>45.606667</td>\n",
              "      <td>87.754175</td>\n",
              "      <td>61.225693</td>\n",
              "      <td>79.698457</td>\n",
              "      <td>89.384186</td>\n",
              "      <td>112.810361</td>\n",
              "      <td>121.037209</td>\n",
              "      <td>21.483333</td>\n",
              "      <td>NaN</td>\n",
              "      <td>NaN</td>\n",
              "    </tr>\n",
              "    <tr>\n",
              "      <th>February</th>\n",
              "      <td>50.085972</td>\n",
              "      <td>35.666667</td>\n",
              "      <td>65.746899</td>\n",
              "      <td>50.874748</td>\n",
              "      <td>64.942891</td>\n",
              "      <td>68.446190</td>\n",
              "      <td>90.622190</td>\n",
              "      <td>106.540556</td>\n",
              "      <td>18.406087</td>\n",
              "      <td>NaN</td>\n",
              "      <td>0.0</td>\n",
              "    </tr>\n",
              "    <tr>\n",
              "      <th>January</th>\n",
              "      <td>44.696784</td>\n",
              "      <td>34.933333</td>\n",
              "      <td>50.098421</td>\n",
              "      <td>45.669857</td>\n",
              "      <td>60.569833</td>\n",
              "      <td>57.196452</td>\n",
              "      <td>80.680714</td>\n",
              "      <td>87.126071</td>\n",
              "      <td>9.954545</td>\n",
              "      <td>NaN</td>\n",
              "      <td>NaN</td>\n",
              "    </tr>\n",
              "    <tr>\n",
              "      <th>July</th>\n",
              "      <td>134.711490</td>\n",
              "      <td>134.564545</td>\n",
              "      <td>168.287872</td>\n",
              "      <td>153.129021</td>\n",
              "      <td>165.809018</td>\n",
              "      <td>180.454595</td>\n",
              "      <td>216.688789</td>\n",
              "      <td>224.651304</td>\n",
              "      <td>57.814048</td>\n",
              "      <td>8.0</td>\n",
              "      <td>NaN</td>\n",
              "    </tr>\n",
              "    <tr>\n",
              "      <th>June</th>\n",
              "      <td>95.949922</td>\n",
              "      <td>99.632381</td>\n",
              "      <td>132.758077</td>\n",
              "      <td>98.911147</td>\n",
              "      <td>120.961719</td>\n",
              "      <td>138.513699</td>\n",
              "      <td>167.399392</td>\n",
              "      <td>188.200000</td>\n",
              "      <td>63.673571</td>\n",
              "      <td>NaN</td>\n",
              "      <td>NaN</td>\n",
              "    </tr>\n",
              "    <tr>\n",
              "      <th>March</th>\n",
              "      <td>49.637858</td>\n",
              "      <td>51.181818</td>\n",
              "      <td>58.651273</td>\n",
              "      <td>55.352293</td>\n",
              "      <td>68.831207</td>\n",
              "      <td>75.433151</td>\n",
              "      <td>98.382063</td>\n",
              "      <td>97.814706</td>\n",
              "      <td>31.917222</td>\n",
              "      <td>NaN</td>\n",
              "      <td>NaN</td>\n",
              "    </tr>\n",
              "    <tr>\n",
              "      <th>May</th>\n",
              "      <td>65.756235</td>\n",
              "      <td>74.947143</td>\n",
              "      <td>78.559804</td>\n",
              "      <td>76.011980</td>\n",
              "      <td>92.894139</td>\n",
              "      <td>101.295125</td>\n",
              "      <td>138.043077</td>\n",
              "      <td>131.376719</td>\n",
              "      <td>33.698039</td>\n",
              "      <td>NaN</td>\n",
              "      <td>NaN</td>\n",
              "    </tr>\n",
              "    <tr>\n",
              "      <th>November</th>\n",
              "      <td>42.157597</td>\n",
              "      <td>41.250000</td>\n",
              "      <td>50.270196</td>\n",
              "      <td>47.073207</td>\n",
              "      <td>58.570464</td>\n",
              "      <td>64.113023</td>\n",
              "      <td>82.602667</td>\n",
              "      <td>84.774815</td>\n",
              "      <td>12.642857</td>\n",
              "      <td>NaN</td>\n",
              "      <td>0.0</td>\n",
              "    </tr>\n",
              "    <tr>\n",
              "      <th>October</th>\n",
              "      <td>52.828256</td>\n",
              "      <td>56.100000</td>\n",
              "      <td>62.032953</td>\n",
              "      <td>62.776367</td>\n",
              "      <td>72.537763</td>\n",
              "      <td>78.734662</td>\n",
              "      <td>108.100125</td>\n",
              "      <td>104.546667</td>\n",
              "      <td>16.143636</td>\n",
              "      <td>NaN</td>\n",
              "      <td>NaN</td>\n",
              "    </tr>\n",
              "    <tr>\n",
              "      <th>September</th>\n",
              "      <td>74.718118</td>\n",
              "      <td>82.830000</td>\n",
              "      <td>99.861278</td>\n",
              "      <td>94.340754</td>\n",
              "      <td>109.018380</td>\n",
              "      <td>124.893871</td>\n",
              "      <td>153.492875</td>\n",
              "      <td>158.724286</td>\n",
              "      <td>64.342857</td>\n",
              "      <td>NaN</td>\n",
              "      <td>NaN</td>\n",
              "    </tr>\n",
              "  </tbody>\n",
              "</table>\n",
              "</div>"
            ],
            "text/plain": [
              "assigned_room_type           A           B           C  ...          I    L    P\n",
              "arrival_date_month                                      ...                     \n",
              "April                66.873139   77.046667   83.957343  ...  38.080000  NaN  NaN\n",
              "August              166.188725  166.563429  208.749581  ...  93.998235  NaN  NaN\n",
              "December             63.838404   45.606667   87.754175  ...  21.483333  NaN  NaN\n",
              "February             50.085972   35.666667   65.746899  ...  18.406087  NaN  0.0\n",
              "January              44.696784   34.933333   50.098421  ...   9.954545  NaN  NaN\n",
              "July                134.711490  134.564545  168.287872  ...  57.814048  8.0  NaN\n",
              "June                 95.949922   99.632381  132.758077  ...  63.673571  NaN  NaN\n",
              "March                49.637858   51.181818   58.651273  ...  31.917222  NaN  NaN\n",
              "May                  65.756235   74.947143   78.559804  ...  33.698039  NaN  NaN\n",
              "November             42.157597   41.250000   50.270196  ...  12.642857  NaN  0.0\n",
              "October              52.828256   56.100000   62.032953  ...  16.143636  NaN  NaN\n",
              "September            74.718118   82.830000   99.861278  ...  64.342857  NaN  NaN\n",
              "\n",
              "[12 rows x 11 columns]"
            ]
          },
          "metadata": {
            "tags": []
          },
          "execution_count": 114
        }
      ]
    },
    {
      "cell_type": "code",
      "metadata": {
        "id": "aUrab1cG9MHm"
      },
      "source": [
        "# Sort the months in dataframe we get above as per their occurance\n",
        "Months_name=['January','February','March','April','May','June','July','August','September','October','November','December']\n",
        "adr_resort_df.index=pd.CategoricalIndex(adr_resort_df.index, categories=Months_name, ordered=True)\n",
        "adr_resort_df = adr_resort_df.sort_index()"
      ],
      "execution_count": null,
      "outputs": []
    },
    {
      "cell_type": "code",
      "metadata": {
        "colab": {
          "base_uri": "https://localhost:8080/",
          "height": 457
        },
        "id": "Dh1x_Njc__4C",
        "outputId": "9078fda9-79da-450c-ffcc-5231f7505181"
      },
      "source": [
        "adr_resort_df"
      ],
      "execution_count": null,
      "outputs": [
        {
          "output_type": "execute_result",
          "data": {
            "text/html": [
              "<div>\n",
              "<style scoped>\n",
              "    .dataframe tbody tr th:only-of-type {\n",
              "        vertical-align: middle;\n",
              "    }\n",
              "\n",
              "    .dataframe tbody tr th {\n",
              "        vertical-align: top;\n",
              "    }\n",
              "\n",
              "    .dataframe thead th {\n",
              "        text-align: right;\n",
              "    }\n",
              "</style>\n",
              "<table border=\"1\" class=\"dataframe\">\n",
              "  <thead>\n",
              "    <tr style=\"text-align: right;\">\n",
              "      <th>assigned_room_type</th>\n",
              "      <th>A</th>\n",
              "      <th>B</th>\n",
              "      <th>C</th>\n",
              "      <th>D</th>\n",
              "      <th>E</th>\n",
              "      <th>F</th>\n",
              "      <th>G</th>\n",
              "      <th>H</th>\n",
              "      <th>I</th>\n",
              "      <th>L</th>\n",
              "      <th>P</th>\n",
              "    </tr>\n",
              "    <tr>\n",
              "      <th>arrival_date_month</th>\n",
              "      <th></th>\n",
              "      <th></th>\n",
              "      <th></th>\n",
              "      <th></th>\n",
              "      <th></th>\n",
              "      <th></th>\n",
              "      <th></th>\n",
              "      <th></th>\n",
              "      <th></th>\n",
              "      <th></th>\n",
              "      <th></th>\n",
              "    </tr>\n",
              "  </thead>\n",
              "  <tbody>\n",
              "    <tr>\n",
              "      <th>January</th>\n",
              "      <td>44.696784</td>\n",
              "      <td>34.933333</td>\n",
              "      <td>50.098421</td>\n",
              "      <td>45.669857</td>\n",
              "      <td>60.569833</td>\n",
              "      <td>57.196452</td>\n",
              "      <td>80.680714</td>\n",
              "      <td>87.126071</td>\n",
              "      <td>9.954545</td>\n",
              "      <td>NaN</td>\n",
              "      <td>NaN</td>\n",
              "    </tr>\n",
              "    <tr>\n",
              "      <th>February</th>\n",
              "      <td>50.085972</td>\n",
              "      <td>35.666667</td>\n",
              "      <td>65.746899</td>\n",
              "      <td>50.874748</td>\n",
              "      <td>64.942891</td>\n",
              "      <td>68.446190</td>\n",
              "      <td>90.622190</td>\n",
              "      <td>106.540556</td>\n",
              "      <td>18.406087</td>\n",
              "      <td>NaN</td>\n",
              "      <td>0.0</td>\n",
              "    </tr>\n",
              "    <tr>\n",
              "      <th>March</th>\n",
              "      <td>49.637858</td>\n",
              "      <td>51.181818</td>\n",
              "      <td>58.651273</td>\n",
              "      <td>55.352293</td>\n",
              "      <td>68.831207</td>\n",
              "      <td>75.433151</td>\n",
              "      <td>98.382063</td>\n",
              "      <td>97.814706</td>\n",
              "      <td>31.917222</td>\n",
              "      <td>NaN</td>\n",
              "      <td>NaN</td>\n",
              "    </tr>\n",
              "    <tr>\n",
              "      <th>April</th>\n",
              "      <td>66.873139</td>\n",
              "      <td>77.046667</td>\n",
              "      <td>83.957343</td>\n",
              "      <td>73.107093</td>\n",
              "      <td>89.354293</td>\n",
              "      <td>95.302409</td>\n",
              "      <td>136.504626</td>\n",
              "      <td>146.416170</td>\n",
              "      <td>38.080000</td>\n",
              "      <td>NaN</td>\n",
              "      <td>NaN</td>\n",
              "    </tr>\n",
              "    <tr>\n",
              "      <th>May</th>\n",
              "      <td>65.756235</td>\n",
              "      <td>74.947143</td>\n",
              "      <td>78.559804</td>\n",
              "      <td>76.011980</td>\n",
              "      <td>92.894139</td>\n",
              "      <td>101.295125</td>\n",
              "      <td>138.043077</td>\n",
              "      <td>131.376719</td>\n",
              "      <td>33.698039</td>\n",
              "      <td>NaN</td>\n",
              "      <td>NaN</td>\n",
              "    </tr>\n",
              "    <tr>\n",
              "      <th>June</th>\n",
              "      <td>95.949922</td>\n",
              "      <td>99.632381</td>\n",
              "      <td>132.758077</td>\n",
              "      <td>98.911147</td>\n",
              "      <td>120.961719</td>\n",
              "      <td>138.513699</td>\n",
              "      <td>167.399392</td>\n",
              "      <td>188.200000</td>\n",
              "      <td>63.673571</td>\n",
              "      <td>NaN</td>\n",
              "      <td>NaN</td>\n",
              "    </tr>\n",
              "    <tr>\n",
              "      <th>July</th>\n",
              "      <td>134.711490</td>\n",
              "      <td>134.564545</td>\n",
              "      <td>168.287872</td>\n",
              "      <td>153.129021</td>\n",
              "      <td>165.809018</td>\n",
              "      <td>180.454595</td>\n",
              "      <td>216.688789</td>\n",
              "      <td>224.651304</td>\n",
              "      <td>57.814048</td>\n",
              "      <td>8.0</td>\n",
              "      <td>NaN</td>\n",
              "    </tr>\n",
              "    <tr>\n",
              "      <th>August</th>\n",
              "      <td>166.188725</td>\n",
              "      <td>166.563429</td>\n",
              "      <td>208.749581</td>\n",
              "      <td>182.832802</td>\n",
              "      <td>192.811411</td>\n",
              "      <td>208.599920</td>\n",
              "      <td>258.959619</td>\n",
              "      <td>273.538226</td>\n",
              "      <td>93.998235</td>\n",
              "      <td>NaN</td>\n",
              "      <td>NaN</td>\n",
              "    </tr>\n",
              "    <tr>\n",
              "      <th>September</th>\n",
              "      <td>74.718118</td>\n",
              "      <td>82.830000</td>\n",
              "      <td>99.861278</td>\n",
              "      <td>94.340754</td>\n",
              "      <td>109.018380</td>\n",
              "      <td>124.893871</td>\n",
              "      <td>153.492875</td>\n",
              "      <td>158.724286</td>\n",
              "      <td>64.342857</td>\n",
              "      <td>NaN</td>\n",
              "      <td>NaN</td>\n",
              "    </tr>\n",
              "    <tr>\n",
              "      <th>October</th>\n",
              "      <td>52.828256</td>\n",
              "      <td>56.100000</td>\n",
              "      <td>62.032953</td>\n",
              "      <td>62.776367</td>\n",
              "      <td>72.537763</td>\n",
              "      <td>78.734662</td>\n",
              "      <td>108.100125</td>\n",
              "      <td>104.546667</td>\n",
              "      <td>16.143636</td>\n",
              "      <td>NaN</td>\n",
              "      <td>NaN</td>\n",
              "    </tr>\n",
              "    <tr>\n",
              "      <th>November</th>\n",
              "      <td>42.157597</td>\n",
              "      <td>41.250000</td>\n",
              "      <td>50.270196</td>\n",
              "      <td>47.073207</td>\n",
              "      <td>58.570464</td>\n",
              "      <td>64.113023</td>\n",
              "      <td>82.602667</td>\n",
              "      <td>84.774815</td>\n",
              "      <td>12.642857</td>\n",
              "      <td>NaN</td>\n",
              "      <td>0.0</td>\n",
              "    </tr>\n",
              "    <tr>\n",
              "      <th>December</th>\n",
              "      <td>63.838404</td>\n",
              "      <td>45.606667</td>\n",
              "      <td>87.754175</td>\n",
              "      <td>61.225693</td>\n",
              "      <td>79.698457</td>\n",
              "      <td>89.384186</td>\n",
              "      <td>112.810361</td>\n",
              "      <td>121.037209</td>\n",
              "      <td>21.483333</td>\n",
              "      <td>NaN</td>\n",
              "      <td>NaN</td>\n",
              "    </tr>\n",
              "  </tbody>\n",
              "</table>\n",
              "</div>"
            ],
            "text/plain": [
              "assigned_room_type           A           B           C  ...          I    L    P\n",
              "arrival_date_month                                      ...                     \n",
              "January              44.696784   34.933333   50.098421  ...   9.954545  NaN  NaN\n",
              "February             50.085972   35.666667   65.746899  ...  18.406087  NaN  0.0\n",
              "March                49.637858   51.181818   58.651273  ...  31.917222  NaN  NaN\n",
              "April                66.873139   77.046667   83.957343  ...  38.080000  NaN  NaN\n",
              "May                  65.756235   74.947143   78.559804  ...  33.698039  NaN  NaN\n",
              "June                 95.949922   99.632381  132.758077  ...  63.673571  NaN  NaN\n",
              "July                134.711490  134.564545  168.287872  ...  57.814048  8.0  NaN\n",
              "August              166.188725  166.563429  208.749581  ...  93.998235  NaN  NaN\n",
              "September            74.718118   82.830000   99.861278  ...  64.342857  NaN  NaN\n",
              "October              52.828256   56.100000   62.032953  ...  16.143636  NaN  NaN\n",
              "November             42.157597   41.250000   50.270196  ...  12.642857  NaN  0.0\n",
              "December             63.838404   45.606667   87.754175  ...  21.483333  NaN  NaN\n",
              "\n",
              "[12 rows x 11 columns]"
            ]
          },
          "metadata": {
            "tags": []
          },
          "execution_count": 116
        }
      ]
    },
    {
      "cell_type": "code",
      "metadata": {
        "colab": {
          "base_uri": "https://localhost:8080/",
          "height": 457
        },
        "id": "_BYZdkBZAF77",
        "outputId": "0cdd92f4-678d-4050-b3a6-245e7a7e8358"
      },
      "source": [
        "# replace Nan with 0\n",
        "adr_resort_df=adr_resort_df.fillna(0)\n",
        "adr_resort_df"
      ],
      "execution_count": null,
      "outputs": [
        {
          "output_type": "execute_result",
          "data": {
            "text/html": [
              "<div>\n",
              "<style scoped>\n",
              "    .dataframe tbody tr th:only-of-type {\n",
              "        vertical-align: middle;\n",
              "    }\n",
              "\n",
              "    .dataframe tbody tr th {\n",
              "        vertical-align: top;\n",
              "    }\n",
              "\n",
              "    .dataframe thead th {\n",
              "        text-align: right;\n",
              "    }\n",
              "</style>\n",
              "<table border=\"1\" class=\"dataframe\">\n",
              "  <thead>\n",
              "    <tr style=\"text-align: right;\">\n",
              "      <th>assigned_room_type</th>\n",
              "      <th>A</th>\n",
              "      <th>B</th>\n",
              "      <th>C</th>\n",
              "      <th>D</th>\n",
              "      <th>E</th>\n",
              "      <th>F</th>\n",
              "      <th>G</th>\n",
              "      <th>H</th>\n",
              "      <th>I</th>\n",
              "      <th>L</th>\n",
              "      <th>P</th>\n",
              "    </tr>\n",
              "    <tr>\n",
              "      <th>arrival_date_month</th>\n",
              "      <th></th>\n",
              "      <th></th>\n",
              "      <th></th>\n",
              "      <th></th>\n",
              "      <th></th>\n",
              "      <th></th>\n",
              "      <th></th>\n",
              "      <th></th>\n",
              "      <th></th>\n",
              "      <th></th>\n",
              "      <th></th>\n",
              "    </tr>\n",
              "  </thead>\n",
              "  <tbody>\n",
              "    <tr>\n",
              "      <th>January</th>\n",
              "      <td>44.696784</td>\n",
              "      <td>34.933333</td>\n",
              "      <td>50.098421</td>\n",
              "      <td>45.669857</td>\n",
              "      <td>60.569833</td>\n",
              "      <td>57.196452</td>\n",
              "      <td>80.680714</td>\n",
              "      <td>87.126071</td>\n",
              "      <td>9.954545</td>\n",
              "      <td>0.0</td>\n",
              "      <td>0.0</td>\n",
              "    </tr>\n",
              "    <tr>\n",
              "      <th>February</th>\n",
              "      <td>50.085972</td>\n",
              "      <td>35.666667</td>\n",
              "      <td>65.746899</td>\n",
              "      <td>50.874748</td>\n",
              "      <td>64.942891</td>\n",
              "      <td>68.446190</td>\n",
              "      <td>90.622190</td>\n",
              "      <td>106.540556</td>\n",
              "      <td>18.406087</td>\n",
              "      <td>0.0</td>\n",
              "      <td>0.0</td>\n",
              "    </tr>\n",
              "    <tr>\n",
              "      <th>March</th>\n",
              "      <td>49.637858</td>\n",
              "      <td>51.181818</td>\n",
              "      <td>58.651273</td>\n",
              "      <td>55.352293</td>\n",
              "      <td>68.831207</td>\n",
              "      <td>75.433151</td>\n",
              "      <td>98.382063</td>\n",
              "      <td>97.814706</td>\n",
              "      <td>31.917222</td>\n",
              "      <td>0.0</td>\n",
              "      <td>0.0</td>\n",
              "    </tr>\n",
              "    <tr>\n",
              "      <th>April</th>\n",
              "      <td>66.873139</td>\n",
              "      <td>77.046667</td>\n",
              "      <td>83.957343</td>\n",
              "      <td>73.107093</td>\n",
              "      <td>89.354293</td>\n",
              "      <td>95.302409</td>\n",
              "      <td>136.504626</td>\n",
              "      <td>146.416170</td>\n",
              "      <td>38.080000</td>\n",
              "      <td>0.0</td>\n",
              "      <td>0.0</td>\n",
              "    </tr>\n",
              "    <tr>\n",
              "      <th>May</th>\n",
              "      <td>65.756235</td>\n",
              "      <td>74.947143</td>\n",
              "      <td>78.559804</td>\n",
              "      <td>76.011980</td>\n",
              "      <td>92.894139</td>\n",
              "      <td>101.295125</td>\n",
              "      <td>138.043077</td>\n",
              "      <td>131.376719</td>\n",
              "      <td>33.698039</td>\n",
              "      <td>0.0</td>\n",
              "      <td>0.0</td>\n",
              "    </tr>\n",
              "    <tr>\n",
              "      <th>June</th>\n",
              "      <td>95.949922</td>\n",
              "      <td>99.632381</td>\n",
              "      <td>132.758077</td>\n",
              "      <td>98.911147</td>\n",
              "      <td>120.961719</td>\n",
              "      <td>138.513699</td>\n",
              "      <td>167.399392</td>\n",
              "      <td>188.200000</td>\n",
              "      <td>63.673571</td>\n",
              "      <td>0.0</td>\n",
              "      <td>0.0</td>\n",
              "    </tr>\n",
              "    <tr>\n",
              "      <th>July</th>\n",
              "      <td>134.711490</td>\n",
              "      <td>134.564545</td>\n",
              "      <td>168.287872</td>\n",
              "      <td>153.129021</td>\n",
              "      <td>165.809018</td>\n",
              "      <td>180.454595</td>\n",
              "      <td>216.688789</td>\n",
              "      <td>224.651304</td>\n",
              "      <td>57.814048</td>\n",
              "      <td>8.0</td>\n",
              "      <td>0.0</td>\n",
              "    </tr>\n",
              "    <tr>\n",
              "      <th>August</th>\n",
              "      <td>166.188725</td>\n",
              "      <td>166.563429</td>\n",
              "      <td>208.749581</td>\n",
              "      <td>182.832802</td>\n",
              "      <td>192.811411</td>\n",
              "      <td>208.599920</td>\n",
              "      <td>258.959619</td>\n",
              "      <td>273.538226</td>\n",
              "      <td>93.998235</td>\n",
              "      <td>0.0</td>\n",
              "      <td>0.0</td>\n",
              "    </tr>\n",
              "    <tr>\n",
              "      <th>September</th>\n",
              "      <td>74.718118</td>\n",
              "      <td>82.830000</td>\n",
              "      <td>99.861278</td>\n",
              "      <td>94.340754</td>\n",
              "      <td>109.018380</td>\n",
              "      <td>124.893871</td>\n",
              "      <td>153.492875</td>\n",
              "      <td>158.724286</td>\n",
              "      <td>64.342857</td>\n",
              "      <td>0.0</td>\n",
              "      <td>0.0</td>\n",
              "    </tr>\n",
              "    <tr>\n",
              "      <th>October</th>\n",
              "      <td>52.828256</td>\n",
              "      <td>56.100000</td>\n",
              "      <td>62.032953</td>\n",
              "      <td>62.776367</td>\n",
              "      <td>72.537763</td>\n",
              "      <td>78.734662</td>\n",
              "      <td>108.100125</td>\n",
              "      <td>104.546667</td>\n",
              "      <td>16.143636</td>\n",
              "      <td>0.0</td>\n",
              "      <td>0.0</td>\n",
              "    </tr>\n",
              "    <tr>\n",
              "      <th>November</th>\n",
              "      <td>42.157597</td>\n",
              "      <td>41.250000</td>\n",
              "      <td>50.270196</td>\n",
              "      <td>47.073207</td>\n",
              "      <td>58.570464</td>\n",
              "      <td>64.113023</td>\n",
              "      <td>82.602667</td>\n",
              "      <td>84.774815</td>\n",
              "      <td>12.642857</td>\n",
              "      <td>0.0</td>\n",
              "      <td>0.0</td>\n",
              "    </tr>\n",
              "    <tr>\n",
              "      <th>December</th>\n",
              "      <td>63.838404</td>\n",
              "      <td>45.606667</td>\n",
              "      <td>87.754175</td>\n",
              "      <td>61.225693</td>\n",
              "      <td>79.698457</td>\n",
              "      <td>89.384186</td>\n",
              "      <td>112.810361</td>\n",
              "      <td>121.037209</td>\n",
              "      <td>21.483333</td>\n",
              "      <td>0.0</td>\n",
              "      <td>0.0</td>\n",
              "    </tr>\n",
              "  </tbody>\n",
              "</table>\n",
              "</div>"
            ],
            "text/plain": [
              "assigned_room_type           A           B           C  ...          I    L    P\n",
              "arrival_date_month                                      ...                     \n",
              "January              44.696784   34.933333   50.098421  ...   9.954545  0.0  0.0\n",
              "February             50.085972   35.666667   65.746899  ...  18.406087  0.0  0.0\n",
              "March                49.637858   51.181818   58.651273  ...  31.917222  0.0  0.0\n",
              "April                66.873139   77.046667   83.957343  ...  38.080000  0.0  0.0\n",
              "May                  65.756235   74.947143   78.559804  ...  33.698039  0.0  0.0\n",
              "June                 95.949922   99.632381  132.758077  ...  63.673571  0.0  0.0\n",
              "July                134.711490  134.564545  168.287872  ...  57.814048  8.0  0.0\n",
              "August              166.188725  166.563429  208.749581  ...  93.998235  0.0  0.0\n",
              "September            74.718118   82.830000   99.861278  ...  64.342857  0.0  0.0\n",
              "October              52.828256   56.100000   62.032953  ...  16.143636  0.0  0.0\n",
              "November             42.157597   41.250000   50.270196  ...  12.642857  0.0  0.0\n",
              "December             63.838404   45.606667   87.754175  ...  21.483333  0.0  0.0\n",
              "\n",
              "[12 rows x 11 columns]"
            ]
          },
          "metadata": {
            "tags": []
          },
          "execution_count": 117
        }
      ]
    },
    {
      "cell_type": "code",
      "metadata": {
        "colab": {
          "base_uri": "https://localhost:8080/",
          "height": 457
        },
        "id": "qkzqdBG3pBgn",
        "outputId": "ed8c1890-c362-42ac-ff50-dca84cceb2f5"
      },
      "source": [
        "# Use groupby to get the adr variation in different months across different room types\n",
        "adr_city_df= city_df.groupby(['arrival_date_month','assigned_room_type'])['adr'].mean().unstack()\n",
        "adr_city_df"
      ],
      "execution_count": null,
      "outputs": [
        {
          "output_type": "execute_result",
          "data": {
            "text/html": [
              "<div>\n",
              "<style scoped>\n",
              "    .dataframe tbody tr th:only-of-type {\n",
              "        vertical-align: middle;\n",
              "    }\n",
              "\n",
              "    .dataframe tbody tr th {\n",
              "        vertical-align: top;\n",
              "    }\n",
              "\n",
              "    .dataframe thead th {\n",
              "        text-align: right;\n",
              "    }\n",
              "</style>\n",
              "<table border=\"1\" class=\"dataframe\">\n",
              "  <thead>\n",
              "    <tr style=\"text-align: right;\">\n",
              "      <th>assigned_room_type</th>\n",
              "      <th>A</th>\n",
              "      <th>B</th>\n",
              "      <th>C</th>\n",
              "      <th>D</th>\n",
              "      <th>E</th>\n",
              "      <th>F</th>\n",
              "      <th>G</th>\n",
              "      <th>K</th>\n",
              "      <th>P</th>\n",
              "    </tr>\n",
              "    <tr>\n",
              "      <th>arrival_date_month</th>\n",
              "      <th></th>\n",
              "      <th></th>\n",
              "      <th></th>\n",
              "      <th></th>\n",
              "      <th></th>\n",
              "      <th></th>\n",
              "      <th></th>\n",
              "      <th></th>\n",
              "      <th></th>\n",
              "    </tr>\n",
              "  </thead>\n",
              "  <tbody>\n",
              "    <tr>\n",
              "      <th>April</th>\n",
              "      <td>100.660533</td>\n",
              "      <td>97.074431</td>\n",
              "      <td>107.620000</td>\n",
              "      <td>127.819188</td>\n",
              "      <td>159.179793</td>\n",
              "      <td>191.407067</td>\n",
              "      <td>197.852969</td>\n",
              "      <td>71.364000</td>\n",
              "      <td>0.0</td>\n",
              "    </tr>\n",
              "    <tr>\n",
              "      <th>August</th>\n",
              "      <td>100.638361</td>\n",
              "      <td>95.652510</td>\n",
              "      <td>106.828462</td>\n",
              "      <td>138.797752</td>\n",
              "      <td>162.757843</td>\n",
              "      <td>197.797760</td>\n",
              "      <td>222.707475</td>\n",
              "      <td>87.015476</td>\n",
              "      <td>0.0</td>\n",
              "    </tr>\n",
              "    <tr>\n",
              "      <th>December</th>\n",
              "      <td>81.228731</td>\n",
              "      <td>83.372394</td>\n",
              "      <td>65.060000</td>\n",
              "      <td>101.782615</td>\n",
              "      <td>126.365875</td>\n",
              "      <td>157.949344</td>\n",
              "      <td>135.149250</td>\n",
              "      <td>49.778636</td>\n",
              "      <td>0.0</td>\n",
              "    </tr>\n",
              "    <tr>\n",
              "      <th>February</th>\n",
              "      <td>78.467295</td>\n",
              "      <td>71.902650</td>\n",
              "      <td>76.880000</td>\n",
              "      <td>97.913163</td>\n",
              "      <td>107.134513</td>\n",
              "      <td>153.042193</td>\n",
              "      <td>176.623500</td>\n",
              "      <td>49.138333</td>\n",
              "      <td>NaN</td>\n",
              "    </tr>\n",
              "    <tr>\n",
              "      <th>January</th>\n",
              "      <td>78.476215</td>\n",
              "      <td>77.274390</td>\n",
              "      <td>NaN</td>\n",
              "      <td>92.772441</td>\n",
              "      <td>108.701446</td>\n",
              "      <td>136.546780</td>\n",
              "      <td>143.883077</td>\n",
              "      <td>44.203333</td>\n",
              "      <td>NaN</td>\n",
              "    </tr>\n",
              "    <tr>\n",
              "      <th>July</th>\n",
              "      <td>97.394711</td>\n",
              "      <td>89.644211</td>\n",
              "      <td>103.992083</td>\n",
              "      <td>137.515175</td>\n",
              "      <td>161.666643</td>\n",
              "      <td>187.227731</td>\n",
              "      <td>227.235682</td>\n",
              "      <td>71.238333</td>\n",
              "      <td>NaN</td>\n",
              "    </tr>\n",
              "    <tr>\n",
              "      <th>June</th>\n",
              "      <td>110.955929</td>\n",
              "      <td>106.079485</td>\n",
              "      <td>92.623571</td>\n",
              "      <td>135.349528</td>\n",
              "      <td>160.392180</td>\n",
              "      <td>185.971082</td>\n",
              "      <td>185.538429</td>\n",
              "      <td>64.534286</td>\n",
              "      <td>NaN</td>\n",
              "    </tr>\n",
              "    <tr>\n",
              "      <th>March</th>\n",
              "      <td>84.904483</td>\n",
              "      <td>83.693974</td>\n",
              "      <td>83.236923</td>\n",
              "      <td>104.616692</td>\n",
              "      <td>123.910204</td>\n",
              "      <td>160.938681</td>\n",
              "      <td>130.524808</td>\n",
              "      <td>28.730263</td>\n",
              "      <td>NaN</td>\n",
              "    </tr>\n",
              "    <tr>\n",
              "      <th>May</th>\n",
              "      <td>111.683030</td>\n",
              "      <td>108.694667</td>\n",
              "      <td>112.957619</td>\n",
              "      <td>139.949887</td>\n",
              "      <td>161.107984</td>\n",
              "      <td>195.327169</td>\n",
              "      <td>202.796706</td>\n",
              "      <td>61.666667</td>\n",
              "      <td>NaN</td>\n",
              "    </tr>\n",
              "    <tr>\n",
              "      <th>November</th>\n",
              "      <td>86.643930</td>\n",
              "      <td>85.763600</td>\n",
              "      <td>76.810000</td>\n",
              "      <td>90.503783</td>\n",
              "      <td>98.939718</td>\n",
              "      <td>135.027541</td>\n",
              "      <td>107.118571</td>\n",
              "      <td>48.292609</td>\n",
              "      <td>0.0</td>\n",
              "    </tr>\n",
              "    <tr>\n",
              "      <th>October</th>\n",
              "      <td>94.332317</td>\n",
              "      <td>96.028139</td>\n",
              "      <td>91.038235</td>\n",
              "      <td>112.018411</td>\n",
              "      <td>125.111366</td>\n",
              "      <td>164.410000</td>\n",
              "      <td>151.298519</td>\n",
              "      <td>40.427561</td>\n",
              "      <td>NaN</td>\n",
              "    </tr>\n",
              "    <tr>\n",
              "      <th>September</th>\n",
              "      <td>103.198470</td>\n",
              "      <td>101.627185</td>\n",
              "      <td>123.577647</td>\n",
              "      <td>124.739426</td>\n",
              "      <td>133.003881</td>\n",
              "      <td>176.738111</td>\n",
              "      <td>176.725246</td>\n",
              "      <td>38.458750</td>\n",
              "      <td>NaN</td>\n",
              "    </tr>\n",
              "  </tbody>\n",
              "</table>\n",
              "</div>"
            ],
            "text/plain": [
              "assigned_room_type           A           B  ...          K    P\n",
              "arrival_date_month                          ...                \n",
              "April               100.660533   97.074431  ...  71.364000  0.0\n",
              "August              100.638361   95.652510  ...  87.015476  0.0\n",
              "December             81.228731   83.372394  ...  49.778636  0.0\n",
              "February             78.467295   71.902650  ...  49.138333  NaN\n",
              "January              78.476215   77.274390  ...  44.203333  NaN\n",
              "July                 97.394711   89.644211  ...  71.238333  NaN\n",
              "June                110.955929  106.079485  ...  64.534286  NaN\n",
              "March                84.904483   83.693974  ...  28.730263  NaN\n",
              "May                 111.683030  108.694667  ...  61.666667  NaN\n",
              "November             86.643930   85.763600  ...  48.292609  0.0\n",
              "October              94.332317   96.028139  ...  40.427561  NaN\n",
              "September           103.198470  101.627185  ...  38.458750  NaN\n",
              "\n",
              "[12 rows x 9 columns]"
            ]
          },
          "metadata": {
            "tags": []
          },
          "execution_count": 118
        }
      ]
    },
    {
      "cell_type": "code",
      "metadata": {
        "id": "_NJ2AcAcp46J"
      },
      "source": [
        "# Sort the months in dataframe we get above as per their occurance\n",
        "adr_city_df.index=pd.CategoricalIndex(adr_city_df.index, categories=Months_name, ordered=True)\n",
        "adr_city_df = adr_city_df.sort_index()"
      ],
      "execution_count": null,
      "outputs": []
    },
    {
      "cell_type": "code",
      "metadata": {
        "colab": {
          "base_uri": "https://localhost:8080/",
          "height": 457
        },
        "id": "9A8DtV3mqMs_",
        "outputId": "d426b298-d54d-4c36-ade6-cfb75a54fc19"
      },
      "source": [
        "adr_city_df"
      ],
      "execution_count": null,
      "outputs": [
        {
          "output_type": "execute_result",
          "data": {
            "text/html": [
              "<div>\n",
              "<style scoped>\n",
              "    .dataframe tbody tr th:only-of-type {\n",
              "        vertical-align: middle;\n",
              "    }\n",
              "\n",
              "    .dataframe tbody tr th {\n",
              "        vertical-align: top;\n",
              "    }\n",
              "\n",
              "    .dataframe thead th {\n",
              "        text-align: right;\n",
              "    }\n",
              "</style>\n",
              "<table border=\"1\" class=\"dataframe\">\n",
              "  <thead>\n",
              "    <tr style=\"text-align: right;\">\n",
              "      <th>assigned_room_type</th>\n",
              "      <th>A</th>\n",
              "      <th>B</th>\n",
              "      <th>C</th>\n",
              "      <th>D</th>\n",
              "      <th>E</th>\n",
              "      <th>F</th>\n",
              "      <th>G</th>\n",
              "      <th>K</th>\n",
              "      <th>P</th>\n",
              "    </tr>\n",
              "    <tr>\n",
              "      <th>arrival_date_month</th>\n",
              "      <th></th>\n",
              "      <th></th>\n",
              "      <th></th>\n",
              "      <th></th>\n",
              "      <th></th>\n",
              "      <th></th>\n",
              "      <th></th>\n",
              "      <th></th>\n",
              "      <th></th>\n",
              "    </tr>\n",
              "  </thead>\n",
              "  <tbody>\n",
              "    <tr>\n",
              "      <th>January</th>\n",
              "      <td>78.476215</td>\n",
              "      <td>77.274390</td>\n",
              "      <td>NaN</td>\n",
              "      <td>92.772441</td>\n",
              "      <td>108.701446</td>\n",
              "      <td>136.546780</td>\n",
              "      <td>143.883077</td>\n",
              "      <td>44.203333</td>\n",
              "      <td>NaN</td>\n",
              "    </tr>\n",
              "    <tr>\n",
              "      <th>February</th>\n",
              "      <td>78.467295</td>\n",
              "      <td>71.902650</td>\n",
              "      <td>76.880000</td>\n",
              "      <td>97.913163</td>\n",
              "      <td>107.134513</td>\n",
              "      <td>153.042193</td>\n",
              "      <td>176.623500</td>\n",
              "      <td>49.138333</td>\n",
              "      <td>NaN</td>\n",
              "    </tr>\n",
              "    <tr>\n",
              "      <th>March</th>\n",
              "      <td>84.904483</td>\n",
              "      <td>83.693974</td>\n",
              "      <td>83.236923</td>\n",
              "      <td>104.616692</td>\n",
              "      <td>123.910204</td>\n",
              "      <td>160.938681</td>\n",
              "      <td>130.524808</td>\n",
              "      <td>28.730263</td>\n",
              "      <td>NaN</td>\n",
              "    </tr>\n",
              "    <tr>\n",
              "      <th>April</th>\n",
              "      <td>100.660533</td>\n",
              "      <td>97.074431</td>\n",
              "      <td>107.620000</td>\n",
              "      <td>127.819188</td>\n",
              "      <td>159.179793</td>\n",
              "      <td>191.407067</td>\n",
              "      <td>197.852969</td>\n",
              "      <td>71.364000</td>\n",
              "      <td>0.0</td>\n",
              "    </tr>\n",
              "    <tr>\n",
              "      <th>May</th>\n",
              "      <td>111.683030</td>\n",
              "      <td>108.694667</td>\n",
              "      <td>112.957619</td>\n",
              "      <td>139.949887</td>\n",
              "      <td>161.107984</td>\n",
              "      <td>195.327169</td>\n",
              "      <td>202.796706</td>\n",
              "      <td>61.666667</td>\n",
              "      <td>NaN</td>\n",
              "    </tr>\n",
              "    <tr>\n",
              "      <th>June</th>\n",
              "      <td>110.955929</td>\n",
              "      <td>106.079485</td>\n",
              "      <td>92.623571</td>\n",
              "      <td>135.349528</td>\n",
              "      <td>160.392180</td>\n",
              "      <td>185.971082</td>\n",
              "      <td>185.538429</td>\n",
              "      <td>64.534286</td>\n",
              "      <td>NaN</td>\n",
              "    </tr>\n",
              "    <tr>\n",
              "      <th>July</th>\n",
              "      <td>97.394711</td>\n",
              "      <td>89.644211</td>\n",
              "      <td>103.992083</td>\n",
              "      <td>137.515175</td>\n",
              "      <td>161.666643</td>\n",
              "      <td>187.227731</td>\n",
              "      <td>227.235682</td>\n",
              "      <td>71.238333</td>\n",
              "      <td>NaN</td>\n",
              "    </tr>\n",
              "    <tr>\n",
              "      <th>August</th>\n",
              "      <td>100.638361</td>\n",
              "      <td>95.652510</td>\n",
              "      <td>106.828462</td>\n",
              "      <td>138.797752</td>\n",
              "      <td>162.757843</td>\n",
              "      <td>197.797760</td>\n",
              "      <td>222.707475</td>\n",
              "      <td>87.015476</td>\n",
              "      <td>0.0</td>\n",
              "    </tr>\n",
              "    <tr>\n",
              "      <th>September</th>\n",
              "      <td>103.198470</td>\n",
              "      <td>101.627185</td>\n",
              "      <td>123.577647</td>\n",
              "      <td>124.739426</td>\n",
              "      <td>133.003881</td>\n",
              "      <td>176.738111</td>\n",
              "      <td>176.725246</td>\n",
              "      <td>38.458750</td>\n",
              "      <td>NaN</td>\n",
              "    </tr>\n",
              "    <tr>\n",
              "      <th>October</th>\n",
              "      <td>94.332317</td>\n",
              "      <td>96.028139</td>\n",
              "      <td>91.038235</td>\n",
              "      <td>112.018411</td>\n",
              "      <td>125.111366</td>\n",
              "      <td>164.410000</td>\n",
              "      <td>151.298519</td>\n",
              "      <td>40.427561</td>\n",
              "      <td>NaN</td>\n",
              "    </tr>\n",
              "    <tr>\n",
              "      <th>November</th>\n",
              "      <td>86.643930</td>\n",
              "      <td>85.763600</td>\n",
              "      <td>76.810000</td>\n",
              "      <td>90.503783</td>\n",
              "      <td>98.939718</td>\n",
              "      <td>135.027541</td>\n",
              "      <td>107.118571</td>\n",
              "      <td>48.292609</td>\n",
              "      <td>0.0</td>\n",
              "    </tr>\n",
              "    <tr>\n",
              "      <th>December</th>\n",
              "      <td>81.228731</td>\n",
              "      <td>83.372394</td>\n",
              "      <td>65.060000</td>\n",
              "      <td>101.782615</td>\n",
              "      <td>126.365875</td>\n",
              "      <td>157.949344</td>\n",
              "      <td>135.149250</td>\n",
              "      <td>49.778636</td>\n",
              "      <td>0.0</td>\n",
              "    </tr>\n",
              "  </tbody>\n",
              "</table>\n",
              "</div>"
            ],
            "text/plain": [
              "assigned_room_type           A           B  ...          K    P\n",
              "arrival_date_month                          ...                \n",
              "January              78.476215   77.274390  ...  44.203333  NaN\n",
              "February             78.467295   71.902650  ...  49.138333  NaN\n",
              "March                84.904483   83.693974  ...  28.730263  NaN\n",
              "April               100.660533   97.074431  ...  71.364000  0.0\n",
              "May                 111.683030  108.694667  ...  61.666667  NaN\n",
              "June                110.955929  106.079485  ...  64.534286  NaN\n",
              "July                 97.394711   89.644211  ...  71.238333  NaN\n",
              "August              100.638361   95.652510  ...  87.015476  0.0\n",
              "September           103.198470  101.627185  ...  38.458750  NaN\n",
              "October              94.332317   96.028139  ...  40.427561  NaN\n",
              "November             86.643930   85.763600  ...  48.292609  0.0\n",
              "December             81.228731   83.372394  ...  49.778636  0.0\n",
              "\n",
              "[12 rows x 9 columns]"
            ]
          },
          "metadata": {
            "tags": []
          },
          "execution_count": 120
        }
      ]
    },
    {
      "cell_type": "code",
      "metadata": {
        "id": "wq0DFvY8qSBZ"
      },
      "source": [
        "#replace Nan with 0\n",
        "adr_city_df = adr_city_df.fillna(0)"
      ],
      "execution_count": null,
      "outputs": []
    },
    {
      "cell_type": "code",
      "metadata": {
        "colab": {
          "base_uri": "https://localhost:8080/",
          "height": 457
        },
        "id": "1E4ghRiAqe56",
        "outputId": "dc3c3526-b274-409e-b75e-df2591649ded"
      },
      "source": [
        "adr_city_df"
      ],
      "execution_count": null,
      "outputs": [
        {
          "output_type": "execute_result",
          "data": {
            "text/html": [
              "<div>\n",
              "<style scoped>\n",
              "    .dataframe tbody tr th:only-of-type {\n",
              "        vertical-align: middle;\n",
              "    }\n",
              "\n",
              "    .dataframe tbody tr th {\n",
              "        vertical-align: top;\n",
              "    }\n",
              "\n",
              "    .dataframe thead th {\n",
              "        text-align: right;\n",
              "    }\n",
              "</style>\n",
              "<table border=\"1\" class=\"dataframe\">\n",
              "  <thead>\n",
              "    <tr style=\"text-align: right;\">\n",
              "      <th>assigned_room_type</th>\n",
              "      <th>A</th>\n",
              "      <th>B</th>\n",
              "      <th>C</th>\n",
              "      <th>D</th>\n",
              "      <th>E</th>\n",
              "      <th>F</th>\n",
              "      <th>G</th>\n",
              "      <th>K</th>\n",
              "      <th>P</th>\n",
              "    </tr>\n",
              "    <tr>\n",
              "      <th>arrival_date_month</th>\n",
              "      <th></th>\n",
              "      <th></th>\n",
              "      <th></th>\n",
              "      <th></th>\n",
              "      <th></th>\n",
              "      <th></th>\n",
              "      <th></th>\n",
              "      <th></th>\n",
              "      <th></th>\n",
              "    </tr>\n",
              "  </thead>\n",
              "  <tbody>\n",
              "    <tr>\n",
              "      <th>January</th>\n",
              "      <td>78.476215</td>\n",
              "      <td>77.274390</td>\n",
              "      <td>0.000000</td>\n",
              "      <td>92.772441</td>\n",
              "      <td>108.701446</td>\n",
              "      <td>136.546780</td>\n",
              "      <td>143.883077</td>\n",
              "      <td>44.203333</td>\n",
              "      <td>0.0</td>\n",
              "    </tr>\n",
              "    <tr>\n",
              "      <th>February</th>\n",
              "      <td>78.467295</td>\n",
              "      <td>71.902650</td>\n",
              "      <td>76.880000</td>\n",
              "      <td>97.913163</td>\n",
              "      <td>107.134513</td>\n",
              "      <td>153.042193</td>\n",
              "      <td>176.623500</td>\n",
              "      <td>49.138333</td>\n",
              "      <td>0.0</td>\n",
              "    </tr>\n",
              "    <tr>\n",
              "      <th>March</th>\n",
              "      <td>84.904483</td>\n",
              "      <td>83.693974</td>\n",
              "      <td>83.236923</td>\n",
              "      <td>104.616692</td>\n",
              "      <td>123.910204</td>\n",
              "      <td>160.938681</td>\n",
              "      <td>130.524808</td>\n",
              "      <td>28.730263</td>\n",
              "      <td>0.0</td>\n",
              "    </tr>\n",
              "    <tr>\n",
              "      <th>April</th>\n",
              "      <td>100.660533</td>\n",
              "      <td>97.074431</td>\n",
              "      <td>107.620000</td>\n",
              "      <td>127.819188</td>\n",
              "      <td>159.179793</td>\n",
              "      <td>191.407067</td>\n",
              "      <td>197.852969</td>\n",
              "      <td>71.364000</td>\n",
              "      <td>0.0</td>\n",
              "    </tr>\n",
              "    <tr>\n",
              "      <th>May</th>\n",
              "      <td>111.683030</td>\n",
              "      <td>108.694667</td>\n",
              "      <td>112.957619</td>\n",
              "      <td>139.949887</td>\n",
              "      <td>161.107984</td>\n",
              "      <td>195.327169</td>\n",
              "      <td>202.796706</td>\n",
              "      <td>61.666667</td>\n",
              "      <td>0.0</td>\n",
              "    </tr>\n",
              "    <tr>\n",
              "      <th>June</th>\n",
              "      <td>110.955929</td>\n",
              "      <td>106.079485</td>\n",
              "      <td>92.623571</td>\n",
              "      <td>135.349528</td>\n",
              "      <td>160.392180</td>\n",
              "      <td>185.971082</td>\n",
              "      <td>185.538429</td>\n",
              "      <td>64.534286</td>\n",
              "      <td>0.0</td>\n",
              "    </tr>\n",
              "    <tr>\n",
              "      <th>July</th>\n",
              "      <td>97.394711</td>\n",
              "      <td>89.644211</td>\n",
              "      <td>103.992083</td>\n",
              "      <td>137.515175</td>\n",
              "      <td>161.666643</td>\n",
              "      <td>187.227731</td>\n",
              "      <td>227.235682</td>\n",
              "      <td>71.238333</td>\n",
              "      <td>0.0</td>\n",
              "    </tr>\n",
              "    <tr>\n",
              "      <th>August</th>\n",
              "      <td>100.638361</td>\n",
              "      <td>95.652510</td>\n",
              "      <td>106.828462</td>\n",
              "      <td>138.797752</td>\n",
              "      <td>162.757843</td>\n",
              "      <td>197.797760</td>\n",
              "      <td>222.707475</td>\n",
              "      <td>87.015476</td>\n",
              "      <td>0.0</td>\n",
              "    </tr>\n",
              "    <tr>\n",
              "      <th>September</th>\n",
              "      <td>103.198470</td>\n",
              "      <td>101.627185</td>\n",
              "      <td>123.577647</td>\n",
              "      <td>124.739426</td>\n",
              "      <td>133.003881</td>\n",
              "      <td>176.738111</td>\n",
              "      <td>176.725246</td>\n",
              "      <td>38.458750</td>\n",
              "      <td>0.0</td>\n",
              "    </tr>\n",
              "    <tr>\n",
              "      <th>October</th>\n",
              "      <td>94.332317</td>\n",
              "      <td>96.028139</td>\n",
              "      <td>91.038235</td>\n",
              "      <td>112.018411</td>\n",
              "      <td>125.111366</td>\n",
              "      <td>164.410000</td>\n",
              "      <td>151.298519</td>\n",
              "      <td>40.427561</td>\n",
              "      <td>0.0</td>\n",
              "    </tr>\n",
              "    <tr>\n",
              "      <th>November</th>\n",
              "      <td>86.643930</td>\n",
              "      <td>85.763600</td>\n",
              "      <td>76.810000</td>\n",
              "      <td>90.503783</td>\n",
              "      <td>98.939718</td>\n",
              "      <td>135.027541</td>\n",
              "      <td>107.118571</td>\n",
              "      <td>48.292609</td>\n",
              "      <td>0.0</td>\n",
              "    </tr>\n",
              "    <tr>\n",
              "      <th>December</th>\n",
              "      <td>81.228731</td>\n",
              "      <td>83.372394</td>\n",
              "      <td>65.060000</td>\n",
              "      <td>101.782615</td>\n",
              "      <td>126.365875</td>\n",
              "      <td>157.949344</td>\n",
              "      <td>135.149250</td>\n",
              "      <td>49.778636</td>\n",
              "      <td>0.0</td>\n",
              "    </tr>\n",
              "  </tbody>\n",
              "</table>\n",
              "</div>"
            ],
            "text/plain": [
              "assigned_room_type           A           B  ...          K    P\n",
              "arrival_date_month                          ...                \n",
              "January              78.476215   77.274390  ...  44.203333  0.0\n",
              "February             78.467295   71.902650  ...  49.138333  0.0\n",
              "March                84.904483   83.693974  ...  28.730263  0.0\n",
              "April               100.660533   97.074431  ...  71.364000  0.0\n",
              "May                 111.683030  108.694667  ...  61.666667  0.0\n",
              "June                110.955929  106.079485  ...  64.534286  0.0\n",
              "July                 97.394711   89.644211  ...  71.238333  0.0\n",
              "August              100.638361   95.652510  ...  87.015476  0.0\n",
              "September           103.198470  101.627185  ...  38.458750  0.0\n",
              "October              94.332317   96.028139  ...  40.427561  0.0\n",
              "November             86.643930   85.763600  ...  48.292609  0.0\n",
              "December             81.228731   83.372394  ...  49.778636  0.0\n",
              "\n",
              "[12 rows x 9 columns]"
            ]
          },
          "metadata": {
            "tags": []
          },
          "execution_count": 122
        }
      ]
    },
    {
      "cell_type": "code",
      "metadata": {
        "colab": {
          "base_uri": "https://localhost:8080/",
          "height": 597
        },
        "id": "BmX8SjasB0z3",
        "outputId": "837177ad-da41-4d31-dd44-f06484f81b70"
      },
      "source": [
        "fig, ax1 = plt.subplots(figsize=(20,9))\n",
        "sns.heatmap(adr_resort_df,ax= ax1, linewidths=0.5, annot= True, annot_kws={'size':15}, fmt='0.2f')\n",
        "ax1.set_ylabel('Month', fontsize=18)\n",
        "ax1.set_xlabel('Room Types', fontsize=18)\n",
        "ax1.set_title('ADR variation according to Room Type and Months(Resort Hotel)', fontsize=20)\n"
      ],
      "execution_count": null,
      "outputs": [
        {
          "output_type": "execute_result",
          "data": {
            "text/plain": [
              "Text(0.5, 1.0, 'ADR variation according to Room Type and Months(Resort Hotel)')"
            ]
          },
          "metadata": {
            "tags": []
          },
          "execution_count": 123
        },
        {
          "output_type": "display_data",
          "data": {
            "image/png": "[encoded data removed]",
            "text/plain": [
              "<Figure size 1440x648 with 2 Axes>"
            ]
          },
          "metadata": {
            "tags": [],
            "needs_background": "light"
          }
        }
      ]
    },
    {
      "cell_type": "markdown",
      "metadata": {
        "id": "eKvMUNUSxPoF"
      },
      "source": [
        "In the above heatmap, we can see that the adr of all rooms is almost at its peak in the month of **July and August**. Room types** H** has the highest ADR of **273.54** in the month of August. If we look closely,**H** has ADR > 100 almost entire year. The second room type that comes after **H** is **G**."
      ]
    },
    {
      "cell_type": "code",
      "metadata": {
        "colab": {
          "base_uri": "https://localhost:8080/",
          "height": 597
        },
        "id": "_XyfTnhjhdDe",
        "outputId": "2a6a1531-633b-49a0-8fa4-2a27af565ee9"
      },
      "source": [
        "fig, ax2=plt.subplots(figsize= (20,9))\n",
        "sns.heatmap(adr_city_df,ax=ax2, linewidths=0.5, annot= True, annot_kws={'size':15}, fmt='0.2f')\n",
        "ax2.set_ylabel('Month', fontsize=18)\n",
        "ax2.set_xlabel('Room Types', fontsize=18)\n",
        "ax2.set_title('ADR variation according to Room Type and Months(City Hotel)', fontsize=20)"
      ],
      "execution_count": null,
      "outputs": [
        {
          "output_type": "execute_result",
          "data": {
            "text/plain": [
              "Text(0.5, 1.0, 'ADR variation according to Room Type and Months(City Hotel)')"
            ]
          },
          "metadata": {
            "tags": []
          },
          "execution_count": 124
        },
        {
          "output_type": "display_data",
          "data": {
            "image/png": "[encoded data removed]",
            "text/plain": [
              "<Figure size 1440x648 with 2 Axes>"
            ]
          },
          "metadata": {
            "tags": [],
            "needs_background": "light"
          }
        }
      ]
    },
    {
      "cell_type": "markdown",
      "metadata": {
        "id": "jZn-D4ULyj3O"
      },
      "source": [
        "In City Hotels, room type **G** has the highest ADR in the month of July. Room type **F** comes after G. These two rooms have ADR > 100 entire year. "
      ]
    },
    {
      "cell_type": "code",
      "metadata": {
        "id": "Una8_13-xPui"
      },
      "source": [
        "hotel_df_copy['hotel']=hotel_df_copy['hotel'].convert_dtypes(convert_string= True)"
      ],
      "execution_count": null,
      "outputs": []
    },
    {
      "cell_type": "code",
      "metadata": {
        "colab": {
          "base_uri": "https://localhost:8080/"
        },
        "id": "Oo8NOMP3JUan",
        "outputId": "c1bc2ad3-a18d-4d6d-e08a-340453fe754e"
      },
      "source": [
        "hotel_df_copy.info()"
      ],
      "execution_count": null,
      "outputs": [
        {
          "output_type": "stream",
          "text": [
            "<class 'pandas.core.frame.DataFrame'>\n",
            "Int64Index: 119389 entries, 0 to 119389\n",
            "Data columns (total 32 columns):\n",
            " #   Column                          Non-Null Count   Dtype  \n",
            "---  ------                          --------------   -----  \n",
            " 0   hotel                           119389 non-null  string \n",
            " 1   is_canceled                     119389 non-null  int64  \n",
            " 2   lead_time                       119389 non-null  int64  \n",
            " 3   arrival_date_year               119389 non-null  int64  \n",
            " 4   arrival_date_month              119389 non-null  object \n",
            " 5   arrival_date_week_number        119389 non-null  int64  \n",
            " 6   arrival_date_day_of_month       119389 non-null  int64  \n",
            " 7   stays_in_weekend_nights         119389 non-null  int64  \n",
            " 8   stays_in_week_nights            119389 non-null  int64  \n",
            " 9   adults                          119389 non-null  int64  \n",
            " 10  children                        119385 non-null  float64\n",
            " 11  babies                          119389 non-null  int64  \n",
            " 12  meal                            119389 non-null  object \n",
            " 13  country                         118901 non-null  object \n",
            " 14  market_segment                  119389 non-null  object \n",
            " 15  distribution_channel            119389 non-null  object \n",
            " 16  is_repeated_guest               119389 non-null  int64  \n",
            " 17  previous_cancellations          119389 non-null  int64  \n",
            " 18  previous_bookings_not_canceled  119389 non-null  int64  \n",
            " 19  reserved_room_type              119389 non-null  object \n",
            " 20  assigned_room_type              119389 non-null  object \n",
            " 21  booking_changes                 119389 non-null  int64  \n",
            " 22  deposit_type                    119389 non-null  object \n",
            " 23  agent                           103049 non-null  float64\n",
            " 24  company                         6797 non-null    float64\n",
            " 25  days_in_waiting_list            119389 non-null  int64  \n",
            " 26  customer_type                   119389 non-null  object \n",
            " 27  adr                             119389 non-null  float64\n",
            " 28  required_car_parking_spaces     119389 non-null  int64  \n",
            " 29  total_of_special_requests       119389 non-null  int64  \n",
            " 30  reservation_status              119389 non-null  object \n",
            " 31  reservation_status_date         119389 non-null  object \n",
            "dtypes: float64(4), int64(16), object(11), string(1)\n",
            "memory usage: 30.1+ MB\n"
          ],
          "name": "stdout"
        }
      ]
    },
    {
      "cell_type": "code",
      "metadata": {
        "id": "CEyJMT1yJekz"
      },
      "source": [
        ""
      ],
      "execution_count": null,
      "outputs": []
    }
  ]
}