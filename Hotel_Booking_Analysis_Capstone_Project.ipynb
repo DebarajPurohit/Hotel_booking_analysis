{
  "nbformat": 4,
  "nbformat_minor": 0,
  "metadata": {
    "kernelspec": {
      "display_name": "Python 3",
      "language": "python",
      "name": "python3"
    },
    "language_info": {
      "codemirror_mode": {
        "name": "ipython",
        "version": 3
      },
      "file_extension": ".py",
      "mimetype": "text/x-python",
      "name": "python",
      "nbconvert_exporter": "python",
      "pygments_lexer": "ipython3",
      "version": "3.6.6"
    },
    "colab": {
      "name": "Hotel Booking Analysis - Capstone Project.ipynb",
      "provenance": [],
      "collapsed_sections": [],
      "include_colab_link": true
    }
  },
  "cells": [
    {
      "cell_type": "markdown",
      "metadata": {
        "id": "view-in-github",
        "colab_type": "text"
      },
      "source": [
        "<a href=\"https://colab.research.google.com/github/DebarajPurohit/Hotel_booking_analysis/blob/main/Hotel_Booking_Analysis_Capstone_Project.ipynb\" target=\"_parent\"><img src=\"https://colab.research.google.com/assets/colab-badge.svg\" alt=\"Open In Colab\"/></a>"
      ]
    },
    {
      "cell_type": "markdown",
      "metadata": {
        "id": "Y06xIdG26kRF"
      },
      "source": [
        "## <b> Have you ever wondered when the best time of year to book a hotel room is? Or the optimal length of stay in order to get the best daily rate? What if you wanted to predict whether or not a hotel was likely to receive a disproportionately high number of special requests? This hotel booking dataset can help you explore those questions!\n",
        "\n",
        "## <b>This data set contains booking information for a city hotel and a resort hotel, and includes information such as when the booking was made, length of stay, the number of adults, children, and/or babies, and the number of available parking spaces, among other things. All personally identifying information has been removed from the data. </b>\n",
        "\n",
        "## <b> Explore and analyze the data to discover important factors that govern the bookings. </b>"
      ]
    },
    {
      "cell_type": "code",
      "metadata": {
        "colab": {
          "base_uri": "https://localhost:8080/"
        },
        "id": "HWSVyWonE1DB",
        "outputId": "a20a7aa9-1c78-4662-cef2-2b5d9c6386e4"
      },
      "source": [
        "from google.colab import drive\n",
        "drive.mount('/content/drive')"
      ],
      "execution_count": 1,
      "outputs": [
        {
          "output_type": "stream",
          "text": [
            "Mounted at /content/drive\n"
          ],
          "name": "stdout"
        }
      ]
    },
    {
      "cell_type": "code",
      "metadata": {
        "id": "dByMsuzT8Tnw"
      },
      "source": [
        "import pandas as pd\n",
        "import numpy as np\n",
        "import matplotlib.pyplot as plt\n",
        "import seaborn as sns\n",
        "% matplotlib inline"
      ],
      "execution_count": 2,
      "outputs": []
    },
    {
      "cell_type": "code",
      "metadata": {
        "id": "A_Yuq6IUFPfs"
      },
      "source": [
        "file_path = '/content/drive/MyDrive/Colab Notebooks/Almabetter/CAPSTONE PROJECT/PROJECT-1 EDA/HOTEL BOOKING EDA/Hotel Bookings.csv'"
      ],
      "execution_count": 3,
      "outputs": []
    },
    {
      "cell_type": "code",
      "metadata": {
        "id": "pwfOGWgoFdIL"
      },
      "source": [
        "hotel_df = pd.read_csv(file_path)"
      ],
      "execution_count": 4,
      "outputs": []
    },
    {
      "cell_type": "code",
      "metadata": {
        "colab": {
          "base_uri": "https://localhost:8080/",
          "height": 211
        },
        "id": "3Sy08kHXFjKa",
        "outputId": "87943b8b-2a46-4219-c9e4-ce08c3942b6d"
      },
      "source": [
        "hotel_df.head(3)"
      ],
      "execution_count": 5,
      "outputs": [
        {
          "output_type": "execute_result",
          "data": {
            "text/html": [
              "<div>\n",
              "<style scoped>\n",
              "    .dataframe tbody tr th:only-of-type {\n",
              "        vertical-align: middle;\n",
              "    }\n",
              "\n",
              "    .dataframe tbody tr th {\n",
              "        vertical-align: top;\n",
              "    }\n",
              "\n",
              "    .dataframe thead th {\n",
              "        text-align: right;\n",
              "    }\n",
              "</style>\n",
              "<table border=\"1\" class=\"dataframe\">\n",
              "  <thead>\n",
              "    <tr style=\"text-align: right;\">\n",
              "      <th></th>\n",
              "      <th>hotel</th>\n",
              "      <th>is_canceled</th>\n",
              "      <th>lead_time</th>\n",
              "      <th>arrival_date_year</th>\n",
              "      <th>arrival_date_month</th>\n",
              "      <th>arrival_date_week_number</th>\n",
              "      <th>arrival_date_day_of_month</th>\n",
              "      <th>stays_in_weekend_nights</th>\n",
              "      <th>stays_in_week_nights</th>\n",
              "      <th>adults</th>\n",
              "      <th>children</th>\n",
              "      <th>babies</th>\n",
              "      <th>meal</th>\n",
              "      <th>country</th>\n",
              "      <th>market_segment</th>\n",
              "      <th>distribution_channel</th>\n",
              "      <th>is_repeated_guest</th>\n",
              "      <th>previous_cancellations</th>\n",
              "      <th>previous_bookings_not_canceled</th>\n",
              "      <th>reserved_room_type</th>\n",
              "      <th>assigned_room_type</th>\n",
              "      <th>booking_changes</th>\n",
              "      <th>deposit_type</th>\n",
              "      <th>agent</th>\n",
              "      <th>company</th>\n",
              "      <th>days_in_waiting_list</th>\n",
              "      <th>customer_type</th>\n",
              "      <th>adr</th>\n",
              "      <th>required_car_parking_spaces</th>\n",
              "      <th>total_of_special_requests</th>\n",
              "      <th>reservation_status</th>\n",
              "      <th>reservation_status_date</th>\n",
              "    </tr>\n",
              "  </thead>\n",
              "  <tbody>\n",
              "    <tr>\n",
              "      <th>0</th>\n",
              "      <td>Resort Hotel</td>\n",
              "      <td>0</td>\n",
              "      <td>342</td>\n",
              "      <td>2015</td>\n",
              "      <td>July</td>\n",
              "      <td>27</td>\n",
              "      <td>1</td>\n",
              "      <td>0</td>\n",
              "      <td>0</td>\n",
              "      <td>2</td>\n",
              "      <td>0.0</td>\n",
              "      <td>0</td>\n",
              "      <td>BB</td>\n",
              "      <td>PRT</td>\n",
              "      <td>Direct</td>\n",
              "      <td>Direct</td>\n",
              "      <td>0</td>\n",
              "      <td>0</td>\n",
              "      <td>0</td>\n",
              "      <td>C</td>\n",
              "      <td>C</td>\n",
              "      <td>3</td>\n",
              "      <td>No Deposit</td>\n",
              "      <td>NaN</td>\n",
              "      <td>NaN</td>\n",
              "      <td>0</td>\n",
              "      <td>Transient</td>\n",
              "      <td>0.0</td>\n",
              "      <td>0</td>\n",
              "      <td>0</td>\n",
              "      <td>Check-Out</td>\n",
              "      <td>01-07-15</td>\n",
              "    </tr>\n",
              "    <tr>\n",
              "      <th>1</th>\n",
              "      <td>Resort Hotel</td>\n",
              "      <td>0</td>\n",
              "      <td>737</td>\n",
              "      <td>2015</td>\n",
              "      <td>July</td>\n",
              "      <td>27</td>\n",
              "      <td>1</td>\n",
              "      <td>0</td>\n",
              "      <td>0</td>\n",
              "      <td>2</td>\n",
              "      <td>0.0</td>\n",
              "      <td>0</td>\n",
              "      <td>BB</td>\n",
              "      <td>PRT</td>\n",
              "      <td>Direct</td>\n",
              "      <td>Direct</td>\n",
              "      <td>0</td>\n",
              "      <td>0</td>\n",
              "      <td>0</td>\n",
              "      <td>C</td>\n",
              "      <td>C</td>\n",
              "      <td>4</td>\n",
              "      <td>No Deposit</td>\n",
              "      <td>NaN</td>\n",
              "      <td>NaN</td>\n",
              "      <td>0</td>\n",
              "      <td>Transient</td>\n",
              "      <td>0.0</td>\n",
              "      <td>0</td>\n",
              "      <td>0</td>\n",
              "      <td>Check-Out</td>\n",
              "      <td>01-07-15</td>\n",
              "    </tr>\n",
              "    <tr>\n",
              "      <th>2</th>\n",
              "      <td>Resort Hotel</td>\n",
              "      <td>0</td>\n",
              "      <td>7</td>\n",
              "      <td>2015</td>\n",
              "      <td>July</td>\n",
              "      <td>27</td>\n",
              "      <td>1</td>\n",
              "      <td>0</td>\n",
              "      <td>1</td>\n",
              "      <td>1</td>\n",
              "      <td>0.0</td>\n",
              "      <td>0</td>\n",
              "      <td>BB</td>\n",
              "      <td>GBR</td>\n",
              "      <td>Direct</td>\n",
              "      <td>Direct</td>\n",
              "      <td>0</td>\n",
              "      <td>0</td>\n",
              "      <td>0</td>\n",
              "      <td>A</td>\n",
              "      <td>C</td>\n",
              "      <td>0</td>\n",
              "      <td>No Deposit</td>\n",
              "      <td>NaN</td>\n",
              "      <td>NaN</td>\n",
              "      <td>0</td>\n",
              "      <td>Transient</td>\n",
              "      <td>75.0</td>\n",
              "      <td>0</td>\n",
              "      <td>0</td>\n",
              "      <td>Check-Out</td>\n",
              "      <td>02-07-15</td>\n",
              "    </tr>\n",
              "  </tbody>\n",
              "</table>\n",
              "</div>"
            ],
            "text/plain": [
              "          hotel  is_canceled  ...  reservation_status  reservation_status_date\n",
              "0  Resort Hotel            0  ...           Check-Out                 01-07-15\n",
              "1  Resort Hotel            0  ...           Check-Out                 01-07-15\n",
              "2  Resort Hotel            0  ...           Check-Out                 02-07-15\n",
              "\n",
              "[3 rows x 32 columns]"
            ]
          },
          "metadata": {
            "tags": []
          },
          "execution_count": 5
        }
      ]
    },
    {
      "cell_type": "code",
      "metadata": {
        "colab": {
          "base_uri": "https://localhost:8080/"
        },
        "id": "GBSTKCY4FnfJ",
        "outputId": "55d4edf2-487a-42a7-a3f7-4be7f19a518e"
      },
      "source": [
        "hotel_df.info()"
      ],
      "execution_count": 6,
      "outputs": [
        {
          "output_type": "stream",
          "text": [
            "<class 'pandas.core.frame.DataFrame'>\n",
            "RangeIndex: 119390 entries, 0 to 119389\n",
            "Data columns (total 32 columns):\n",
            " #   Column                          Non-Null Count   Dtype  \n",
            "---  ------                          --------------   -----  \n",
            " 0   hotel                           119390 non-null  object \n",
            " 1   is_canceled                     119390 non-null  int64  \n",
            " 2   lead_time                       119390 non-null  int64  \n",
            " 3   arrival_date_year               119390 non-null  int64  \n",
            " 4   arrival_date_month              119390 non-null  object \n",
            " 5   arrival_date_week_number        119390 non-null  int64  \n",
            " 6   arrival_date_day_of_month       119390 non-null  int64  \n",
            " 7   stays_in_weekend_nights         119390 non-null  int64  \n",
            " 8   stays_in_week_nights            119390 non-null  int64  \n",
            " 9   adults                          119390 non-null  int64  \n",
            " 10  children                        119386 non-null  float64\n",
            " 11  babies                          119390 non-null  int64  \n",
            " 12  meal                            119390 non-null  object \n",
            " 13  country                         118902 non-null  object \n",
            " 14  market_segment                  119390 non-null  object \n",
            " 15  distribution_channel            119390 non-null  object \n",
            " 16  is_repeated_guest               119390 non-null  int64  \n",
            " 17  previous_cancellations          119390 non-null  int64  \n",
            " 18  previous_bookings_not_canceled  119390 non-null  int64  \n",
            " 19  reserved_room_type              119390 non-null  object \n",
            " 20  assigned_room_type              119390 non-null  object \n",
            " 21  booking_changes                 119390 non-null  int64  \n",
            " 22  deposit_type                    119390 non-null  object \n",
            " 23  agent                           103050 non-null  float64\n",
            " 24  company                         6797 non-null    float64\n",
            " 25  days_in_waiting_list            119390 non-null  int64  \n",
            " 26  customer_type                   119390 non-null  object \n",
            " 27  adr                             119390 non-null  float64\n",
            " 28  required_car_parking_spaces     119390 non-null  int64  \n",
            " 29  total_of_special_requests       119390 non-null  int64  \n",
            " 30  reservation_status              119390 non-null  object \n",
            " 31  reservation_status_date         119390 non-null  object \n",
            "dtypes: float64(4), int64(16), object(12)\n",
            "memory usage: 29.1+ MB\n"
          ],
          "name": "stdout"
        }
      ]
    },
    {
      "cell_type": "code",
      "metadata": {
        "colab": {
          "base_uri": "https://localhost:8080/",
          "height": 314
        },
        "id": "3GfSxh1wFtqu",
        "outputId": "16e7ae89-59ac-4e15-82ce-77c274b0b53d"
      },
      "source": [
        "hotel_df.describe()"
      ],
      "execution_count": 7,
      "outputs": [
        {
          "output_type": "execute_result",
          "data": {
            "text/html": [
              "<div>\n",
              "<style scoped>\n",
              "    .dataframe tbody tr th:only-of-type {\n",
              "        vertical-align: middle;\n",
              "    }\n",
              "\n",
              "    .dataframe tbody tr th {\n",
              "        vertical-align: top;\n",
              "    }\n",
              "\n",
              "    .dataframe thead th {\n",
              "        text-align: right;\n",
              "    }\n",
              "</style>\n",
              "<table border=\"1\" class=\"dataframe\">\n",
              "  <thead>\n",
              "    <tr style=\"text-align: right;\">\n",
              "      <th></th>\n",
              "      <th>is_canceled</th>\n",
              "      <th>lead_time</th>\n",
              "      <th>arrival_date_year</th>\n",
              "      <th>arrival_date_week_number</th>\n",
              "      <th>arrival_date_day_of_month</th>\n",
              "      <th>stays_in_weekend_nights</th>\n",
              "      <th>stays_in_week_nights</th>\n",
              "      <th>adults</th>\n",
              "      <th>children</th>\n",
              "      <th>babies</th>\n",
              "      <th>is_repeated_guest</th>\n",
              "      <th>previous_cancellations</th>\n",
              "      <th>previous_bookings_not_canceled</th>\n",
              "      <th>booking_changes</th>\n",
              "      <th>agent</th>\n",
              "      <th>company</th>\n",
              "      <th>days_in_waiting_list</th>\n",
              "      <th>adr</th>\n",
              "      <th>required_car_parking_spaces</th>\n",
              "      <th>total_of_special_requests</th>\n",
              "    </tr>\n",
              "  </thead>\n",
              "  <tbody>\n",
              "    <tr>\n",
              "      <th>count</th>\n",
              "      <td>119390.000000</td>\n",
              "      <td>119390.000000</td>\n",
              "      <td>119390.000000</td>\n",
              "      <td>119390.000000</td>\n",
              "      <td>119390.000000</td>\n",
              "      <td>119390.000000</td>\n",
              "      <td>119390.000000</td>\n",
              "      <td>119390.000000</td>\n",
              "      <td>119386.000000</td>\n",
              "      <td>119390.000000</td>\n",
              "      <td>119390.000000</td>\n",
              "      <td>119390.000000</td>\n",
              "      <td>119390.000000</td>\n",
              "      <td>119390.000000</td>\n",
              "      <td>103050.000000</td>\n",
              "      <td>6797.000000</td>\n",
              "      <td>119390.000000</td>\n",
              "      <td>119390.000000</td>\n",
              "      <td>119390.000000</td>\n",
              "      <td>119390.000000</td>\n",
              "    </tr>\n",
              "    <tr>\n",
              "      <th>mean</th>\n",
              "      <td>0.370416</td>\n",
              "      <td>104.011416</td>\n",
              "      <td>2016.156554</td>\n",
              "      <td>27.165173</td>\n",
              "      <td>15.798241</td>\n",
              "      <td>0.927599</td>\n",
              "      <td>2.500302</td>\n",
              "      <td>1.856403</td>\n",
              "      <td>0.103890</td>\n",
              "      <td>0.007949</td>\n",
              "      <td>0.031912</td>\n",
              "      <td>0.087118</td>\n",
              "      <td>0.137097</td>\n",
              "      <td>0.221124</td>\n",
              "      <td>86.693382</td>\n",
              "      <td>189.266735</td>\n",
              "      <td>2.321149</td>\n",
              "      <td>101.831122</td>\n",
              "      <td>0.062518</td>\n",
              "      <td>0.571363</td>\n",
              "    </tr>\n",
              "    <tr>\n",
              "      <th>std</th>\n",
              "      <td>0.482918</td>\n",
              "      <td>106.863097</td>\n",
              "      <td>0.707476</td>\n",
              "      <td>13.605138</td>\n",
              "      <td>8.780829</td>\n",
              "      <td>0.998613</td>\n",
              "      <td>1.908286</td>\n",
              "      <td>0.579261</td>\n",
              "      <td>0.398561</td>\n",
              "      <td>0.097436</td>\n",
              "      <td>0.175767</td>\n",
              "      <td>0.844336</td>\n",
              "      <td>1.497437</td>\n",
              "      <td>0.652306</td>\n",
              "      <td>110.774548</td>\n",
              "      <td>131.655015</td>\n",
              "      <td>17.594721</td>\n",
              "      <td>50.535790</td>\n",
              "      <td>0.245291</td>\n",
              "      <td>0.792798</td>\n",
              "    </tr>\n",
              "    <tr>\n",
              "      <th>min</th>\n",
              "      <td>0.000000</td>\n",
              "      <td>0.000000</td>\n",
              "      <td>2015.000000</td>\n",
              "      <td>1.000000</td>\n",
              "      <td>1.000000</td>\n",
              "      <td>0.000000</td>\n",
              "      <td>0.000000</td>\n",
              "      <td>0.000000</td>\n",
              "      <td>0.000000</td>\n",
              "      <td>0.000000</td>\n",
              "      <td>0.000000</td>\n",
              "      <td>0.000000</td>\n",
              "      <td>0.000000</td>\n",
              "      <td>0.000000</td>\n",
              "      <td>1.000000</td>\n",
              "      <td>6.000000</td>\n",
              "      <td>0.000000</td>\n",
              "      <td>-6.380000</td>\n",
              "      <td>0.000000</td>\n",
              "      <td>0.000000</td>\n",
              "    </tr>\n",
              "    <tr>\n",
              "      <th>25%</th>\n",
              "      <td>0.000000</td>\n",
              "      <td>18.000000</td>\n",
              "      <td>2016.000000</td>\n",
              "      <td>16.000000</td>\n",
              "      <td>8.000000</td>\n",
              "      <td>0.000000</td>\n",
              "      <td>1.000000</td>\n",
              "      <td>2.000000</td>\n",
              "      <td>0.000000</td>\n",
              "      <td>0.000000</td>\n",
              "      <td>0.000000</td>\n",
              "      <td>0.000000</td>\n",
              "      <td>0.000000</td>\n",
              "      <td>0.000000</td>\n",
              "      <td>9.000000</td>\n",
              "      <td>62.000000</td>\n",
              "      <td>0.000000</td>\n",
              "      <td>69.290000</td>\n",
              "      <td>0.000000</td>\n",
              "      <td>0.000000</td>\n",
              "    </tr>\n",
              "    <tr>\n",
              "      <th>50%</th>\n",
              "      <td>0.000000</td>\n",
              "      <td>69.000000</td>\n",
              "      <td>2016.000000</td>\n",
              "      <td>28.000000</td>\n",
              "      <td>16.000000</td>\n",
              "      <td>1.000000</td>\n",
              "      <td>2.000000</td>\n",
              "      <td>2.000000</td>\n",
              "      <td>0.000000</td>\n",
              "      <td>0.000000</td>\n",
              "      <td>0.000000</td>\n",
              "      <td>0.000000</td>\n",
              "      <td>0.000000</td>\n",
              "      <td>0.000000</td>\n",
              "      <td>14.000000</td>\n",
              "      <td>179.000000</td>\n",
              "      <td>0.000000</td>\n",
              "      <td>94.575000</td>\n",
              "      <td>0.000000</td>\n",
              "      <td>0.000000</td>\n",
              "    </tr>\n",
              "    <tr>\n",
              "      <th>75%</th>\n",
              "      <td>1.000000</td>\n",
              "      <td>160.000000</td>\n",
              "      <td>2017.000000</td>\n",
              "      <td>38.000000</td>\n",
              "      <td>23.000000</td>\n",
              "      <td>2.000000</td>\n",
              "      <td>3.000000</td>\n",
              "      <td>2.000000</td>\n",
              "      <td>0.000000</td>\n",
              "      <td>0.000000</td>\n",
              "      <td>0.000000</td>\n",
              "      <td>0.000000</td>\n",
              "      <td>0.000000</td>\n",
              "      <td>0.000000</td>\n",
              "      <td>229.000000</td>\n",
              "      <td>270.000000</td>\n",
              "      <td>0.000000</td>\n",
              "      <td>126.000000</td>\n",
              "      <td>0.000000</td>\n",
              "      <td>1.000000</td>\n",
              "    </tr>\n",
              "    <tr>\n",
              "      <th>max</th>\n",
              "      <td>1.000000</td>\n",
              "      <td>737.000000</td>\n",
              "      <td>2017.000000</td>\n",
              "      <td>53.000000</td>\n",
              "      <td>31.000000</td>\n",
              "      <td>19.000000</td>\n",
              "      <td>50.000000</td>\n",
              "      <td>55.000000</td>\n",
              "      <td>10.000000</td>\n",
              "      <td>10.000000</td>\n",
              "      <td>1.000000</td>\n",
              "      <td>26.000000</td>\n",
              "      <td>72.000000</td>\n",
              "      <td>21.000000</td>\n",
              "      <td>535.000000</td>\n",
              "      <td>543.000000</td>\n",
              "      <td>391.000000</td>\n",
              "      <td>5400.000000</td>\n",
              "      <td>8.000000</td>\n",
              "      <td>5.000000</td>\n",
              "    </tr>\n",
              "  </tbody>\n",
              "</table>\n",
              "</div>"
            ],
            "text/plain": [
              "         is_canceled  ...  total_of_special_requests\n",
              "count  119390.000000  ...              119390.000000\n",
              "mean        0.370416  ...                   0.571363\n",
              "std         0.482918  ...                   0.792798\n",
              "min         0.000000  ...                   0.000000\n",
              "25%         0.000000  ...                   0.000000\n",
              "50%         0.000000  ...                   0.000000\n",
              "75%         1.000000  ...                   1.000000\n",
              "max         1.000000  ...                   5.000000\n",
              "\n",
              "[8 rows x 20 columns]"
            ]
          },
          "metadata": {
            "tags": []
          },
          "execution_count": 7
        }
      ]
    },
    {
      "cell_type": "markdown",
      "metadata": {
        "id": "-UAGbF_lDWJi"
      },
      "source": [
        "## 1. Booking growth in hotel\n",
        "## --- Year Wise\n",
        "##--- Country wise\n",
        "## 2. Percentage for booking each year"
      ]
    },
    {
      "cell_type": "markdown",
      "metadata": {
        "id": "dxR06cMtfd5E"
      },
      "source": [
        "## To get the exact data of booking growth each year, we have to first group the data Year Wise and then we have to group the data as per Hotel Type. We then sort the data as per reservation_status."
      ]
    },
    {
      "cell_type": "code",
      "metadata": {
        "id": "UXjB9B0LQYVj"
      },
      "source": [
        "year_wise_df = hotel_df.groupby(['arrival_date_year', 'reservation_status'])[['hotel']].count().unstack()"
      ],
      "execution_count": 8,
      "outputs": []
    },
    {
      "cell_type": "code",
      "metadata": {
        "colab": {
          "base_uri": "https://localhost:8080/",
          "height": 202
        },
        "id": "SMCVlAMTEZD5",
        "outputId": "0b6963b5-2be7-4729-9ede-b8731e5f86a2"
      },
      "source": [
        "year_wise_df"
      ],
      "execution_count": 9,
      "outputs": [
        {
          "output_type": "execute_result",
          "data": {
            "text/html": [
              "<div>\n",
              "<style scoped>\n",
              "    .dataframe tbody tr th:only-of-type {\n",
              "        vertical-align: middle;\n",
              "    }\n",
              "\n",
              "    .dataframe tbody tr th {\n",
              "        vertical-align: top;\n",
              "    }\n",
              "\n",
              "    .dataframe thead tr th {\n",
              "        text-align: left;\n",
              "    }\n",
              "\n",
              "    .dataframe thead tr:last-of-type th {\n",
              "        text-align: right;\n",
              "    }\n",
              "</style>\n",
              "<table border=\"1\" class=\"dataframe\">\n",
              "  <thead>\n",
              "    <tr>\n",
              "      <th></th>\n",
              "      <th colspan=\"3\" halign=\"left\">hotel</th>\n",
              "    </tr>\n",
              "    <tr>\n",
              "      <th>reservation_status</th>\n",
              "      <th>Canceled</th>\n",
              "      <th>Check-Out</th>\n",
              "      <th>No-Show</th>\n",
              "    </tr>\n",
              "    <tr>\n",
              "      <th>arrival_date_year</th>\n",
              "      <th></th>\n",
              "      <th></th>\n",
              "      <th></th>\n",
              "    </tr>\n",
              "  </thead>\n",
              "  <tbody>\n",
              "    <tr>\n",
              "      <th>2015</th>\n",
              "      <td>7951</td>\n",
              "      <td>13854</td>\n",
              "      <td>191</td>\n",
              "    </tr>\n",
              "    <tr>\n",
              "      <th>2016</th>\n",
              "      <td>19669</td>\n",
              "      <td>36370</td>\n",
              "      <td>668</td>\n",
              "    </tr>\n",
              "    <tr>\n",
              "      <th>2017</th>\n",
              "      <td>15397</td>\n",
              "      <td>24942</td>\n",
              "      <td>348</td>\n",
              "    </tr>\n",
              "  </tbody>\n",
              "</table>\n",
              "</div>"
            ],
            "text/plain": [
              "                      hotel                  \n",
              "reservation_status Canceled Check-Out No-Show\n",
              "arrival_date_year                            \n",
              "2015                   7951     13854     191\n",
              "2016                  19669     36370     668\n",
              "2017                  15397     24942     348"
            ]
          },
          "metadata": {
            "tags": []
          },
          "execution_count": 9
        }
      ]
    },
    {
      "cell_type": "code",
      "metadata": {
        "id": "MuGKz91jEl9T"
      },
      "source": [
        "year_wise_df = hotel_df.groupby(['arrival_date_year','hotel','reservation_status'])[['reservation_status']].count().unstack()"
      ],
      "execution_count": 10,
      "outputs": []
    },
    {
      "cell_type": "code",
      "metadata": {
        "colab": {
          "base_uri": "https://localhost:8080/",
          "height": 294
        },
        "id": "pq0yDxNQgEWM",
        "outputId": "7689e862-ab8b-4b2c-a255-217d4924dd44"
      },
      "source": [
        "year_wise_df"
      ],
      "execution_count": 11,
      "outputs": [
        {
          "output_type": "execute_result",
          "data": {
            "text/html": [
              "<div>\n",
              "<style scoped>\n",
              "    .dataframe tbody tr th:only-of-type {\n",
              "        vertical-align: middle;\n",
              "    }\n",
              "\n",
              "    .dataframe tbody tr th {\n",
              "        vertical-align: top;\n",
              "    }\n",
              "\n",
              "    .dataframe thead tr th {\n",
              "        text-align: left;\n",
              "    }\n",
              "\n",
              "    .dataframe thead tr:last-of-type th {\n",
              "        text-align: right;\n",
              "    }\n",
              "</style>\n",
              "<table border=\"1\" class=\"dataframe\">\n",
              "  <thead>\n",
              "    <tr>\n",
              "      <th></th>\n",
              "      <th></th>\n",
              "      <th colspan=\"3\" halign=\"left\">reservation_status</th>\n",
              "    </tr>\n",
              "    <tr>\n",
              "      <th></th>\n",
              "      <th>reservation_status</th>\n",
              "      <th>Canceled</th>\n",
              "      <th>Check-Out</th>\n",
              "      <th>No-Show</th>\n",
              "    </tr>\n",
              "    <tr>\n",
              "      <th>arrival_date_year</th>\n",
              "      <th>hotel</th>\n",
              "      <th></th>\n",
              "      <th></th>\n",
              "      <th></th>\n",
              "    </tr>\n",
              "  </thead>\n",
              "  <tbody>\n",
              "    <tr>\n",
              "      <th rowspan=\"2\" valign=\"top\">2015</th>\n",
              "      <th>City Hotel</th>\n",
              "      <td>5882</td>\n",
              "      <td>7678</td>\n",
              "      <td>122</td>\n",
              "    </tr>\n",
              "    <tr>\n",
              "      <th>Resort Hotel</th>\n",
              "      <td>2069</td>\n",
              "      <td>6176</td>\n",
              "      <td>69</td>\n",
              "    </tr>\n",
              "    <tr>\n",
              "      <th rowspan=\"2\" valign=\"top\">2016</th>\n",
              "      <th>City Hotel</th>\n",
              "      <td>14852</td>\n",
              "      <td>22733</td>\n",
              "      <td>555</td>\n",
              "    </tr>\n",
              "    <tr>\n",
              "      <th>Resort Hotel</th>\n",
              "      <td>4817</td>\n",
              "      <td>13637</td>\n",
              "      <td>113</td>\n",
              "    </tr>\n",
              "    <tr>\n",
              "      <th rowspan=\"2\" valign=\"top\">2017</th>\n",
              "      <th>City Hotel</th>\n",
              "      <td>11452</td>\n",
              "      <td>15817</td>\n",
              "      <td>239</td>\n",
              "    </tr>\n",
              "    <tr>\n",
              "      <th>Resort Hotel</th>\n",
              "      <td>3945</td>\n",
              "      <td>9125</td>\n",
              "      <td>109</td>\n",
              "    </tr>\n",
              "  </tbody>\n",
              "</table>\n",
              "</div>"
            ],
            "text/plain": [
              "                               reservation_status                  \n",
              "reservation_status                       Canceled Check-Out No-Show\n",
              "arrival_date_year hotel                                            \n",
              "2015              City Hotel                 5882      7678     122\n",
              "                  Resort Hotel               2069      6176      69\n",
              "2016              City Hotel                14852     22733     555\n",
              "                  Resort Hotel               4817     13637     113\n",
              "2017              City Hotel                11452     15817     239\n",
              "                  Resort Hotel               3945      9125     109"
            ]
          },
          "metadata": {
            "tags": []
          },
          "execution_count": 11
        }
      ]
    },
    {
      "cell_type": "markdown",
      "metadata": {
        "id": "7lv16VGTl3KC"
      },
      "source": [
        "## To sum the elements of MultiIndex Dataframe, we have sum()."
      ]
    },
    {
      "cell_type": "code",
      "metadata": {
        "id": "jHpXV0Q8gFs5"
      },
      "source": [
        "year_wise_df['total_booking'] = year_wise_df.sum(level=0, axis=1)"
      ],
      "execution_count": 12,
      "outputs": []
    },
    {
      "cell_type": "code",
      "metadata": {
        "colab": {
          "base_uri": "https://localhost:8080/",
          "height": 294
        },
        "id": "Sh4Ig7Ctk6Cg",
        "outputId": "b6202dd7-95e7-4ab4-f0ff-d4e99970f73c"
      },
      "source": [
        "year_wise_df"
      ],
      "execution_count": 13,
      "outputs": [
        {
          "output_type": "execute_result",
          "data": {
            "text/html": [
              "<div>\n",
              "<style scoped>\n",
              "    .dataframe tbody tr th:only-of-type {\n",
              "        vertical-align: middle;\n",
              "    }\n",
              "\n",
              "    .dataframe tbody tr th {\n",
              "        vertical-align: top;\n",
              "    }\n",
              "\n",
              "    .dataframe thead tr th {\n",
              "        text-align: left;\n",
              "    }\n",
              "\n",
              "    .dataframe thead tr:last-of-type th {\n",
              "        text-align: right;\n",
              "    }\n",
              "</style>\n",
              "<table border=\"1\" class=\"dataframe\">\n",
              "  <thead>\n",
              "    <tr>\n",
              "      <th></th>\n",
              "      <th></th>\n",
              "      <th colspan=\"3\" halign=\"left\">reservation_status</th>\n",
              "      <th>total_booking</th>\n",
              "    </tr>\n",
              "    <tr>\n",
              "      <th></th>\n",
              "      <th>reservation_status</th>\n",
              "      <th>Canceled</th>\n",
              "      <th>Check-Out</th>\n",
              "      <th>No-Show</th>\n",
              "      <th></th>\n",
              "    </tr>\n",
              "    <tr>\n",
              "      <th>arrival_date_year</th>\n",
              "      <th>hotel</th>\n",
              "      <th></th>\n",
              "      <th></th>\n",
              "      <th></th>\n",
              "      <th></th>\n",
              "    </tr>\n",
              "  </thead>\n",
              "  <tbody>\n",
              "    <tr>\n",
              "      <th rowspan=\"2\" valign=\"top\">2015</th>\n",
              "      <th>City Hotel</th>\n",
              "      <td>5882</td>\n",
              "      <td>7678</td>\n",
              "      <td>122</td>\n",
              "      <td>13682</td>\n",
              "    </tr>\n",
              "    <tr>\n",
              "      <th>Resort Hotel</th>\n",
              "      <td>2069</td>\n",
              "      <td>6176</td>\n",
              "      <td>69</td>\n",
              "      <td>8314</td>\n",
              "    </tr>\n",
              "    <tr>\n",
              "      <th rowspan=\"2\" valign=\"top\">2016</th>\n",
              "      <th>City Hotel</th>\n",
              "      <td>14852</td>\n",
              "      <td>22733</td>\n",
              "      <td>555</td>\n",
              "      <td>38140</td>\n",
              "    </tr>\n",
              "    <tr>\n",
              "      <th>Resort Hotel</th>\n",
              "      <td>4817</td>\n",
              "      <td>13637</td>\n",
              "      <td>113</td>\n",
              "      <td>18567</td>\n",
              "    </tr>\n",
              "    <tr>\n",
              "      <th rowspan=\"2\" valign=\"top\">2017</th>\n",
              "      <th>City Hotel</th>\n",
              "      <td>11452</td>\n",
              "      <td>15817</td>\n",
              "      <td>239</td>\n",
              "      <td>27508</td>\n",
              "    </tr>\n",
              "    <tr>\n",
              "      <th>Resort Hotel</th>\n",
              "      <td>3945</td>\n",
              "      <td>9125</td>\n",
              "      <td>109</td>\n",
              "      <td>13179</td>\n",
              "    </tr>\n",
              "  </tbody>\n",
              "</table>\n",
              "</div>"
            ],
            "text/plain": [
              "                               reservation_status  ... total_booking\n",
              "reservation_status                       Canceled  ...              \n",
              "arrival_date_year hotel                            ...              \n",
              "2015              City Hotel                 5882  ...         13682\n",
              "                  Resort Hotel               2069  ...          8314\n",
              "2016              City Hotel                14852  ...         38140\n",
              "                  Resort Hotel               4817  ...         18567\n",
              "2017              City Hotel                11452  ...         27508\n",
              "                  Resort Hotel               3945  ...         13179\n",
              "\n",
              "[6 rows x 4 columns]"
            ]
          },
          "metadata": {
            "tags": []
          },
          "execution_count": 13
        }
      ]
    },
    {
      "cell_type": "markdown",
      "metadata": {
        "id": "S74snloCpY5A"
      },
      "source": [
        "## **Percentage of Booking (of a specified hotel type/all hotel types) in a year =  Booking in that year/overall booking in 3 years**\n",
        "## We have data of Resort Hotel and City Hotel is given seaparetly year wise. Our next step is get the sum of Resort Hotel and City Hotel over 2 years from 2015 to 2017"
      ]
    },
    {
      "cell_type": "code",
      "metadata": {
        "colab": {
          "base_uri": "https://localhost:8080/"
        },
        "id": "8FST71W492JR",
        "outputId": "e2afbb5d-d271-4f70-9e0e-abddd426d5d6"
      },
      "source": [
        "year_wise_df.info()"
      ],
      "execution_count": 14,
      "outputs": [
        {
          "output_type": "stream",
          "text": [
            "<class 'pandas.core.frame.DataFrame'>\n",
            "MultiIndex: 6 entries, (2015, 'City Hotel') to (2017, 'Resort Hotel')\n",
            "Data columns (total 4 columns):\n",
            " #   Column                           Non-Null Count  Dtype\n",
            "---  ------                           --------------  -----\n",
            " 0   (reservation_status, Canceled)   6 non-null      int64\n",
            " 1   (reservation_status, Check-Out)  6 non-null      int64\n",
            " 2   (reservation_status, No-Show)    6 non-null      int64\n",
            " 3   (total_booking, )                6 non-null      int64\n",
            "dtypes: int64(4)\n",
            "memory usage: 364.0+ bytes\n"
          ],
          "name": "stdout"
        }
      ]
    },
    {
      "cell_type": "code",
      "metadata": {
        "id": "1fAToaQj9PPb"
      },
      "source": [
        "Total_booking_3years = year_wise_df.groupby(['hotel']).sum()"
      ],
      "execution_count": 15,
      "outputs": []
    },
    {
      "cell_type": "code",
      "metadata": {
        "colab": {
          "base_uri": "https://localhost:8080/",
          "height": 171
        },
        "id": "66OFM_Jh-vRk",
        "outputId": "4b148324-8e3a-422c-c503-0439deed6e65"
      },
      "source": [
        "Total_booking_3years"
      ],
      "execution_count": 16,
      "outputs": [
        {
          "output_type": "execute_result",
          "data": {
            "text/html": [
              "<div>\n",
              "<style scoped>\n",
              "    .dataframe tbody tr th:only-of-type {\n",
              "        vertical-align: middle;\n",
              "    }\n",
              "\n",
              "    .dataframe tbody tr th {\n",
              "        vertical-align: top;\n",
              "    }\n",
              "\n",
              "    .dataframe thead tr th {\n",
              "        text-align: left;\n",
              "    }\n",
              "\n",
              "    .dataframe thead tr:last-of-type th {\n",
              "        text-align: right;\n",
              "    }\n",
              "</style>\n",
              "<table border=\"1\" class=\"dataframe\">\n",
              "  <thead>\n",
              "    <tr>\n",
              "      <th></th>\n",
              "      <th colspan=\"3\" halign=\"left\">reservation_status</th>\n",
              "      <th>total_booking</th>\n",
              "    </tr>\n",
              "    <tr>\n",
              "      <th>reservation_status</th>\n",
              "      <th>Canceled</th>\n",
              "      <th>Check-Out</th>\n",
              "      <th>No-Show</th>\n",
              "      <th></th>\n",
              "    </tr>\n",
              "    <tr>\n",
              "      <th>hotel</th>\n",
              "      <th></th>\n",
              "      <th></th>\n",
              "      <th></th>\n",
              "      <th></th>\n",
              "    </tr>\n",
              "  </thead>\n",
              "  <tbody>\n",
              "    <tr>\n",
              "      <th>City Hotel</th>\n",
              "      <td>32186</td>\n",
              "      <td>46228</td>\n",
              "      <td>916</td>\n",
              "      <td>79330</td>\n",
              "    </tr>\n",
              "    <tr>\n",
              "      <th>Resort Hotel</th>\n",
              "      <td>10831</td>\n",
              "      <td>28938</td>\n",
              "      <td>291</td>\n",
              "      <td>40060</td>\n",
              "    </tr>\n",
              "  </tbody>\n",
              "</table>\n",
              "</div>"
            ],
            "text/plain": [
              "                   reservation_status                   total_booking\n",
              "reservation_status           Canceled Check-Out No-Show              \n",
              "hotel                                                                \n",
              "City Hotel                      32186     46228     916         79330\n",
              "Resort Hotel                    10831     28938     291         40060"
            ]
          },
          "metadata": {
            "tags": []
          },
          "execution_count": 16
        }
      ]
    },
    {
      "cell_type": "code",
      "metadata": {
        "colab": {
          "base_uri": "https://localhost:8080/"
        },
        "id": "NpUn2uBF_brk",
        "outputId": "9f34094a-192c-4a09-e46a-9e5267c9dc13"
      },
      "source": [
        "Total_booking_3years.index"
      ],
      "execution_count": 17,
      "outputs": [
        {
          "output_type": "execute_result",
          "data": {
            "text/plain": [
              "Index(['City Hotel', 'Resort Hotel'], dtype='object', name='hotel')"
            ]
          },
          "metadata": {
            "tags": []
          },
          "execution_count": 17
        }
      ]
    },
    {
      "cell_type": "code",
      "metadata": {
        "id": "zmwDfJD-Ar5u"
      },
      "source": [
        "total_no_of_bookings = Total_booking_3years['total_booking'].sum()"
      ],
      "execution_count": 18,
      "outputs": []
    },
    {
      "cell_type": "code",
      "metadata": {
        "colab": {
          "base_uri": "https://localhost:8080/"
        },
        "id": "Ux0_E0YaCgT3",
        "outputId": "e9c8d541-379e-4eaa-9cd1-299c98a6e705"
      },
      "source": [
        "total_no_of_bookings"
      ],
      "execution_count": 19,
      "outputs": [
        {
          "output_type": "execute_result",
          "data": {
            "text/plain": [
              "119390"
            ]
          },
          "metadata": {
            "tags": []
          },
          "execution_count": 19
        }
      ]
    },
    {
      "cell_type": "markdown",
      "metadata": {
        "id": "vV3gRcjY_Zgj"
      },
      "source": [
        "## Q1. What is the percentage of booking as per hotel type over 3 years?\n",
        "## **For Resort hotel type**\n",
        "##          **% of booking (Resort Hotel) = total bookings for Resort Hotel in 3 years/ overall booking in 3 years**\n",
        "## **For City hotel type**\n",
        "##          **% of booking (City Hotel) = total bookings for City hotel in 3 years/ overall booking in 3 years**"
      ]
    },
    {
      "cell_type": "code",
      "metadata": {
        "id": "lWGRJY6EUgcj"
      },
      "source": [
        "Total_booking_3years['% Booking'] = (Total_booking_3years['total_booking']/total_no_of_bookings)*100"
      ],
      "execution_count": 20,
      "outputs": []
    },
    {
      "cell_type": "code",
      "metadata": {
        "colab": {
          "base_uri": "https://localhost:8080/",
          "height": 171
        },
        "id": "Y6WX-n8EU3XQ",
        "outputId": "a6524543-2d2b-44f8-8fbc-6e1925f732f5"
      },
      "source": [
        "Total_booking_3years"
      ],
      "execution_count": 21,
      "outputs": [
        {
          "output_type": "execute_result",
          "data": {
            "text/html": [
              "<div>\n",
              "<style scoped>\n",
              "    .dataframe tbody tr th:only-of-type {\n",
              "        vertical-align: middle;\n",
              "    }\n",
              "\n",
              "    .dataframe tbody tr th {\n",
              "        vertical-align: top;\n",
              "    }\n",
              "\n",
              "    .dataframe thead tr th {\n",
              "        text-align: left;\n",
              "    }\n",
              "\n",
              "    .dataframe thead tr:last-of-type th {\n",
              "        text-align: right;\n",
              "    }\n",
              "</style>\n",
              "<table border=\"1\" class=\"dataframe\">\n",
              "  <thead>\n",
              "    <tr>\n",
              "      <th></th>\n",
              "      <th colspan=\"3\" halign=\"left\">reservation_status</th>\n",
              "      <th>total_booking</th>\n",
              "      <th>% Booking</th>\n",
              "    </tr>\n",
              "    <tr>\n",
              "      <th>reservation_status</th>\n",
              "      <th>Canceled</th>\n",
              "      <th>Check-Out</th>\n",
              "      <th>No-Show</th>\n",
              "      <th></th>\n",
              "      <th></th>\n",
              "    </tr>\n",
              "    <tr>\n",
              "      <th>hotel</th>\n",
              "      <th></th>\n",
              "      <th></th>\n",
              "      <th></th>\n",
              "      <th></th>\n",
              "      <th></th>\n",
              "    </tr>\n",
              "  </thead>\n",
              "  <tbody>\n",
              "    <tr>\n",
              "      <th>City Hotel</th>\n",
              "      <td>32186</td>\n",
              "      <td>46228</td>\n",
              "      <td>916</td>\n",
              "      <td>79330</td>\n",
              "      <td>66.446101</td>\n",
              "    </tr>\n",
              "    <tr>\n",
              "      <th>Resort Hotel</th>\n",
              "      <td>10831</td>\n",
              "      <td>28938</td>\n",
              "      <td>291</td>\n",
              "      <td>40060</td>\n",
              "      <td>33.553899</td>\n",
              "    </tr>\n",
              "  </tbody>\n",
              "</table>\n",
              "</div>"
            ],
            "text/plain": [
              "                   reservation_status            ... total_booking  % Booking\n",
              "reservation_status           Canceled Check-Out  ...                         \n",
              "hotel                                            ...                         \n",
              "City Hotel                      32186     46228  ...         79330  66.446101\n",
              "Resort Hotel                    10831     28938  ...         40060  33.553899\n",
              "\n",
              "[2 rows x 5 columns]"
            ]
          },
          "metadata": {
            "tags": []
          },
          "execution_count": 21
        }
      ]
    },
    {
      "cell_type": "code",
      "metadata": {
        "colab": {
          "base_uri": "https://localhost:8080/"
        },
        "id": "b6xjUxTkpHss",
        "outputId": "2731763a-95f0-4052-ae79-da4c9b723bb2"
      },
      "source": [
        "Total_booking_3years.index"
      ],
      "execution_count": 22,
      "outputs": [
        {
          "output_type": "execute_result",
          "data": {
            "text/plain": [
              "Index(['City Hotel', 'Resort Hotel'], dtype='object', name='hotel')"
            ]
          },
          "metadata": {
            "tags": []
          },
          "execution_count": 22
        }
      ]
    },
    {
      "cell_type": "code",
      "metadata": {
        "id": "p2-PeTHk-DKq",
        "colab": {
          "base_uri": "https://localhost:8080/",
          "height": 382
        },
        "outputId": "9060b319-94ca-432e-fae0-eb7cea65cea1"
      },
      "source": [
        "ax1=Total_booking_3years.plot.bar(y= '% Booking', figsize=(10,5), fontsize= 16, rot = 0)\n",
        "ax1.set_title('Booking Percentage', fontsize= 18)\n",
        "ax1.set_xlabel('Hotel Type', fontsize= 16)\n",
        "ax1.set_ylabel('Percentage Of Booking(%)', fontsize= 16)\n",
        "ax1.legend(fontsize= 16)\n",
        "#Total_booking_3years"
      ],
      "execution_count": 23,
      "outputs": [
        {
          "output_type": "execute_result",
          "data": {
            "text/plain": [
              "<matplotlib.legend.Legend at 0x7f4a065b6810>"
            ]
          },
          "metadata": {
            "tags": []
          },
          "execution_count": 23
        },
        {
          "output_type": "display_data",
          "data": {
            "image/png": "[encoded data removed]",
            "text/plain": [
              "<Figure size 720x360 with 1 Axes>"
            ]
          },
          "metadata": {
            "tags": [],
            "needs_background": "light"
          }
        }
      ]
    },
    {
      "cell_type": "code",
      "metadata": {
        "colab": {
          "base_uri": "https://localhost:8080/",
          "height": 555
        },
        "id": "nRjxe5PF3HA_",
        "outputId": "b852ac2f-8d22-4c3e-b7e6-027b1e534fa7"
      },
      "source": [
        "ax1= Total_booking_3years.plot.pie(y = '% Booking', figsize=(10,9), fontsize=15,autopct='%1.0f%%')\n",
        "ax1.legend(fontsize=15)\n",
        "ax1.set_title(\"Overall booking City Hotel Vs Resort Hotel\", fontsize=16)"
      ],
      "execution_count": 24,
      "outputs": [
        {
          "output_type": "execute_result",
          "data": {
            "text/plain": [
              "Text(0.5, 1.0, 'Overall booking City Hotel Vs Resort Hotel')"
            ]
          },
          "metadata": {
            "tags": []
          },
          "execution_count": 24
        },
        {
          "output_type": "display_data",
          "data": {
            "image/png": "[encoded data removed]",
            "text/plain": [
              "<Figure size 720x648 with 1 Axes>"
            ]
          },
          "metadata": {
            "tags": []
          }
        }
      ]
    },
    {
      "cell_type": "markdown",
      "metadata": {
        "id": "-ZcoXgGKqnzC"
      },
      "source": [
        "## As per the given Dataset from the year 2015 to year 2017, City Hotel is preferred by **66.45%** of people. The possible reasons may be because of \n",
        "## 1. Low Cost\n",
        "## 2. Easy availability\n",
        "## The above graph shows overall booking status which includes the cancelled booking also, in futher study, we will dig down and study the data more deeply. Let's go back to our original dataframe i.e, **hotel_df**"
      ]
    },
    {
      "cell_type": "code",
      "metadata": {
        "colab": {
          "base_uri": "https://localhost:8080/"
        },
        "id": "c0mKL4t9y7zI",
        "outputId": "4132ac0d-0379-4842-f53e-6e12fca5ac02"
      },
      "source": [
        "hotel_df.info()"
      ],
      "execution_count": 25,
      "outputs": [
        {
          "output_type": "stream",
          "text": [
            "<class 'pandas.core.frame.DataFrame'>\n",
            "RangeIndex: 119390 entries, 0 to 119389\n",
            "Data columns (total 32 columns):\n",
            " #   Column                          Non-Null Count   Dtype  \n",
            "---  ------                          --------------   -----  \n",
            " 0   hotel                           119390 non-null  object \n",
            " 1   is_canceled                     119390 non-null  int64  \n",
            " 2   lead_time                       119390 non-null  int64  \n",
            " 3   arrival_date_year               119390 non-null  int64  \n",
            " 4   arrival_date_month              119390 non-null  object \n",
            " 5   arrival_date_week_number        119390 non-null  int64  \n",
            " 6   arrival_date_day_of_month       119390 non-null  int64  \n",
            " 7   stays_in_weekend_nights         119390 non-null  int64  \n",
            " 8   stays_in_week_nights            119390 non-null  int64  \n",
            " 9   adults                          119390 non-null  int64  \n",
            " 10  children                        119386 non-null  float64\n",
            " 11  babies                          119390 non-null  int64  \n",
            " 12  meal                            119390 non-null  object \n",
            " 13  country                         118902 non-null  object \n",
            " 14  market_segment                  119390 non-null  object \n",
            " 15  distribution_channel            119390 non-null  object \n",
            " 16  is_repeated_guest               119390 non-null  int64  \n",
            " 17  previous_cancellations          119390 non-null  int64  \n",
            " 18  previous_bookings_not_canceled  119390 non-null  int64  \n",
            " 19  reserved_room_type              119390 non-null  object \n",
            " 20  assigned_room_type              119390 non-null  object \n",
            " 21  booking_changes                 119390 non-null  int64  \n",
            " 22  deposit_type                    119390 non-null  object \n",
            " 23  agent                           103050 non-null  float64\n",
            " 24  company                         6797 non-null    float64\n",
            " 25  days_in_waiting_list            119390 non-null  int64  \n",
            " 26  customer_type                   119390 non-null  object \n",
            " 27  adr                             119390 non-null  float64\n",
            " 28  required_car_parking_spaces     119390 non-null  int64  \n",
            " 29  total_of_special_requests       119390 non-null  int64  \n",
            " 30  reservation_status              119390 non-null  object \n",
            " 31  reservation_status_date         119390 non-null  object \n",
            "dtypes: float64(4), int64(16), object(12)\n",
            "memory usage: 29.1+ MB\n"
          ],
          "name": "stdout"
        }
      ]
    },
    {
      "cell_type": "code",
      "metadata": {
        "id": "dQ0rXgcny8-X"
      },
      "source": [
        "cancellation_df = hotel_df.groupby(['hotel','is_canceled'])['is_canceled'].count().unstack()"
      ],
      "execution_count": 26,
      "outputs": []
    },
    {
      "cell_type": "code",
      "metadata": {
        "colab": {
          "base_uri": "https://localhost:8080/",
          "height": 141
        },
        "id": "OfUQ1Lrr4pgt",
        "outputId": "7d4f16ed-b501-4eb3-ba54-91d759fdca3f"
      },
      "source": [
        "cancellation_df"
      ],
      "execution_count": 27,
      "outputs": [
        {
          "output_type": "execute_result",
          "data": {
            "text/html": [
              "<div>\n",
              "<style scoped>\n",
              "    .dataframe tbody tr th:only-of-type {\n",
              "        vertical-align: middle;\n",
              "    }\n",
              "\n",
              "    .dataframe tbody tr th {\n",
              "        vertical-align: top;\n",
              "    }\n",
              "\n",
              "    .dataframe thead th {\n",
              "        text-align: right;\n",
              "    }\n",
              "</style>\n",
              "<table border=\"1\" class=\"dataframe\">\n",
              "  <thead>\n",
              "    <tr style=\"text-align: right;\">\n",
              "      <th>is_canceled</th>\n",
              "      <th>0</th>\n",
              "      <th>1</th>\n",
              "    </tr>\n",
              "    <tr>\n",
              "      <th>hotel</th>\n",
              "      <th></th>\n",
              "      <th></th>\n",
              "    </tr>\n",
              "  </thead>\n",
              "  <tbody>\n",
              "    <tr>\n",
              "      <th>City Hotel</th>\n",
              "      <td>46228</td>\n",
              "      <td>33102</td>\n",
              "    </tr>\n",
              "    <tr>\n",
              "      <th>Resort Hotel</th>\n",
              "      <td>28938</td>\n",
              "      <td>11122</td>\n",
              "    </tr>\n",
              "  </tbody>\n",
              "</table>\n",
              "</div>"
            ],
            "text/plain": [
              "is_canceled       0      1\n",
              "hotel                     \n",
              "City Hotel    46228  33102\n",
              "Resort Hotel  28938  11122"
            ]
          },
          "metadata": {
            "tags": []
          },
          "execution_count": 27
        }
      ]
    },
    {
      "cell_type": "code",
      "metadata": {
        "id": "qzrhKzeY-uyU"
      },
      "source": [
        "cancellation_df.rename(columns = {1:'canceled bookings',0:'confirmed bookings'}, inplace= True)"
      ],
      "execution_count": 28,
      "outputs": []
    },
    {
      "cell_type": "code",
      "metadata": {
        "colab": {
          "base_uri": "https://localhost:8080/"
        },
        "id": "KuEe852-6mic",
        "outputId": "b5d09aad-a6e8-4538-d072-595ee56cdb3e"
      },
      "source": [
        "cancellation_df.info()"
      ],
      "execution_count": 29,
      "outputs": [
        {
          "output_type": "stream",
          "text": [
            "<class 'pandas.core.frame.DataFrame'>\n",
            "Index: 2 entries, City Hotel to Resort Hotel\n",
            "Data columns (total 2 columns):\n",
            " #   Column              Non-Null Count  Dtype\n",
            "---  ------              --------------  -----\n",
            " 0   confirmed bookings  2 non-null      int64\n",
            " 1   canceled bookings   2 non-null      int64\n",
            "dtypes: int64(2)\n",
            "memory usage: 48.0+ bytes\n"
          ],
          "name": "stdout"
        }
      ]
    },
    {
      "cell_type": "code",
      "metadata": {
        "id": "60IRiUUS4rMa"
      },
      "source": [
        "cancellation_df['Total_booking_hotel_wise'] = cancellation_df['confirmed bookings']+ cancellation_df['canceled bookings']"
      ],
      "execution_count": 30,
      "outputs": []
    },
    {
      "cell_type": "code",
      "metadata": {
        "colab": {
          "base_uri": "https://localhost:8080/",
          "height": 141
        },
        "id": "oBoWWflU6JtY",
        "outputId": "243b09da-e3cb-4fc1-d5a6-28f0fced2e80"
      },
      "source": [
        "cancellation_df"
      ],
      "execution_count": 31,
      "outputs": [
        {
          "output_type": "execute_result",
          "data": {
            "text/html": [
              "<div>\n",
              "<style scoped>\n",
              "    .dataframe tbody tr th:only-of-type {\n",
              "        vertical-align: middle;\n",
              "    }\n",
              "\n",
              "    .dataframe tbody tr th {\n",
              "        vertical-align: top;\n",
              "    }\n",
              "\n",
              "    .dataframe thead th {\n",
              "        text-align: right;\n",
              "    }\n",
              "</style>\n",
              "<table border=\"1\" class=\"dataframe\">\n",
              "  <thead>\n",
              "    <tr style=\"text-align: right;\">\n",
              "      <th>is_canceled</th>\n",
              "      <th>confirmed bookings</th>\n",
              "      <th>canceled bookings</th>\n",
              "      <th>Total_booking_hotel_wise</th>\n",
              "    </tr>\n",
              "    <tr>\n",
              "      <th>hotel</th>\n",
              "      <th></th>\n",
              "      <th></th>\n",
              "      <th></th>\n",
              "    </tr>\n",
              "  </thead>\n",
              "  <tbody>\n",
              "    <tr>\n",
              "      <th>City Hotel</th>\n",
              "      <td>46228</td>\n",
              "      <td>33102</td>\n",
              "      <td>79330</td>\n",
              "    </tr>\n",
              "    <tr>\n",
              "      <th>Resort Hotel</th>\n",
              "      <td>28938</td>\n",
              "      <td>11122</td>\n",
              "      <td>40060</td>\n",
              "    </tr>\n",
              "  </tbody>\n",
              "</table>\n",
              "</div>"
            ],
            "text/plain": [
              "is_canceled   confirmed bookings  canceled bookings  Total_booking_hotel_wise\n",
              "hotel                                                                        \n",
              "City Hotel                 46228              33102                     79330\n",
              "Resort Hotel               28938              11122                     40060"
            ]
          },
          "metadata": {
            "tags": []
          },
          "execution_count": 31
        }
      ]
    },
    {
      "cell_type": "code",
      "metadata": {
        "id": "pQnarpaN_8KC"
      },
      "source": [
        "Total_booking = cancellation_df['Total_booking_hotel_wise'].sum()"
      ],
      "execution_count": 32,
      "outputs": []
    },
    {
      "cell_type": "code",
      "metadata": {
        "id": "A0mYxcbX6yfo"
      },
      "source": [
        "cancellation_df['Booking_%_wrt_total_booking'] = (cancellation_df['Total_booking_hotel_wise']/Total_booking)*100"
      ],
      "execution_count": 33,
      "outputs": []
    },
    {
      "cell_type": "code",
      "metadata": {
        "colab": {
          "base_uri": "https://localhost:8080/",
          "height": 141
        },
        "id": "NPhwDah2AwEx",
        "outputId": "3ae27df4-2acd-432d-ab91-a76880a6bd53"
      },
      "source": [
        "cancellation_df"
      ],
      "execution_count": 34,
      "outputs": [
        {
          "output_type": "execute_result",
          "data": {
            "text/html": [
              "<div>\n",
              "<style scoped>\n",
              "    .dataframe tbody tr th:only-of-type {\n",
              "        vertical-align: middle;\n",
              "    }\n",
              "\n",
              "    .dataframe tbody tr th {\n",
              "        vertical-align: top;\n",
              "    }\n",
              "\n",
              "    .dataframe thead th {\n",
              "        text-align: right;\n",
              "    }\n",
              "</style>\n",
              "<table border=\"1\" class=\"dataframe\">\n",
              "  <thead>\n",
              "    <tr style=\"text-align: right;\">\n",
              "      <th>is_canceled</th>\n",
              "      <th>confirmed bookings</th>\n",
              "      <th>canceled bookings</th>\n",
              "      <th>Total_booking_hotel_wise</th>\n",
              "      <th>Booking_%_wrt_total_booking</th>\n",
              "    </tr>\n",
              "    <tr>\n",
              "      <th>hotel</th>\n",
              "      <th></th>\n",
              "      <th></th>\n",
              "      <th></th>\n",
              "      <th></th>\n",
              "    </tr>\n",
              "  </thead>\n",
              "  <tbody>\n",
              "    <tr>\n",
              "      <th>City Hotel</th>\n",
              "      <td>46228</td>\n",
              "      <td>33102</td>\n",
              "      <td>79330</td>\n",
              "      <td>66.446101</td>\n",
              "    </tr>\n",
              "    <tr>\n",
              "      <th>Resort Hotel</th>\n",
              "      <td>28938</td>\n",
              "      <td>11122</td>\n",
              "      <td>40060</td>\n",
              "      <td>33.553899</td>\n",
              "    </tr>\n",
              "  </tbody>\n",
              "</table>\n",
              "</div>"
            ],
            "text/plain": [
              "is_canceled   confirmed bookings  ...  Booking_%_wrt_total_booking\n",
              "hotel                             ...                             \n",
              "City Hotel                 46228  ...                    66.446101\n",
              "Resort Hotel               28938  ...                    33.553899\n",
              "\n",
              "[2 rows x 4 columns]"
            ]
          },
          "metadata": {
            "tags": []
          },
          "execution_count": 34
        }
      ]
    },
    {
      "cell_type": "code",
      "metadata": {
        "colab": {
          "base_uri": "https://localhost:8080/",
          "height": 581
        },
        "id": "Wymg4mS29nFm",
        "outputId": "5f2f1dbc-72a7-4741-8f8a-9e63be8b5885"
      },
      "source": [
        "ax1= cancellation_df.plot.pie(y='Booking_%_wrt_total_booking',figsize=(10,9),fontsize= 15, autopct='%1.0f%%')\n",
        "ax1.set_title('Overall Booking Analysis\\n City Hotel Vs Resort Hotel', fontsize= 20)\n",
        "ax1.legend(fontsize= 16)"
      ],
      "execution_count": 35,
      "outputs": [
        {
          "output_type": "execute_result",
          "data": {
            "text/plain": [
              "<matplotlib.legend.Legend at 0x7f4a04fdbdd0>"
            ]
          },
          "metadata": {
            "tags": []
          },
          "execution_count": 35
        },
        {
          "output_type": "display_data",
          "data": {
            "image/png": "[encoded data removed]",
            "text/plain": [
              "<Figure size 720x648 with 1 Axes>"
            ]
          },
          "metadata": {
            "tags": []
          }
        }
      ]
    },
    {
      "cell_type": "code",
      "metadata": {
        "id": "iF9GZUB4CQVl"
      },
      "source": [
        "Total_cancellation = cancellation_df['canceled bookings'].sum()"
      ],
      "execution_count": 36,
      "outputs": []
    },
    {
      "cell_type": "code",
      "metadata": {
        "id": "oyKytyZiAz0G"
      },
      "source": [
        "cancellation_df['cancellation_%_wrt_total_booking'] = (cancellation_df['canceled bookings']/Total_booking)*100"
      ],
      "execution_count": 37,
      "outputs": []
    },
    {
      "cell_type": "code",
      "metadata": {
        "colab": {
          "base_uri": "https://localhost:8080/",
          "height": 141
        },
        "id": "UDLcLVQVBUy9",
        "outputId": "56f42b8c-c1fc-4d61-ef85-83657f418c28"
      },
      "source": [
        "cancellation_df"
      ],
      "execution_count": 38,
      "outputs": [
        {
          "output_type": "execute_result",
          "data": {
            "text/html": [
              "<div>\n",
              "<style scoped>\n",
              "    .dataframe tbody tr th:only-of-type {\n",
              "        vertical-align: middle;\n",
              "    }\n",
              "\n",
              "    .dataframe tbody tr th {\n",
              "        vertical-align: top;\n",
              "    }\n",
              "\n",
              "    .dataframe thead th {\n",
              "        text-align: right;\n",
              "    }\n",
              "</style>\n",
              "<table border=\"1\" class=\"dataframe\">\n",
              "  <thead>\n",
              "    <tr style=\"text-align: right;\">\n",
              "      <th>is_canceled</th>\n",
              "      <th>confirmed bookings</th>\n",
              "      <th>canceled bookings</th>\n",
              "      <th>Total_booking_hotel_wise</th>\n",
              "      <th>Booking_%_wrt_total_booking</th>\n",
              "      <th>cancellation_%_wrt_total_booking</th>\n",
              "    </tr>\n",
              "    <tr>\n",
              "      <th>hotel</th>\n",
              "      <th></th>\n",
              "      <th></th>\n",
              "      <th></th>\n",
              "      <th></th>\n",
              "      <th></th>\n",
              "    </tr>\n",
              "  </thead>\n",
              "  <tbody>\n",
              "    <tr>\n",
              "      <th>City Hotel</th>\n",
              "      <td>46228</td>\n",
              "      <td>33102</td>\n",
              "      <td>79330</td>\n",
              "      <td>66.446101</td>\n",
              "      <td>27.725940</td>\n",
              "    </tr>\n",
              "    <tr>\n",
              "      <th>Resort Hotel</th>\n",
              "      <td>28938</td>\n",
              "      <td>11122</td>\n",
              "      <td>40060</td>\n",
              "      <td>33.553899</td>\n",
              "      <td>9.315688</td>\n",
              "    </tr>\n",
              "  </tbody>\n",
              "</table>\n",
              "</div>"
            ],
            "text/plain": [
              "is_canceled   confirmed bookings  ...  cancellation_%_wrt_total_booking\n",
              "hotel                             ...                                  \n",
              "City Hotel                 46228  ...                         27.725940\n",
              "Resort Hotel               28938  ...                          9.315688\n",
              "\n",
              "[2 rows x 5 columns]"
            ]
          },
          "metadata": {
            "tags": []
          },
          "execution_count": 38
        }
      ]
    },
    {
      "cell_type": "code",
      "metadata": {
        "colab": {
          "base_uri": "https://localhost:8080/",
          "height": 581
        },
        "id": "U4KKiryl_-kB",
        "outputId": "d2b243ff-2353-4f58-bc50-5312d47266ae"
      },
      "source": [
        "ax1 = cancellation_df.plot.pie(y= 'cancellation_%_wrt_total_booking', figsize= (10,9), fontsize=16, autopct='%1.0f%%')\n",
        "ax1.set_title('Cancellation Analysis\\n City Hotel Vs Resort Hotel', fontsize=20)\n",
        "ax1.legend(fontsize=15)"
      ],
      "execution_count": 39,
      "outputs": [
        {
          "output_type": "execute_result",
          "data": {
            "text/plain": [
              "<matplotlib.legend.Legend at 0x7f4a04f56a10>"
            ]
          },
          "metadata": {
            "tags": []
          },
          "execution_count": 39
        },
        {
          "output_type": "display_data",
          "data": {
            "image/png": "[encoded data removed]",
            "text/plain": [
              "<Figure size 720x648 with 1 Axes>"
            ]
          },
          "metadata": {
            "tags": []
          }
        }
      ]
    },
    {
      "cell_type": "code",
      "metadata": {
        "id": "lviGeQnQBakm"
      },
      "source": [
        "# Calculate conversion Rate\n",
        "cancellation_df['conversion Rate'] = (cancellation_df['confirmed bookings']/cancellation_df['Total_booking_hotel_wise'])*100"
      ],
      "execution_count": 40,
      "outputs": []
    },
    {
      "cell_type": "code",
      "metadata": {
        "colab": {
          "base_uri": "https://localhost:8080/",
          "height": 141
        },
        "id": "mpfJNPhXGt9T",
        "outputId": "b4bde907-a0ee-42a7-e9d4-b12bdb642207"
      },
      "source": [
        "cancellation_df"
      ],
      "execution_count": 41,
      "outputs": [
        {
          "output_type": "execute_result",
          "data": {
            "text/html": [
              "<div>\n",
              "<style scoped>\n",
              "    .dataframe tbody tr th:only-of-type {\n",
              "        vertical-align: middle;\n",
              "    }\n",
              "\n",
              "    .dataframe tbody tr th {\n",
              "        vertical-align: top;\n",
              "    }\n",
              "\n",
              "    .dataframe thead th {\n",
              "        text-align: right;\n",
              "    }\n",
              "</style>\n",
              "<table border=\"1\" class=\"dataframe\">\n",
              "  <thead>\n",
              "    <tr style=\"text-align: right;\">\n",
              "      <th>is_canceled</th>\n",
              "      <th>confirmed bookings</th>\n",
              "      <th>canceled bookings</th>\n",
              "      <th>Total_booking_hotel_wise</th>\n",
              "      <th>Booking_%_wrt_total_booking</th>\n",
              "      <th>cancellation_%_wrt_total_booking</th>\n",
              "      <th>conversion Rate</th>\n",
              "    </tr>\n",
              "    <tr>\n",
              "      <th>hotel</th>\n",
              "      <th></th>\n",
              "      <th></th>\n",
              "      <th></th>\n",
              "      <th></th>\n",
              "      <th></th>\n",
              "      <th></th>\n",
              "    </tr>\n",
              "  </thead>\n",
              "  <tbody>\n",
              "    <tr>\n",
              "      <th>City Hotel</th>\n",
              "      <td>46228</td>\n",
              "      <td>33102</td>\n",
              "      <td>79330</td>\n",
              "      <td>66.446101</td>\n",
              "      <td>27.725940</td>\n",
              "      <td>58.273037</td>\n",
              "    </tr>\n",
              "    <tr>\n",
              "      <th>Resort Hotel</th>\n",
              "      <td>28938</td>\n",
              "      <td>11122</td>\n",
              "      <td>40060</td>\n",
              "      <td>33.553899</td>\n",
              "      <td>9.315688</td>\n",
              "      <td>72.236645</td>\n",
              "    </tr>\n",
              "  </tbody>\n",
              "</table>\n",
              "</div>"
            ],
            "text/plain": [
              "is_canceled   confirmed bookings  ...  conversion Rate\n",
              "hotel                             ...                 \n",
              "City Hotel                 46228  ...        58.273037\n",
              "Resort Hotel               28938  ...        72.236645\n",
              "\n",
              "[2 rows x 6 columns]"
            ]
          },
          "metadata": {
            "tags": []
          },
          "execution_count": 41
        }
      ]
    },
    {
      "cell_type": "code",
      "metadata": {
        "colab": {
          "base_uri": "https://localhost:8080/",
          "height": 582
        },
        "id": "ciRAu75NDjNg",
        "outputId": "ab2eafff-5f38-4f28-aa5c-88c158a45f50"
      },
      "source": [
        "ax1 = cancellation_df.plot.bar(y='conversion Rate',figsize= (10,9), width=0.35, fontsize=16, rot=0)\n",
        "ax1.set_title('Conversion Rate', fontsize=20)\n",
        "ax1.set_xlabel('Hotel Types', fontsize=16)\n",
        "ax1.set_ylabel('Conversion Rate', fontsize=16)\n",
        "ax1.legend(fontsize=16)\n",
        "for index,data in enumerate(cancellation_df['conversion Rate']):\n",
        "  plt.text(x=index , y =data+1 , s= f'{round(data,2)}%' , fontdict=dict(fontsize=20), ha='center')"
      ],
      "execution_count": 42,
      "outputs": [
        {
          "output_type": "display_data",
          "data": {
            "image/png": "[encoded data removed]",
            "text/plain": [
              "<Figure size 720x648 with 1 Axes>"
            ]
          },
          "metadata": {
            "tags": [],
            "needs_background": "light"
          }
        }
      ]
    },
    {
      "cell_type": "markdown",
      "metadata": {
        "id": "PWzDOkHnx_Gt"
      },
      "source": [
        "# **Booking growth in hotel year wise**\n",
        "## To analyse the above question properly we have to group the hotels year wise for bookings that are not cancelled."
      ]
    },
    {
      "cell_type": "code",
      "metadata": {
        "id": "iQEffhdcT316"
      },
      "source": [
        "year_wise_df['valid_booking %'] = (year_wise_df[('reservation_status','Check-Out')]/year_wise_df[('total_booking','')])*100"
      ],
      "execution_count": 43,
      "outputs": []
    },
    {
      "cell_type": "code",
      "metadata": {
        "colab": {
          "base_uri": "https://localhost:8080/",
          "height": 294
        },
        "id": "Sl4c4zYWUZ4H",
        "outputId": "49614283-f8a1-46c0-8d71-f258e9654927"
      },
      "source": [
        "year_wise_df"
      ],
      "execution_count": 44,
      "outputs": [
        {
          "output_type": "execute_result",
          "data": {
            "text/html": [
              "<div>\n",
              "<style scoped>\n",
              "    .dataframe tbody tr th:only-of-type {\n",
              "        vertical-align: middle;\n",
              "    }\n",
              "\n",
              "    .dataframe tbody tr th {\n",
              "        vertical-align: top;\n",
              "    }\n",
              "\n",
              "    .dataframe thead tr th {\n",
              "        text-align: left;\n",
              "    }\n",
              "\n",
              "    .dataframe thead tr:last-of-type th {\n",
              "        text-align: right;\n",
              "    }\n",
              "</style>\n",
              "<table border=\"1\" class=\"dataframe\">\n",
              "  <thead>\n",
              "    <tr>\n",
              "      <th></th>\n",
              "      <th></th>\n",
              "      <th colspan=\"3\" halign=\"left\">reservation_status</th>\n",
              "      <th>total_booking</th>\n",
              "      <th>valid_booking %</th>\n",
              "    </tr>\n",
              "    <tr>\n",
              "      <th></th>\n",
              "      <th>reservation_status</th>\n",
              "      <th>Canceled</th>\n",
              "      <th>Check-Out</th>\n",
              "      <th>No-Show</th>\n",
              "      <th></th>\n",
              "      <th></th>\n",
              "    </tr>\n",
              "    <tr>\n",
              "      <th>arrival_date_year</th>\n",
              "      <th>hotel</th>\n",
              "      <th></th>\n",
              "      <th></th>\n",
              "      <th></th>\n",
              "      <th></th>\n",
              "      <th></th>\n",
              "    </tr>\n",
              "  </thead>\n",
              "  <tbody>\n",
              "    <tr>\n",
              "      <th rowspan=\"2\" valign=\"top\">2015</th>\n",
              "      <th>City Hotel</th>\n",
              "      <td>5882</td>\n",
              "      <td>7678</td>\n",
              "      <td>122</td>\n",
              "      <td>13682</td>\n",
              "      <td>56.117527</td>\n",
              "    </tr>\n",
              "    <tr>\n",
              "      <th>Resort Hotel</th>\n",
              "      <td>2069</td>\n",
              "      <td>6176</td>\n",
              "      <td>69</td>\n",
              "      <td>8314</td>\n",
              "      <td>74.284340</td>\n",
              "    </tr>\n",
              "    <tr>\n",
              "      <th rowspan=\"2\" valign=\"top\">2016</th>\n",
              "      <th>City Hotel</th>\n",
              "      <td>14852</td>\n",
              "      <td>22733</td>\n",
              "      <td>555</td>\n",
              "      <td>38140</td>\n",
              "      <td>59.604090</td>\n",
              "    </tr>\n",
              "    <tr>\n",
              "      <th>Resort Hotel</th>\n",
              "      <td>4817</td>\n",
              "      <td>13637</td>\n",
              "      <td>113</td>\n",
              "      <td>18567</td>\n",
              "      <td>73.447514</td>\n",
              "    </tr>\n",
              "    <tr>\n",
              "      <th rowspan=\"2\" valign=\"top\">2017</th>\n",
              "      <th>City Hotel</th>\n",
              "      <td>11452</td>\n",
              "      <td>15817</td>\n",
              "      <td>239</td>\n",
              "      <td>27508</td>\n",
              "      <td>57.499636</td>\n",
              "    </tr>\n",
              "    <tr>\n",
              "      <th>Resort Hotel</th>\n",
              "      <td>3945</td>\n",
              "      <td>9125</td>\n",
              "      <td>109</td>\n",
              "      <td>13179</td>\n",
              "      <td>69.238941</td>\n",
              "    </tr>\n",
              "  </tbody>\n",
              "</table>\n",
              "</div>"
            ],
            "text/plain": [
              "                               reservation_status  ... valid_booking %\n",
              "reservation_status                       Canceled  ...                \n",
              "arrival_date_year hotel                            ...                \n",
              "2015              City Hotel                 5882  ...       56.117527\n",
              "                  Resort Hotel               2069  ...       74.284340\n",
              "2016              City Hotel                14852  ...       59.604090\n",
              "                  Resort Hotel               4817  ...       73.447514\n",
              "2017              City Hotel                11452  ...       57.499636\n",
              "                  Resort Hotel               3945  ...       69.238941\n",
              "\n",
              "[6 rows x 5 columns]"
            ]
          },
          "metadata": {
            "tags": []
          },
          "execution_count": 44
        }
      ]
    },
    {
      "cell_type": "code",
      "metadata": {
        "id": "Eqb3gPSyVGgB"
      },
      "source": [
        "valid_booking_df = year_wise_df.groupby(['hotel','arrival_date_year'])['valid_booking %'].mean().unstack()"
      ],
      "execution_count": 45,
      "outputs": []
    },
    {
      "cell_type": "code",
      "metadata": {
        "colab": {
          "base_uri": "https://localhost:8080/",
          "height": 141
        },
        "id": "lgUN6xUoVgqo",
        "outputId": "52c0f840-9464-4817-e525-bb4e80335d98"
      },
      "source": [
        "valid_booking_df"
      ],
      "execution_count": 46,
      "outputs": [
        {
          "output_type": "execute_result",
          "data": {
            "text/html": [
              "<div>\n",
              "<style scoped>\n",
              "    .dataframe tbody tr th:only-of-type {\n",
              "        vertical-align: middle;\n",
              "    }\n",
              "\n",
              "    .dataframe tbody tr th {\n",
              "        vertical-align: top;\n",
              "    }\n",
              "\n",
              "    .dataframe thead th {\n",
              "        text-align: right;\n",
              "    }\n",
              "</style>\n",
              "<table border=\"1\" class=\"dataframe\">\n",
              "  <thead>\n",
              "    <tr style=\"text-align: right;\">\n",
              "      <th>arrival_date_year</th>\n",
              "      <th>2015</th>\n",
              "      <th>2016</th>\n",
              "      <th>2017</th>\n",
              "    </tr>\n",
              "    <tr>\n",
              "      <th>hotel</th>\n",
              "      <th></th>\n",
              "      <th></th>\n",
              "      <th></th>\n",
              "    </tr>\n",
              "  </thead>\n",
              "  <tbody>\n",
              "    <tr>\n",
              "      <th>City Hotel</th>\n",
              "      <td>56.117527</td>\n",
              "      <td>59.604090</td>\n",
              "      <td>57.499636</td>\n",
              "    </tr>\n",
              "    <tr>\n",
              "      <th>Resort Hotel</th>\n",
              "      <td>74.284340</td>\n",
              "      <td>73.447514</td>\n",
              "      <td>69.238941</td>\n",
              "    </tr>\n",
              "  </tbody>\n",
              "</table>\n",
              "</div>"
            ],
            "text/plain": [
              "arrival_date_year       2015       2016       2017\n",
              "hotel                                             \n",
              "City Hotel         56.117527  59.604090  57.499636\n",
              "Resort Hotel       74.284340  73.447514  69.238941"
            ]
          },
          "metadata": {
            "tags": []
          },
          "execution_count": 46
        }
      ]
    },
    {
      "cell_type": "code",
      "metadata": {
        "colab": {
          "base_uri": "https://localhost:8080/"
        },
        "id": "a25FzGegOTH6",
        "outputId": "b60ef5ca-6e7f-4149-99cd-64f983290e19"
      },
      "source": [
        "valid_booking_df.columns"
      ],
      "execution_count": 47,
      "outputs": [
        {
          "output_type": "execute_result",
          "data": {
            "text/plain": [
              "Int64Index([2015, 2016, 2017], dtype='int64', name='arrival_date_year')"
            ]
          },
          "metadata": {
            "tags": []
          },
          "execution_count": 47
        }
      ]
    },
    {
      "cell_type": "code",
      "metadata": {
        "colab": {
          "base_uri": "https://localhost:8080/",
          "height": 584
        },
        "id": "oS5rEPXAHzU1",
        "outputId": "6dfee569-3a96-4c40-b972-6a41b59313e2"
      },
      "source": [
        "ax1=valid_booking_df.plot.bar(figsize = (10,9), fontsize = 18, rot=0)\n",
        "ax1.set_title('Booking Comparision Over the years', fontsize= 18)\n",
        "ax1.set_xlabel('Hotel Types', fontsize=16)\n",
        "ax1.set_ylabel('Booking Percentage(%)', fontsize=16)\n",
        "ax1.legend(fontsize=16)\n",
        "for index,data in enumerate(valid_booking_df[2015]):\n",
        "  plt.text(x=index-0.20 , y =data , s= f'{round(data,2)}%' , fontdict=dict(fontsize=15), ha='center')\n",
        "for index,data in enumerate(valid_booking_df[2016]):\n",
        "  plt.text(x=index , y =data+0.5 , s= f'{round(data,2)}%' , fontdict=dict(fontsize=15), ha='center')\n",
        "for index,data in enumerate(valid_booking_df[2017]):\n",
        "  plt.text(x=index+0.20 , y =data+0.5 , s= f'{round(data,2)}%' , fontdict=dict(fontsize=15), ha='center')"
      ],
      "execution_count": 48,
      "outputs": [
        {
          "output_type": "display_data",
          "data": {
            "image/png": "[encoded data removed]",
            "text/plain": [
              "<Figure size 720x648 with 1 Axes>"
            ]
          },
          "metadata": {
            "tags": [],
            "needs_background": "light"
          }
        }
      ]
    },
    {
      "cell_type": "markdown",
      "metadata": {
        "id": "UyzNpf0emVzH"
      },
      "source": [
        "##--> **Booking analysis country wise**"
      ]
    },
    {
      "cell_type": "code",
      "metadata": {
        "colab": {
          "base_uri": "https://localhost:8080/"
        },
        "id": "GtFBKNc8numo",
        "outputId": "809e1c59-de94-4d81-efe6-e6dc1f8f2c8b"
      },
      "source": [
        "hotel_df.info()"
      ],
      "execution_count": 49,
      "outputs": [
        {
          "output_type": "stream",
          "text": [
            "<class 'pandas.core.frame.DataFrame'>\n",
            "RangeIndex: 119390 entries, 0 to 119389\n",
            "Data columns (total 32 columns):\n",
            " #   Column                          Non-Null Count   Dtype  \n",
            "---  ------                          --------------   -----  \n",
            " 0   hotel                           119390 non-null  object \n",
            " 1   is_canceled                     119390 non-null  int64  \n",
            " 2   lead_time                       119390 non-null  int64  \n",
            " 3   arrival_date_year               119390 non-null  int64  \n",
            " 4   arrival_date_month              119390 non-null  object \n",
            " 5   arrival_date_week_number        119390 non-null  int64  \n",
            " 6   arrival_date_day_of_month       119390 non-null  int64  \n",
            " 7   stays_in_weekend_nights         119390 non-null  int64  \n",
            " 8   stays_in_week_nights            119390 non-null  int64  \n",
            " 9   adults                          119390 non-null  int64  \n",
            " 10  children                        119386 non-null  float64\n",
            " 11  babies                          119390 non-null  int64  \n",
            " 12  meal                            119390 non-null  object \n",
            " 13  country                         118902 non-null  object \n",
            " 14  market_segment                  119390 non-null  object \n",
            " 15  distribution_channel            119390 non-null  object \n",
            " 16  is_repeated_guest               119390 non-null  int64  \n",
            " 17  previous_cancellations          119390 non-null  int64  \n",
            " 18  previous_bookings_not_canceled  119390 non-null  int64  \n",
            " 19  reserved_room_type              119390 non-null  object \n",
            " 20  assigned_room_type              119390 non-null  object \n",
            " 21  booking_changes                 119390 non-null  int64  \n",
            " 22  deposit_type                    119390 non-null  object \n",
            " 23  agent                           103050 non-null  float64\n",
            " 24  company                         6797 non-null    float64\n",
            " 25  days_in_waiting_list            119390 non-null  int64  \n",
            " 26  customer_type                   119390 non-null  object \n",
            " 27  adr                             119390 non-null  float64\n",
            " 28  required_car_parking_spaces     119390 non-null  int64  \n",
            " 29  total_of_special_requests       119390 non-null  int64  \n",
            " 30  reservation_status              119390 non-null  object \n",
            " 31  reservation_status_date         119390 non-null  object \n",
            "dtypes: float64(4), int64(16), object(12)\n",
            "memory usage: 29.1+ MB\n"
          ],
          "name": "stdout"
        }
      ]
    },
    {
      "cell_type": "code",
      "metadata": {
        "id": "5YCtKICZI6wr"
      },
      "source": [
        "hotel_df_copy = hotel_df.copy()"
      ],
      "execution_count": 50,
      "outputs": []
    },
    {
      "cell_type": "markdown",
      "metadata": {
        "id": "1JLlbrFU6-Ql"
      },
      "source": [
        "## In the country column there are 488 rows with NaN data. Since there isn't any other column giving us any hint about data that should be in country column against NaN value, it is better to delete the rows for proper analysis."
      ]
    },
    {
      "cell_type": "code",
      "metadata": {
        "id": "msPPVjT47cgR"
      },
      "source": [
        "country_df_withno_na= hotel_df.loc[~hotel_df['country'].isna()]"
      ],
      "execution_count": 52,
      "outputs": []
    },
    {
      "cell_type": "code",
      "metadata": {
        "colab": {
          "base_uri": "https://localhost:8080/"
        },
        "id": "sZ7pug6o8KRK",
        "outputId": "ad464b67-39d5-4be1-bdda-8016d6fd8f39"
      },
      "source": [
        "country_df_withno_na.info()"
      ],
      "execution_count": 53,
      "outputs": [
        {
          "output_type": "stream",
          "text": [
            "<class 'pandas.core.frame.DataFrame'>\n",
            "Int64Index: 118902 entries, 0 to 119389\n",
            "Data columns (total 32 columns):\n",
            " #   Column                          Non-Null Count   Dtype  \n",
            "---  ------                          --------------   -----  \n",
            " 0   hotel                           118902 non-null  object \n",
            " 1   is_canceled                     118902 non-null  int64  \n",
            " 2   lead_time                       118902 non-null  int64  \n",
            " 3   arrival_date_year               118902 non-null  int64  \n",
            " 4   arrival_date_month              118902 non-null  object \n",
            " 5   arrival_date_week_number        118902 non-null  int64  \n",
            " 6   arrival_date_day_of_month       118902 non-null  int64  \n",
            " 7   stays_in_weekend_nights         118902 non-null  int64  \n",
            " 8   stays_in_week_nights            118902 non-null  int64  \n",
            " 9   adults                          118902 non-null  int64  \n",
            " 10  children                        118898 non-null  float64\n",
            " 11  babies                          118902 non-null  int64  \n",
            " 12  meal                            118902 non-null  object \n",
            " 13  country                         118902 non-null  object \n",
            " 14  market_segment                  118902 non-null  object \n",
            " 15  distribution_channel            118902 non-null  object \n",
            " 16  is_repeated_guest               118902 non-null  int64  \n",
            " 17  previous_cancellations          118902 non-null  int64  \n",
            " 18  previous_bookings_not_canceled  118902 non-null  int64  \n",
            " 19  reserved_room_type              118902 non-null  object \n",
            " 20  assigned_room_type              118902 non-null  object \n",
            " 21  booking_changes                 118902 non-null  int64  \n",
            " 22  deposit_type                    118902 non-null  object \n",
            " 23  agent                           102896 non-null  float64\n",
            " 24  company                         6623 non-null    float64\n",
            " 25  days_in_waiting_list            118902 non-null  int64  \n",
            " 26  customer_type                   118902 non-null  object \n",
            " 27  adr                             118902 non-null  float64\n",
            " 28  required_car_parking_spaces     118902 non-null  int64  \n",
            " 29  total_of_special_requests       118902 non-null  int64  \n",
            " 30  reservation_status              118902 non-null  object \n",
            " 31  reservation_status_date         118902 non-null  object \n",
            "dtypes: float64(4), int64(16), object(12)\n",
            "memory usage: 29.9+ MB\n"
          ],
          "name": "stdout"
        }
      ]
    },
    {
      "cell_type": "code",
      "metadata": {
        "id": "nwH5o--s8OY_"
      },
      "source": [
        "country_wise_booking_df= country_df_withno_na.groupby(['country','hotel'],sort= False)[['hotel']].count().unstack()"
      ],
      "execution_count": 54,
      "outputs": []
    },
    {
      "cell_type": "code",
      "metadata": {
        "colab": {
          "base_uri": "https://localhost:8080/",
          "height": 570
        },
        "id": "RSOzbEZL8919",
        "outputId": "67e6a05f-0767-4da8-9817-062c81cc7375"
      },
      "source": [
        "country_wise_booking_df.head(15)"
      ],
      "execution_count": 55,
      "outputs": [
        {
          "output_type": "execute_result",
          "data": {
            "text/html": [
              "<div>\n",
              "<style scoped>\n",
              "    .dataframe tbody tr th:only-of-type {\n",
              "        vertical-align: middle;\n",
              "    }\n",
              "\n",
              "    .dataframe tbody tr th {\n",
              "        vertical-align: top;\n",
              "    }\n",
              "\n",
              "    .dataframe thead tr th {\n",
              "        text-align: left;\n",
              "    }\n",
              "\n",
              "    .dataframe thead tr:last-of-type th {\n",
              "        text-align: right;\n",
              "    }\n",
              "</style>\n",
              "<table border=\"1\" class=\"dataframe\">\n",
              "  <thead>\n",
              "    <tr>\n",
              "      <th></th>\n",
              "      <th colspan=\"2\" halign=\"left\">hotel</th>\n",
              "    </tr>\n",
              "    <tr>\n",
              "      <th>hotel</th>\n",
              "      <th>Resort Hotel</th>\n",
              "      <th>City Hotel</th>\n",
              "    </tr>\n",
              "    <tr>\n",
              "      <th>country</th>\n",
              "      <th></th>\n",
              "      <th></th>\n",
              "    </tr>\n",
              "  </thead>\n",
              "  <tbody>\n",
              "    <tr>\n",
              "      <th>PRT</th>\n",
              "      <td>17630.0</td>\n",
              "      <td>30960.0</td>\n",
              "    </tr>\n",
              "    <tr>\n",
              "      <th>GBR</th>\n",
              "      <td>6814.0</td>\n",
              "      <td>5315.0</td>\n",
              "    </tr>\n",
              "    <tr>\n",
              "      <th>USA</th>\n",
              "      <td>479.0</td>\n",
              "      <td>1618.0</td>\n",
              "    </tr>\n",
              "    <tr>\n",
              "      <th>ESP</th>\n",
              "      <td>3957.0</td>\n",
              "      <td>4611.0</td>\n",
              "    </tr>\n",
              "    <tr>\n",
              "      <th>IRL</th>\n",
              "      <td>2166.0</td>\n",
              "      <td>1209.0</td>\n",
              "    </tr>\n",
              "    <tr>\n",
              "      <th>FRA</th>\n",
              "      <td>1611.0</td>\n",
              "      <td>8804.0</td>\n",
              "    </tr>\n",
              "    <tr>\n",
              "      <th>ROU</th>\n",
              "      <td>177.0</td>\n",
              "      <td>323.0</td>\n",
              "    </tr>\n",
              "    <tr>\n",
              "      <th>NOR</th>\n",
              "      <td>123.0</td>\n",
              "      <td>484.0</td>\n",
              "    </tr>\n",
              "    <tr>\n",
              "      <th>OMN</th>\n",
              "      <td>11.0</td>\n",
              "      <td>7.0</td>\n",
              "    </tr>\n",
              "    <tr>\n",
              "      <th>ARG</th>\n",
              "      <td>57.0</td>\n",
              "      <td>157.0</td>\n",
              "    </tr>\n",
              "    <tr>\n",
              "      <th>POL</th>\n",
              "      <td>333.0</td>\n",
              "      <td>586.0</td>\n",
              "    </tr>\n",
              "    <tr>\n",
              "      <th>DEU</th>\n",
              "      <td>1203.0</td>\n",
              "      <td>6084.0</td>\n",
              "    </tr>\n",
              "    <tr>\n",
              "      <th>BEL</th>\n",
              "      <td>448.0</td>\n",
              "      <td>1894.0</td>\n",
              "    </tr>\n",
              "    <tr>\n",
              "      <th>CHE</th>\n",
              "      <td>435.0</td>\n",
              "      <td>1295.0</td>\n",
              "    </tr>\n",
              "    <tr>\n",
              "      <th>CN</th>\n",
              "      <td>710.0</td>\n",
              "      <td>569.0</td>\n",
              "    </tr>\n",
              "  </tbody>\n",
              "</table>\n",
              "</div>"
            ],
            "text/plain": [
              "               hotel           \n",
              "hotel   Resort Hotel City Hotel\n",
              "country                        \n",
              "PRT          17630.0    30960.0\n",
              "GBR           6814.0     5315.0\n",
              "USA            479.0     1618.0\n",
              "ESP           3957.0     4611.0\n",
              "IRL           2166.0     1209.0\n",
              "FRA           1611.0     8804.0\n",
              "ROU            177.0      323.0\n",
              "NOR            123.0      484.0\n",
              "OMN             11.0        7.0\n",
              "ARG             57.0      157.0\n",
              "POL            333.0      586.0\n",
              "DEU           1203.0     6084.0\n",
              "BEL            448.0     1894.0\n",
              "CHE            435.0     1295.0\n",
              "CN             710.0      569.0"
            ]
          },
          "metadata": {
            "tags": []
          },
          "execution_count": 55
        }
      ]
    },
    {
      "cell_type": "code",
      "metadata": {
        "colab": {
          "base_uri": "https://localhost:8080/"
        },
        "id": "_Bd2LovmABvF",
        "outputId": "cb48b7c0-b26b-4112-b909-3d6a4dbc08f5"
      },
      "source": [
        "country_wise_booking_df.columns"
      ],
      "execution_count": 56,
      "outputs": [
        {
          "output_type": "execute_result",
          "data": {
            "text/plain": [
              "MultiIndex([('hotel', 'Resort Hotel'),\n",
              "            ('hotel',   'City Hotel')],\n",
              "           names=[None, 'hotel'])"
            ]
          },
          "metadata": {
            "tags": []
          },
          "execution_count": 56
        }
      ]
    },
    {
      "cell_type": "markdown",
      "metadata": {
        "id": "2gxVrXYzDsY2"
      },
      "source": [
        "## *Countries where Resort Hotels are more preferred over City Hotels*"
      ]
    },
    {
      "cell_type": "code",
      "metadata": {
        "id": "uOZO2fsY9Ei_"
      },
      "source": [
        "Resort_hotel_more_preferred_df = country_wise_booking_df.loc[country_wise_booking_df[('hotel','Resort Hotel')]>country_wise_booking_df[('hotel','City Hotel')],:]"
      ],
      "execution_count": 57,
      "outputs": []
    },
    {
      "cell_type": "code",
      "metadata": {
        "colab": {
          "base_uri": "https://localhost:8080/",
          "height": 477
        },
        "id": "Q0LcGerX-Tc6",
        "outputId": "8b418b7c-3bba-47cd-a9e0-71e6531ac990"
      },
      "source": [
        "Resort_hotel_more_preferred_df"
      ],
      "execution_count": 58,
      "outputs": [
        {
          "output_type": "execute_result",
          "data": {
            "text/html": [
              "<div>\n",
              "<style scoped>\n",
              "    .dataframe tbody tr th:only-of-type {\n",
              "        vertical-align: middle;\n",
              "    }\n",
              "\n",
              "    .dataframe tbody tr th {\n",
              "        vertical-align: top;\n",
              "    }\n",
              "\n",
              "    .dataframe thead tr th {\n",
              "        text-align: left;\n",
              "    }\n",
              "\n",
              "    .dataframe thead tr:last-of-type th {\n",
              "        text-align: right;\n",
              "    }\n",
              "</style>\n",
              "<table border=\"1\" class=\"dataframe\">\n",
              "  <thead>\n",
              "    <tr>\n",
              "      <th></th>\n",
              "      <th colspan=\"2\" halign=\"left\">hotel</th>\n",
              "    </tr>\n",
              "    <tr>\n",
              "      <th>hotel</th>\n",
              "      <th>Resort Hotel</th>\n",
              "      <th>City Hotel</th>\n",
              "    </tr>\n",
              "    <tr>\n",
              "      <th>country</th>\n",
              "      <th></th>\n",
              "      <th></th>\n",
              "    </tr>\n",
              "  </thead>\n",
              "  <tbody>\n",
              "    <tr>\n",
              "      <th>GBR</th>\n",
              "      <td>6814.0</td>\n",
              "      <td>5315.0</td>\n",
              "    </tr>\n",
              "    <tr>\n",
              "      <th>IRL</th>\n",
              "      <td>2166.0</td>\n",
              "      <td>1209.0</td>\n",
              "    </tr>\n",
              "    <tr>\n",
              "      <th>OMN</th>\n",
              "      <td>11.0</td>\n",
              "      <td>7.0</td>\n",
              "    </tr>\n",
              "    <tr>\n",
              "      <th>CN</th>\n",
              "      <td>710.0</td>\n",
              "      <td>569.0</td>\n",
              "    </tr>\n",
              "    <tr>\n",
              "      <th>LVA</th>\n",
              "      <td>33.0</td>\n",
              "      <td>22.0</td>\n",
              "    </tr>\n",
              "    <tr>\n",
              "      <th>PRI</th>\n",
              "      <td>9.0</td>\n",
              "      <td>3.0</td>\n",
              "    </tr>\n",
              "    <tr>\n",
              "      <th>LTU</th>\n",
              "      <td>46.0</td>\n",
              "      <td>35.0</td>\n",
              "    </tr>\n",
              "    <tr>\n",
              "      <th>JAM</th>\n",
              "      <td>5.0</td>\n",
              "      <td>1.0</td>\n",
              "    </tr>\n",
              "    <tr>\n",
              "      <th>AND</th>\n",
              "      <td>5.0</td>\n",
              "      <td>2.0</td>\n",
              "    </tr>\n",
              "    <tr>\n",
              "      <th>GIB</th>\n",
              "      <td>13.0</td>\n",
              "      <td>5.0</td>\n",
              "    </tr>\n",
              "    <tr>\n",
              "      <th>CAF</th>\n",
              "      <td>3.0</td>\n",
              "      <td>2.0</td>\n",
              "    </tr>\n",
              "    <tr>\n",
              "      <th>SUR</th>\n",
              "      <td>4.0</td>\n",
              "      <td>1.0</td>\n",
              "    </tr>\n",
              "  </tbody>\n",
              "</table>\n",
              "</div>"
            ],
            "text/plain": [
              "               hotel           \n",
              "hotel   Resort Hotel City Hotel\n",
              "country                        \n",
              "GBR           6814.0     5315.0\n",
              "IRL           2166.0     1209.0\n",
              "OMN             11.0        7.0\n",
              "CN             710.0      569.0\n",
              "LVA             33.0       22.0\n",
              "PRI              9.0        3.0\n",
              "LTU             46.0       35.0\n",
              "JAM              5.0        1.0\n",
              "AND              5.0        2.0\n",
              "GIB             13.0        5.0\n",
              "CAF              3.0        2.0\n",
              "SUR              4.0        1.0"
            ]
          },
          "metadata": {
            "tags": []
          },
          "execution_count": 58
        }
      ]
    },
    {
      "cell_type": "code",
      "metadata": {
        "colab": {
          "base_uri": "https://localhost:8080/"
        },
        "id": "pWwJB0uwHQaT",
        "outputId": "c9313442-1cc0-4ebd-c75d-1d697e60ad85"
      },
      "source": [
        "Resort_hotel_more_preferred_df['Total Bookings'] = Resort_hotel_more_preferred_df.sum(level= 0, axis=1)"
      ],
      "execution_count": 59,
      "outputs": [
        {
          "output_type": "stream",
          "text": [
            "/usr/local/lib/python3.7/dist-packages/ipykernel_launcher.py:1: SettingWithCopyWarning: \n",
            "A value is trying to be set on a copy of a slice from a DataFrame.\n",
            "Try using .loc[row_indexer,col_indexer] = value instead\n",
            "\n",
            "See the caveats in the documentation: https://pandas.pydata.org/pandas-docs/stable/user_guide/indexing.html#returning-a-view-versus-a-copy\n",
            "  \"\"\"Entry point for launching an IPython kernel.\n"
          ],
          "name": "stderr"
        }
      ]
    },
    {
      "cell_type": "code",
      "metadata": {
        "colab": {
          "base_uri": "https://localhost:8080/",
          "height": 477
        },
        "id": "hX7yoxjJHj0Z",
        "outputId": "8d3a6468-acc3-490f-8927-9aff5029e731"
      },
      "source": [
        "Resort_hotel_more_preferred_df"
      ],
      "execution_count": 60,
      "outputs": [
        {
          "output_type": "execute_result",
          "data": {
            "text/html": [
              "<div>\n",
              "<style scoped>\n",
              "    .dataframe tbody tr th:only-of-type {\n",
              "        vertical-align: middle;\n",
              "    }\n",
              "\n",
              "    .dataframe tbody tr th {\n",
              "        vertical-align: top;\n",
              "    }\n",
              "\n",
              "    .dataframe thead tr th {\n",
              "        text-align: left;\n",
              "    }\n",
              "\n",
              "    .dataframe thead tr:last-of-type th {\n",
              "        text-align: right;\n",
              "    }\n",
              "</style>\n",
              "<table border=\"1\" class=\"dataframe\">\n",
              "  <thead>\n",
              "    <tr>\n",
              "      <th></th>\n",
              "      <th colspan=\"2\" halign=\"left\">hotel</th>\n",
              "      <th>Total Bookings</th>\n",
              "    </tr>\n",
              "    <tr>\n",
              "      <th>hotel</th>\n",
              "      <th>Resort Hotel</th>\n",
              "      <th>City Hotel</th>\n",
              "      <th></th>\n",
              "    </tr>\n",
              "    <tr>\n",
              "      <th>country</th>\n",
              "      <th></th>\n",
              "      <th></th>\n",
              "      <th></th>\n",
              "    </tr>\n",
              "  </thead>\n",
              "  <tbody>\n",
              "    <tr>\n",
              "      <th>GBR</th>\n",
              "      <td>6814.0</td>\n",
              "      <td>5315.0</td>\n",
              "      <td>12129.0</td>\n",
              "    </tr>\n",
              "    <tr>\n",
              "      <th>IRL</th>\n",
              "      <td>2166.0</td>\n",
              "      <td>1209.0</td>\n",
              "      <td>3375.0</td>\n",
              "    </tr>\n",
              "    <tr>\n",
              "      <th>OMN</th>\n",
              "      <td>11.0</td>\n",
              "      <td>7.0</td>\n",
              "      <td>18.0</td>\n",
              "    </tr>\n",
              "    <tr>\n",
              "      <th>CN</th>\n",
              "      <td>710.0</td>\n",
              "      <td>569.0</td>\n",
              "      <td>1279.0</td>\n",
              "    </tr>\n",
              "    <tr>\n",
              "      <th>LVA</th>\n",
              "      <td>33.0</td>\n",
              "      <td>22.0</td>\n",
              "      <td>55.0</td>\n",
              "    </tr>\n",
              "    <tr>\n",
              "      <th>PRI</th>\n",
              "      <td>9.0</td>\n",
              "      <td>3.0</td>\n",
              "      <td>12.0</td>\n",
              "    </tr>\n",
              "    <tr>\n",
              "      <th>LTU</th>\n",
              "      <td>46.0</td>\n",
              "      <td>35.0</td>\n",
              "      <td>81.0</td>\n",
              "    </tr>\n",
              "    <tr>\n",
              "      <th>JAM</th>\n",
              "      <td>5.0</td>\n",
              "      <td>1.0</td>\n",
              "      <td>6.0</td>\n",
              "    </tr>\n",
              "    <tr>\n",
              "      <th>AND</th>\n",
              "      <td>5.0</td>\n",
              "      <td>2.0</td>\n",
              "      <td>7.0</td>\n",
              "    </tr>\n",
              "    <tr>\n",
              "      <th>GIB</th>\n",
              "      <td>13.0</td>\n",
              "      <td>5.0</td>\n",
              "      <td>18.0</td>\n",
              "    </tr>\n",
              "    <tr>\n",
              "      <th>CAF</th>\n",
              "      <td>3.0</td>\n",
              "      <td>2.0</td>\n",
              "      <td>5.0</td>\n",
              "    </tr>\n",
              "    <tr>\n",
              "      <th>SUR</th>\n",
              "      <td>4.0</td>\n",
              "      <td>1.0</td>\n",
              "      <td>5.0</td>\n",
              "    </tr>\n",
              "  </tbody>\n",
              "</table>\n",
              "</div>"
            ],
            "text/plain": [
              "               hotel            Total Bookings\n",
              "hotel   Resort Hotel City Hotel               \n",
              "country                                       \n",
              "GBR           6814.0     5315.0        12129.0\n",
              "IRL           2166.0     1209.0         3375.0\n",
              "OMN             11.0        7.0           18.0\n",
              "CN             710.0      569.0         1279.0\n",
              "LVA             33.0       22.0           55.0\n",
              "PRI              9.0        3.0           12.0\n",
              "LTU             46.0       35.0           81.0\n",
              "JAM              5.0        1.0            6.0\n",
              "AND              5.0        2.0            7.0\n",
              "GIB             13.0        5.0           18.0\n",
              "CAF              3.0        2.0            5.0\n",
              "SUR              4.0        1.0            5.0"
            ]
          },
          "metadata": {
            "tags": []
          },
          "execution_count": 60
        }
      ]
    },
    {
      "cell_type": "code",
      "metadata": {
        "colab": {
          "base_uri": "https://localhost:8080/"
        },
        "id": "_kVrfn0yHpKn",
        "outputId": "e4e38f6c-7fa0-4946-a97f-dbb3127d2cd4"
      },
      "source": [
        "Resort_hotel_more_preferred_df['Resort Hotel Booking %'] = (Resort_hotel_more_preferred_df[('hotel','Resort Hotel')]/Resort_hotel_more_preferred_df[('Total Bookings','')])*100"
      ],
      "execution_count": 61,
      "outputs": [
        {
          "output_type": "stream",
          "text": [
            "/usr/local/lib/python3.7/dist-packages/ipykernel_launcher.py:1: SettingWithCopyWarning: \n",
            "A value is trying to be set on a copy of a slice from a DataFrame.\n",
            "Try using .loc[row_indexer,col_indexer] = value instead\n",
            "\n",
            "See the caveats in the documentation: https://pandas.pydata.org/pandas-docs/stable/user_guide/indexing.html#returning-a-view-versus-a-copy\n",
            "  \"\"\"Entry point for launching an IPython kernel.\n"
          ],
          "name": "stderr"
        }
      ]
    },
    {
      "cell_type": "code",
      "metadata": {
        "colab": {
          "base_uri": "https://localhost:8080/"
        },
        "id": "40p0Q3ZfIJlv",
        "outputId": "b8f98b8d-c40b-4412-b0cd-33d39fa02577"
      },
      "source": [
        "Resort_hotel_more_preferred_df['City Hotel Booking %'] = (Resort_hotel_more_preferred_df[('hotel','City Hotel')]/Resort_hotel_more_preferred_df[('Total Bookings','')])*100"
      ],
      "execution_count": 62,
      "outputs": [
        {
          "output_type": "stream",
          "text": [
            "/usr/local/lib/python3.7/dist-packages/ipykernel_launcher.py:1: SettingWithCopyWarning: \n",
            "A value is trying to be set on a copy of a slice from a DataFrame.\n",
            "Try using .loc[row_indexer,col_indexer] = value instead\n",
            "\n",
            "See the caveats in the documentation: https://pandas.pydata.org/pandas-docs/stable/user_guide/indexing.html#returning-a-view-versus-a-copy\n",
            "  \"\"\"Entry point for launching an IPython kernel.\n"
          ],
          "name": "stderr"
        }
      ]
    },
    {
      "cell_type": "code",
      "metadata": {
        "colab": {
          "base_uri": "https://localhost:8080/",
          "height": 477
        },
        "id": "nTg8UeNoITdC",
        "outputId": "63578580-5c94-4731-a989-3455c5ae3d9c"
      },
      "source": [
        "Resort_hotel_more_preferred_df"
      ],
      "execution_count": 63,
      "outputs": [
        {
          "output_type": "execute_result",
          "data": {
            "text/html": [
              "<div>\n",
              "<style scoped>\n",
              "    .dataframe tbody tr th:only-of-type {\n",
              "        vertical-align: middle;\n",
              "    }\n",
              "\n",
              "    .dataframe tbody tr th {\n",
              "        vertical-align: top;\n",
              "    }\n",
              "\n",
              "    .dataframe thead tr th {\n",
              "        text-align: left;\n",
              "    }\n",
              "\n",
              "    .dataframe thead tr:last-of-type th {\n",
              "        text-align: right;\n",
              "    }\n",
              "</style>\n",
              "<table border=\"1\" class=\"dataframe\">\n",
              "  <thead>\n",
              "    <tr>\n",
              "      <th></th>\n",
              "      <th colspan=\"2\" halign=\"left\">hotel</th>\n",
              "      <th>Total Bookings</th>\n",
              "      <th>Resort Hotel Booking %</th>\n",
              "      <th>City Hotel Booking %</th>\n",
              "    </tr>\n",
              "    <tr>\n",
              "      <th>hotel</th>\n",
              "      <th>Resort Hotel</th>\n",
              "      <th>City Hotel</th>\n",
              "      <th></th>\n",
              "      <th></th>\n",
              "      <th></th>\n",
              "    </tr>\n",
              "    <tr>\n",
              "      <th>country</th>\n",
              "      <th></th>\n",
              "      <th></th>\n",
              "      <th></th>\n",
              "      <th></th>\n",
              "      <th></th>\n",
              "    </tr>\n",
              "  </thead>\n",
              "  <tbody>\n",
              "    <tr>\n",
              "      <th>GBR</th>\n",
              "      <td>6814.0</td>\n",
              "      <td>5315.0</td>\n",
              "      <td>12129.0</td>\n",
              "      <td>56.179405</td>\n",
              "      <td>43.820595</td>\n",
              "    </tr>\n",
              "    <tr>\n",
              "      <th>IRL</th>\n",
              "      <td>2166.0</td>\n",
              "      <td>1209.0</td>\n",
              "      <td>3375.0</td>\n",
              "      <td>64.177778</td>\n",
              "      <td>35.822222</td>\n",
              "    </tr>\n",
              "    <tr>\n",
              "      <th>OMN</th>\n",
              "      <td>11.0</td>\n",
              "      <td>7.0</td>\n",
              "      <td>18.0</td>\n",
              "      <td>61.111111</td>\n",
              "      <td>38.888889</td>\n",
              "    </tr>\n",
              "    <tr>\n",
              "      <th>CN</th>\n",
              "      <td>710.0</td>\n",
              "      <td>569.0</td>\n",
              "      <td>1279.0</td>\n",
              "      <td>55.512119</td>\n",
              "      <td>44.487881</td>\n",
              "    </tr>\n",
              "    <tr>\n",
              "      <th>LVA</th>\n",
              "      <td>33.0</td>\n",
              "      <td>22.0</td>\n",
              "      <td>55.0</td>\n",
              "      <td>60.000000</td>\n",
              "      <td>40.000000</td>\n",
              "    </tr>\n",
              "    <tr>\n",
              "      <th>PRI</th>\n",
              "      <td>9.0</td>\n",
              "      <td>3.0</td>\n",
              "      <td>12.0</td>\n",
              "      <td>75.000000</td>\n",
              "      <td>25.000000</td>\n",
              "    </tr>\n",
              "    <tr>\n",
              "      <th>LTU</th>\n",
              "      <td>46.0</td>\n",
              "      <td>35.0</td>\n",
              "      <td>81.0</td>\n",
              "      <td>56.790123</td>\n",
              "      <td>43.209877</td>\n",
              "    </tr>\n",
              "    <tr>\n",
              "      <th>JAM</th>\n",
              "      <td>5.0</td>\n",
              "      <td>1.0</td>\n",
              "      <td>6.0</td>\n",
              "      <td>83.333333</td>\n",
              "      <td>16.666667</td>\n",
              "    </tr>\n",
              "    <tr>\n",
              "      <th>AND</th>\n",
              "      <td>5.0</td>\n",
              "      <td>2.0</td>\n",
              "      <td>7.0</td>\n",
              "      <td>71.428571</td>\n",
              "      <td>28.571429</td>\n",
              "    </tr>\n",
              "    <tr>\n",
              "      <th>GIB</th>\n",
              "      <td>13.0</td>\n",
              "      <td>5.0</td>\n",
              "      <td>18.0</td>\n",
              "      <td>72.222222</td>\n",
              "      <td>27.777778</td>\n",
              "    </tr>\n",
              "    <tr>\n",
              "      <th>CAF</th>\n",
              "      <td>3.0</td>\n",
              "      <td>2.0</td>\n",
              "      <td>5.0</td>\n",
              "      <td>60.000000</td>\n",
              "      <td>40.000000</td>\n",
              "    </tr>\n",
              "    <tr>\n",
              "      <th>SUR</th>\n",
              "      <td>4.0</td>\n",
              "      <td>1.0</td>\n",
              "      <td>5.0</td>\n",
              "      <td>80.000000</td>\n",
              "      <td>20.000000</td>\n",
              "    </tr>\n",
              "  </tbody>\n",
              "</table>\n",
              "</div>"
            ],
            "text/plain": [
              "               hotel             ... Resort Hotel Booking % City Hotel Booking %\n",
              "hotel   Resort Hotel City Hotel  ...                                            \n",
              "country                          ...                                            \n",
              "GBR           6814.0     5315.0  ...              56.179405            43.820595\n",
              "IRL           2166.0     1209.0  ...              64.177778            35.822222\n",
              "OMN             11.0        7.0  ...              61.111111            38.888889\n",
              "CN             710.0      569.0  ...              55.512119            44.487881\n",
              "LVA             33.0       22.0  ...              60.000000            40.000000\n",
              "PRI              9.0        3.0  ...              75.000000            25.000000\n",
              "LTU             46.0       35.0  ...              56.790123            43.209877\n",
              "JAM              5.0        1.0  ...              83.333333            16.666667\n",
              "AND              5.0        2.0  ...              71.428571            28.571429\n",
              "GIB             13.0        5.0  ...              72.222222            27.777778\n",
              "CAF              3.0        2.0  ...              60.000000            40.000000\n",
              "SUR              4.0        1.0  ...              80.000000            20.000000\n",
              "\n",
              "[12 rows x 5 columns]"
            ]
          },
          "metadata": {
            "tags": []
          },
          "execution_count": 63
        }
      ]
    },
    {
      "cell_type": "code",
      "metadata": {
        "colab": {
          "base_uri": "https://localhost:8080/",
          "height": 582
        },
        "id": "QgNxm4JsEQUQ",
        "outputId": "d385dc75-d1f0-4494-f458-459409a4a3b2"
      },
      "source": [
        "ax1= Resort_hotel_more_preferred_df.plot.bar(y='Resort Hotel Booking %',figsize = (20,9), fontsize= 18, rot=0)\n",
        "ax1.set_title(\"Countries With more demand for Resort Hotels\", fontsize=16)\n",
        "ax1.set_xlabel('Countries', fontsize= 16)\n",
        "ax1.set_ylabel('Booking %', fontsize=16)\n",
        "ax1.legend(fontsize= 16, loc='upper left')\n",
        "for index,data in enumerate(Resort_hotel_more_preferred_df['Resort Hotel Booking %']):\n",
        "  plt.text(x=index , y =data+1 , s= f'{round(data,2)}%' , fontdict=dict(fontsize=20), ha='center')"
      ],
      "execution_count": 64,
      "outputs": [
        {
          "output_type": "display_data",
          "data": {
            "image/png": "[encoded data removed]",
            "text/plain": [
              "<Figure size 1440x648 with 1 Axes>"
            ]
          },
          "metadata": {
            "tags": [],
            "needs_background": "light"
          }
        }
      ]
    },
    {
      "cell_type": "markdown",
      "metadata": {
        "id": "YM08MI9q0PR3"
      },
      "source": [
        "# type of room and adr distribution across different months"
      ]
    },
    {
      "cell_type": "code",
      "metadata": {
        "id": "qzKVA9A6E-n2",
        "colab": {
          "base_uri": "https://localhost:8080/",
          "height": 211
        },
        "outputId": "2baa5e9a-bfbb-48b0-ec9d-0ed985960fab"
      },
      "source": [
        "hotel_df.head(3)"
      ],
      "execution_count": 65,
      "outputs": [
        {
          "output_type": "execute_result",
          "data": {
            "text/html": [
              "<div>\n",
              "<style scoped>\n",
              "    .dataframe tbody tr th:only-of-type {\n",
              "        vertical-align: middle;\n",
              "    }\n",
              "\n",
              "    .dataframe tbody tr th {\n",
              "        vertical-align: top;\n",
              "    }\n",
              "\n",
              "    .dataframe thead th {\n",
              "        text-align: right;\n",
              "    }\n",
              "</style>\n",
              "<table border=\"1\" class=\"dataframe\">\n",
              "  <thead>\n",
              "    <tr style=\"text-align: right;\">\n",
              "      <th></th>\n",
              "      <th>hotel</th>\n",
              "      <th>is_canceled</th>\n",
              "      <th>lead_time</th>\n",
              "      <th>arrival_date_year</th>\n",
              "      <th>arrival_date_month</th>\n",
              "      <th>arrival_date_week_number</th>\n",
              "      <th>arrival_date_day_of_month</th>\n",
              "      <th>stays_in_weekend_nights</th>\n",
              "      <th>stays_in_week_nights</th>\n",
              "      <th>adults</th>\n",
              "      <th>children</th>\n",
              "      <th>babies</th>\n",
              "      <th>meal</th>\n",
              "      <th>country</th>\n",
              "      <th>market_segment</th>\n",
              "      <th>distribution_channel</th>\n",
              "      <th>is_repeated_guest</th>\n",
              "      <th>previous_cancellations</th>\n",
              "      <th>previous_bookings_not_canceled</th>\n",
              "      <th>reserved_room_type</th>\n",
              "      <th>assigned_room_type</th>\n",
              "      <th>booking_changes</th>\n",
              "      <th>deposit_type</th>\n",
              "      <th>agent</th>\n",
              "      <th>company</th>\n",
              "      <th>days_in_waiting_list</th>\n",
              "      <th>customer_type</th>\n",
              "      <th>adr</th>\n",
              "      <th>required_car_parking_spaces</th>\n",
              "      <th>total_of_special_requests</th>\n",
              "      <th>reservation_status</th>\n",
              "      <th>reservation_status_date</th>\n",
              "    </tr>\n",
              "  </thead>\n",
              "  <tbody>\n",
              "    <tr>\n",
              "      <th>0</th>\n",
              "      <td>Resort Hotel</td>\n",
              "      <td>0</td>\n",
              "      <td>342</td>\n",
              "      <td>2015</td>\n",
              "      <td>July</td>\n",
              "      <td>27</td>\n",
              "      <td>1</td>\n",
              "      <td>0</td>\n",
              "      <td>0</td>\n",
              "      <td>2</td>\n",
              "      <td>0.0</td>\n",
              "      <td>0</td>\n",
              "      <td>BB</td>\n",
              "      <td>PRT</td>\n",
              "      <td>Direct</td>\n",
              "      <td>Direct</td>\n",
              "      <td>0</td>\n",
              "      <td>0</td>\n",
              "      <td>0</td>\n",
              "      <td>C</td>\n",
              "      <td>C</td>\n",
              "      <td>3</td>\n",
              "      <td>No Deposit</td>\n",
              "      <td>NaN</td>\n",
              "      <td>NaN</td>\n",
              "      <td>0</td>\n",
              "      <td>Transient</td>\n",
              "      <td>0.0</td>\n",
              "      <td>0</td>\n",
              "      <td>0</td>\n",
              "      <td>Check-Out</td>\n",
              "      <td>01-07-15</td>\n",
              "    </tr>\n",
              "    <tr>\n",
              "      <th>1</th>\n",
              "      <td>Resort Hotel</td>\n",
              "      <td>0</td>\n",
              "      <td>737</td>\n",
              "      <td>2015</td>\n",
              "      <td>July</td>\n",
              "      <td>27</td>\n",
              "      <td>1</td>\n",
              "      <td>0</td>\n",
              "      <td>0</td>\n",
              "      <td>2</td>\n",
              "      <td>0.0</td>\n",
              "      <td>0</td>\n",
              "      <td>BB</td>\n",
              "      <td>PRT</td>\n",
              "      <td>Direct</td>\n",
              "      <td>Direct</td>\n",
              "      <td>0</td>\n",
              "      <td>0</td>\n",
              "      <td>0</td>\n",
              "      <td>C</td>\n",
              "      <td>C</td>\n",
              "      <td>4</td>\n",
              "      <td>No Deposit</td>\n",
              "      <td>NaN</td>\n",
              "      <td>NaN</td>\n",
              "      <td>0</td>\n",
              "      <td>Transient</td>\n",
              "      <td>0.0</td>\n",
              "      <td>0</td>\n",
              "      <td>0</td>\n",
              "      <td>Check-Out</td>\n",
              "      <td>01-07-15</td>\n",
              "    </tr>\n",
              "    <tr>\n",
              "      <th>2</th>\n",
              "      <td>Resort Hotel</td>\n",
              "      <td>0</td>\n",
              "      <td>7</td>\n",
              "      <td>2015</td>\n",
              "      <td>July</td>\n",
              "      <td>27</td>\n",
              "      <td>1</td>\n",
              "      <td>0</td>\n",
              "      <td>1</td>\n",
              "      <td>1</td>\n",
              "      <td>0.0</td>\n",
              "      <td>0</td>\n",
              "      <td>BB</td>\n",
              "      <td>GBR</td>\n",
              "      <td>Direct</td>\n",
              "      <td>Direct</td>\n",
              "      <td>0</td>\n",
              "      <td>0</td>\n",
              "      <td>0</td>\n",
              "      <td>A</td>\n",
              "      <td>C</td>\n",
              "      <td>0</td>\n",
              "      <td>No Deposit</td>\n",
              "      <td>NaN</td>\n",
              "      <td>NaN</td>\n",
              "      <td>0</td>\n",
              "      <td>Transient</td>\n",
              "      <td>75.0</td>\n",
              "      <td>0</td>\n",
              "      <td>0</td>\n",
              "      <td>Check-Out</td>\n",
              "      <td>02-07-15</td>\n",
              "    </tr>\n",
              "  </tbody>\n",
              "</table>\n",
              "</div>"
            ],
            "text/plain": [
              "          hotel  is_canceled  ...  reservation_status  reservation_status_date\n",
              "0  Resort Hotel            0  ...           Check-Out                 01-07-15\n",
              "1  Resort Hotel            0  ...           Check-Out                 01-07-15\n",
              "2  Resort Hotel            0  ...           Check-Out                 02-07-15\n",
              "\n",
              "[3 rows x 32 columns]"
            ]
          },
          "metadata": {
            "tags": []
          },
          "execution_count": 65
        }
      ]
    },
    {
      "cell_type": "code",
      "metadata": {
        "id": "2iM3wjVwP0s_"
      },
      "source": [
        "resort_df=hotel_df.loc[hotel_df['hotel']=='Resort Hotel'][['hotel','arrival_date_month','assigned_room_type','adr']]\n",
        "city_df=hotel_df.loc[hotel_df['hotel']=='City Hotel'][['hotel','arrival_date_month','assigned_room_type','adr']]"
      ],
      "execution_count": 66,
      "outputs": []
    },
    {
      "cell_type": "code",
      "metadata": {
        "colab": {
          "base_uri": "https://localhost:8080/",
          "height": 141
        },
        "id": "NDX5zUdQQ-rw",
        "outputId": "479ab070-0e97-4b5b-d9f6-f90f475c0681"
      },
      "source": [
        "resort_df.head(3)"
      ],
      "execution_count": 67,
      "outputs": [
        {
          "output_type": "execute_result",
          "data": {
            "text/html": [
              "<div>\n",
              "<style scoped>\n",
              "    .dataframe tbody tr th:only-of-type {\n",
              "        vertical-align: middle;\n",
              "    }\n",
              "\n",
              "    .dataframe tbody tr th {\n",
              "        vertical-align: top;\n",
              "    }\n",
              "\n",
              "    .dataframe thead th {\n",
              "        text-align: right;\n",
              "    }\n",
              "</style>\n",
              "<table border=\"1\" class=\"dataframe\">\n",
              "  <thead>\n",
              "    <tr style=\"text-align: right;\">\n",
              "      <th></th>\n",
              "      <th>hotel</th>\n",
              "      <th>arrival_date_month</th>\n",
              "      <th>assigned_room_type</th>\n",
              "      <th>adr</th>\n",
              "    </tr>\n",
              "  </thead>\n",
              "  <tbody>\n",
              "    <tr>\n",
              "      <th>0</th>\n",
              "      <td>Resort Hotel</td>\n",
              "      <td>July</td>\n",
              "      <td>C</td>\n",
              "      <td>0.0</td>\n",
              "    </tr>\n",
              "    <tr>\n",
              "      <th>1</th>\n",
              "      <td>Resort Hotel</td>\n",
              "      <td>July</td>\n",
              "      <td>C</td>\n",
              "      <td>0.0</td>\n",
              "    </tr>\n",
              "    <tr>\n",
              "      <th>2</th>\n",
              "      <td>Resort Hotel</td>\n",
              "      <td>July</td>\n",
              "      <td>C</td>\n",
              "      <td>75.0</td>\n",
              "    </tr>\n",
              "  </tbody>\n",
              "</table>\n",
              "</div>"
            ],
            "text/plain": [
              "          hotel arrival_date_month assigned_room_type   adr\n",
              "0  Resort Hotel               July                  C   0.0\n",
              "1  Resort Hotel               July                  C   0.0\n",
              "2  Resort Hotel               July                  C  75.0"
            ]
          },
          "metadata": {
            "tags": []
          },
          "execution_count": 67
        }
      ]
    },
    {
      "cell_type": "code",
      "metadata": {
        "id": "0wEouucZ8avo"
      },
      "source": [
        "adr_resort_df= resort_df.groupby(['arrival_date_month','assigned_room_type'])['adr'].mean().unstack()"
      ],
      "execution_count": 68,
      "outputs": []
    },
    {
      "cell_type": "code",
      "metadata": {
        "colab": {
          "base_uri": "https://localhost:8080/",
          "height": 447
        },
        "id": "5KAkvuX69KBG",
        "outputId": "5546b5a3-ba63-49b2-e16f-d90a7ded6524"
      },
      "source": [
        "adr_resort_df"
      ],
      "execution_count": 69,
      "outputs": [
        {
          "output_type": "execute_result",
          "data": {
            "text/html": [
              "<div>\n",
              "<style scoped>\n",
              "    .dataframe tbody tr th:only-of-type {\n",
              "        vertical-align: middle;\n",
              "    }\n",
              "\n",
              "    .dataframe tbody tr th {\n",
              "        vertical-align: top;\n",
              "    }\n",
              "\n",
              "    .dataframe thead th {\n",
              "        text-align: right;\n",
              "    }\n",
              "</style>\n",
              "<table border=\"1\" class=\"dataframe\">\n",
              "  <thead>\n",
              "    <tr style=\"text-align: right;\">\n",
              "      <th>assigned_room_type</th>\n",
              "      <th>A</th>\n",
              "      <th>B</th>\n",
              "      <th>C</th>\n",
              "      <th>D</th>\n",
              "      <th>E</th>\n",
              "      <th>F</th>\n",
              "      <th>G</th>\n",
              "      <th>H</th>\n",
              "      <th>I</th>\n",
              "      <th>L</th>\n",
              "      <th>P</th>\n",
              "    </tr>\n",
              "    <tr>\n",
              "      <th>arrival_date_month</th>\n",
              "      <th></th>\n",
              "      <th></th>\n",
              "      <th></th>\n",
              "      <th></th>\n",
              "      <th></th>\n",
              "      <th></th>\n",
              "      <th></th>\n",
              "      <th></th>\n",
              "      <th></th>\n",
              "      <th></th>\n",
              "      <th></th>\n",
              "    </tr>\n",
              "  </thead>\n",
              "  <tbody>\n",
              "    <tr>\n",
              "      <th>April</th>\n",
              "      <td>66.873139</td>\n",
              "      <td>77.046667</td>\n",
              "      <td>83.957343</td>\n",
              "      <td>73.107093</td>\n",
              "      <td>89.354293</td>\n",
              "      <td>95.302409</td>\n",
              "      <td>136.504626</td>\n",
              "      <td>146.416170</td>\n",
              "      <td>38.080000</td>\n",
              "      <td>NaN</td>\n",
              "      <td>NaN</td>\n",
              "    </tr>\n",
              "    <tr>\n",
              "      <th>August</th>\n",
              "      <td>166.188725</td>\n",
              "      <td>166.563429</td>\n",
              "      <td>208.749581</td>\n",
              "      <td>182.832802</td>\n",
              "      <td>192.811411</td>\n",
              "      <td>208.599920</td>\n",
              "      <td>258.959619</td>\n",
              "      <td>273.538226</td>\n",
              "      <td>93.998235</td>\n",
              "      <td>NaN</td>\n",
              "      <td>NaN</td>\n",
              "    </tr>\n",
              "    <tr>\n",
              "      <th>December</th>\n",
              "      <td>63.838404</td>\n",
              "      <td>45.606667</td>\n",
              "      <td>87.754175</td>\n",
              "      <td>61.225693</td>\n",
              "      <td>79.698457</td>\n",
              "      <td>89.384186</td>\n",
              "      <td>112.810361</td>\n",
              "      <td>121.037209</td>\n",
              "      <td>21.483333</td>\n",
              "      <td>NaN</td>\n",
              "      <td>NaN</td>\n",
              "    </tr>\n",
              "    <tr>\n",
              "      <th>February</th>\n",
              "      <td>50.085972</td>\n",
              "      <td>35.666667</td>\n",
              "      <td>65.746899</td>\n",
              "      <td>50.874748</td>\n",
              "      <td>64.942891</td>\n",
              "      <td>68.446190</td>\n",
              "      <td>90.622190</td>\n",
              "      <td>106.540556</td>\n",
              "      <td>18.406087</td>\n",
              "      <td>NaN</td>\n",
              "      <td>0.0</td>\n",
              "    </tr>\n",
              "    <tr>\n",
              "      <th>January</th>\n",
              "      <td>44.696784</td>\n",
              "      <td>34.933333</td>\n",
              "      <td>50.098421</td>\n",
              "      <td>45.669857</td>\n",
              "      <td>60.569833</td>\n",
              "      <td>57.196452</td>\n",
              "      <td>80.680714</td>\n",
              "      <td>87.126071</td>\n",
              "      <td>9.954545</td>\n",
              "      <td>NaN</td>\n",
              "      <td>NaN</td>\n",
              "    </tr>\n",
              "    <tr>\n",
              "      <th>July</th>\n",
              "      <td>134.711490</td>\n",
              "      <td>134.564545</td>\n",
              "      <td>168.287872</td>\n",
              "      <td>153.129021</td>\n",
              "      <td>165.809018</td>\n",
              "      <td>180.454595</td>\n",
              "      <td>216.688789</td>\n",
              "      <td>224.651304</td>\n",
              "      <td>57.814048</td>\n",
              "      <td>8.0</td>\n",
              "      <td>NaN</td>\n",
              "    </tr>\n",
              "    <tr>\n",
              "      <th>June</th>\n",
              "      <td>95.949922</td>\n",
              "      <td>99.632381</td>\n",
              "      <td>132.758077</td>\n",
              "      <td>98.911147</td>\n",
              "      <td>120.961719</td>\n",
              "      <td>138.513699</td>\n",
              "      <td>167.399392</td>\n",
              "      <td>188.200000</td>\n",
              "      <td>63.673571</td>\n",
              "      <td>NaN</td>\n",
              "      <td>NaN</td>\n",
              "    </tr>\n",
              "    <tr>\n",
              "      <th>March</th>\n",
              "      <td>49.637858</td>\n",
              "      <td>51.181818</td>\n",
              "      <td>58.651273</td>\n",
              "      <td>55.352293</td>\n",
              "      <td>68.831207</td>\n",
              "      <td>75.433151</td>\n",
              "      <td>98.382063</td>\n",
              "      <td>97.814706</td>\n",
              "      <td>31.917222</td>\n",
              "      <td>NaN</td>\n",
              "      <td>NaN</td>\n",
              "    </tr>\n",
              "    <tr>\n",
              "      <th>May</th>\n",
              "      <td>65.756235</td>\n",
              "      <td>74.947143</td>\n",
              "      <td>78.559804</td>\n",
              "      <td>76.011980</td>\n",
              "      <td>92.894139</td>\n",
              "      <td>101.295125</td>\n",
              "      <td>138.043077</td>\n",
              "      <td>131.376719</td>\n",
              "      <td>33.698039</td>\n",
              "      <td>NaN</td>\n",
              "      <td>NaN</td>\n",
              "    </tr>\n",
              "    <tr>\n",
              "      <th>November</th>\n",
              "      <td>42.157597</td>\n",
              "      <td>41.250000</td>\n",
              "      <td>50.270196</td>\n",
              "      <td>47.073207</td>\n",
              "      <td>58.570464</td>\n",
              "      <td>64.113023</td>\n",
              "      <td>82.602667</td>\n",
              "      <td>84.774815</td>\n",
              "      <td>12.642857</td>\n",
              "      <td>NaN</td>\n",
              "      <td>0.0</td>\n",
              "    </tr>\n",
              "    <tr>\n",
              "      <th>October</th>\n",
              "      <td>52.828256</td>\n",
              "      <td>56.100000</td>\n",
              "      <td>62.032953</td>\n",
              "      <td>62.776367</td>\n",
              "      <td>72.537763</td>\n",
              "      <td>78.734662</td>\n",
              "      <td>108.100125</td>\n",
              "      <td>104.546667</td>\n",
              "      <td>16.143636</td>\n",
              "      <td>NaN</td>\n",
              "      <td>NaN</td>\n",
              "    </tr>\n",
              "    <tr>\n",
              "      <th>September</th>\n",
              "      <td>74.718118</td>\n",
              "      <td>82.830000</td>\n",
              "      <td>99.861278</td>\n",
              "      <td>94.340754</td>\n",
              "      <td>109.018380</td>\n",
              "      <td>124.893871</td>\n",
              "      <td>153.492875</td>\n",
              "      <td>158.724286</td>\n",
              "      <td>64.342857</td>\n",
              "      <td>NaN</td>\n",
              "      <td>NaN</td>\n",
              "    </tr>\n",
              "  </tbody>\n",
              "</table>\n",
              "</div>"
            ],
            "text/plain": [
              "assigned_room_type           A           B           C  ...          I    L    P\n",
              "arrival_date_month                                      ...                     \n",
              "April                66.873139   77.046667   83.957343  ...  38.080000  NaN  NaN\n",
              "August              166.188725  166.563429  208.749581  ...  93.998235  NaN  NaN\n",
              "December             63.838404   45.606667   87.754175  ...  21.483333  NaN  NaN\n",
              "February             50.085972   35.666667   65.746899  ...  18.406087  NaN  0.0\n",
              "January              44.696784   34.933333   50.098421  ...   9.954545  NaN  NaN\n",
              "July                134.711490  134.564545  168.287872  ...  57.814048  8.0  NaN\n",
              "June                 95.949922   99.632381  132.758077  ...  63.673571  NaN  NaN\n",
              "March                49.637858   51.181818   58.651273  ...  31.917222  NaN  NaN\n",
              "May                  65.756235   74.947143   78.559804  ...  33.698039  NaN  NaN\n",
              "November             42.157597   41.250000   50.270196  ...  12.642857  NaN  0.0\n",
              "October              52.828256   56.100000   62.032953  ...  16.143636  NaN  NaN\n",
              "September            74.718118   82.830000   99.861278  ...  64.342857  NaN  NaN\n",
              "\n",
              "[12 rows x 11 columns]"
            ]
          },
          "metadata": {
            "tags": []
          },
          "execution_count": 69
        }
      ]
    },
    {
      "cell_type": "code",
      "metadata": {
        "id": "aUrab1cG9MHm"
      },
      "source": [
        "Months_name=['January','February','March','April','May','June','July','August','September','October','November','December']\n",
        "adr_resort_df.index=pd.CategoricalIndex(adr_resort_df.index, categories=Months_name, ordered=True)\n",
        "adr_resort_df = adr_resort_df.sort_index()"
      ],
      "execution_count": 70,
      "outputs": []
    },
    {
      "cell_type": "code",
      "metadata": {
        "colab": {
          "base_uri": "https://localhost:8080/",
          "height": 447
        },
        "id": "Dh1x_Njc__4C",
        "outputId": "efc7fe35-2e92-45e8-cad1-55fa37074efb"
      },
      "source": [
        "adr_resort_df"
      ],
      "execution_count": 71,
      "outputs": [
        {
          "output_type": "execute_result",
          "data": {
            "text/html": [
              "<div>\n",
              "<style scoped>\n",
              "    .dataframe tbody tr th:only-of-type {\n",
              "        vertical-align: middle;\n",
              "    }\n",
              "\n",
              "    .dataframe tbody tr th {\n",
              "        vertical-align: top;\n",
              "    }\n",
              "\n",
              "    .dataframe thead th {\n",
              "        text-align: right;\n",
              "    }\n",
              "</style>\n",
              "<table border=\"1\" class=\"dataframe\">\n",
              "  <thead>\n",
              "    <tr style=\"text-align: right;\">\n",
              "      <th>assigned_room_type</th>\n",
              "      <th>A</th>\n",
              "      <th>B</th>\n",
              "      <th>C</th>\n",
              "      <th>D</th>\n",
              "      <th>E</th>\n",
              "      <th>F</th>\n",
              "      <th>G</th>\n",
              "      <th>H</th>\n",
              "      <th>I</th>\n",
              "      <th>L</th>\n",
              "      <th>P</th>\n",
              "    </tr>\n",
              "    <tr>\n",
              "      <th>arrival_date_month</th>\n",
              "      <th></th>\n",
              "      <th></th>\n",
              "      <th></th>\n",
              "      <th></th>\n",
              "      <th></th>\n",
              "      <th></th>\n",
              "      <th></th>\n",
              "      <th></th>\n",
              "      <th></th>\n",
              "      <th></th>\n",
              "      <th></th>\n",
              "    </tr>\n",
              "  </thead>\n",
              "  <tbody>\n",
              "    <tr>\n",
              "      <th>January</th>\n",
              "      <td>44.696784</td>\n",
              "      <td>34.933333</td>\n",
              "      <td>50.098421</td>\n",
              "      <td>45.669857</td>\n",
              "      <td>60.569833</td>\n",
              "      <td>57.196452</td>\n",
              "      <td>80.680714</td>\n",
              "      <td>87.126071</td>\n",
              "      <td>9.954545</td>\n",
              "      <td>NaN</td>\n",
              "      <td>NaN</td>\n",
              "    </tr>\n",
              "    <tr>\n",
              "      <th>February</th>\n",
              "      <td>50.085972</td>\n",
              "      <td>35.666667</td>\n",
              "      <td>65.746899</td>\n",
              "      <td>50.874748</td>\n",
              "      <td>64.942891</td>\n",
              "      <td>68.446190</td>\n",
              "      <td>90.622190</td>\n",
              "      <td>106.540556</td>\n",
              "      <td>18.406087</td>\n",
              "      <td>NaN</td>\n",
              "      <td>0.0</td>\n",
              "    </tr>\n",
              "    <tr>\n",
              "      <th>March</th>\n",
              "      <td>49.637858</td>\n",
              "      <td>51.181818</td>\n",
              "      <td>58.651273</td>\n",
              "      <td>55.352293</td>\n",
              "      <td>68.831207</td>\n",
              "      <td>75.433151</td>\n",
              "      <td>98.382063</td>\n",
              "      <td>97.814706</td>\n",
              "      <td>31.917222</td>\n",
              "      <td>NaN</td>\n",
              "      <td>NaN</td>\n",
              "    </tr>\n",
              "    <tr>\n",
              "      <th>April</th>\n",
              "      <td>66.873139</td>\n",
              "      <td>77.046667</td>\n",
              "      <td>83.957343</td>\n",
              "      <td>73.107093</td>\n",
              "      <td>89.354293</td>\n",
              "      <td>95.302409</td>\n",
              "      <td>136.504626</td>\n",
              "      <td>146.416170</td>\n",
              "      <td>38.080000</td>\n",
              "      <td>NaN</td>\n",
              "      <td>NaN</td>\n",
              "    </tr>\n",
              "    <tr>\n",
              "      <th>May</th>\n",
              "      <td>65.756235</td>\n",
              "      <td>74.947143</td>\n",
              "      <td>78.559804</td>\n",
              "      <td>76.011980</td>\n",
              "      <td>92.894139</td>\n",
              "      <td>101.295125</td>\n",
              "      <td>138.043077</td>\n",
              "      <td>131.376719</td>\n",
              "      <td>33.698039</td>\n",
              "      <td>NaN</td>\n",
              "      <td>NaN</td>\n",
              "    </tr>\n",
              "    <tr>\n",
              "      <th>June</th>\n",
              "      <td>95.949922</td>\n",
              "      <td>99.632381</td>\n",
              "      <td>132.758077</td>\n",
              "      <td>98.911147</td>\n",
              "      <td>120.961719</td>\n",
              "      <td>138.513699</td>\n",
              "      <td>167.399392</td>\n",
              "      <td>188.200000</td>\n",
              "      <td>63.673571</td>\n",
              "      <td>NaN</td>\n",
              "      <td>NaN</td>\n",
              "    </tr>\n",
              "    <tr>\n",
              "      <th>July</th>\n",
              "      <td>134.711490</td>\n",
              "      <td>134.564545</td>\n",
              "      <td>168.287872</td>\n",
              "      <td>153.129021</td>\n",
              "      <td>165.809018</td>\n",
              "      <td>180.454595</td>\n",
              "      <td>216.688789</td>\n",
              "      <td>224.651304</td>\n",
              "      <td>57.814048</td>\n",
              "      <td>8.0</td>\n",
              "      <td>NaN</td>\n",
              "    </tr>\n",
              "    <tr>\n",
              "      <th>August</th>\n",
              "      <td>166.188725</td>\n",
              "      <td>166.563429</td>\n",
              "      <td>208.749581</td>\n",
              "      <td>182.832802</td>\n",
              "      <td>192.811411</td>\n",
              "      <td>208.599920</td>\n",
              "      <td>258.959619</td>\n",
              "      <td>273.538226</td>\n",
              "      <td>93.998235</td>\n",
              "      <td>NaN</td>\n",
              "      <td>NaN</td>\n",
              "    </tr>\n",
              "    <tr>\n",
              "      <th>September</th>\n",
              "      <td>74.718118</td>\n",
              "      <td>82.830000</td>\n",
              "      <td>99.861278</td>\n",
              "      <td>94.340754</td>\n",
              "      <td>109.018380</td>\n",
              "      <td>124.893871</td>\n",
              "      <td>153.492875</td>\n",
              "      <td>158.724286</td>\n",
              "      <td>64.342857</td>\n",
              "      <td>NaN</td>\n",
              "      <td>NaN</td>\n",
              "    </tr>\n",
              "    <tr>\n",
              "      <th>October</th>\n",
              "      <td>52.828256</td>\n",
              "      <td>56.100000</td>\n",
              "      <td>62.032953</td>\n",
              "      <td>62.776367</td>\n",
              "      <td>72.537763</td>\n",
              "      <td>78.734662</td>\n",
              "      <td>108.100125</td>\n",
              "      <td>104.546667</td>\n",
              "      <td>16.143636</td>\n",
              "      <td>NaN</td>\n",
              "      <td>NaN</td>\n",
              "    </tr>\n",
              "    <tr>\n",
              "      <th>November</th>\n",
              "      <td>42.157597</td>\n",
              "      <td>41.250000</td>\n",
              "      <td>50.270196</td>\n",
              "      <td>47.073207</td>\n",
              "      <td>58.570464</td>\n",
              "      <td>64.113023</td>\n",
              "      <td>82.602667</td>\n",
              "      <td>84.774815</td>\n",
              "      <td>12.642857</td>\n",
              "      <td>NaN</td>\n",
              "      <td>0.0</td>\n",
              "    </tr>\n",
              "    <tr>\n",
              "      <th>December</th>\n",
              "      <td>63.838404</td>\n",
              "      <td>45.606667</td>\n",
              "      <td>87.754175</td>\n",
              "      <td>61.225693</td>\n",
              "      <td>79.698457</td>\n",
              "      <td>89.384186</td>\n",
              "      <td>112.810361</td>\n",
              "      <td>121.037209</td>\n",
              "      <td>21.483333</td>\n",
              "      <td>NaN</td>\n",
              "      <td>NaN</td>\n",
              "    </tr>\n",
              "  </tbody>\n",
              "</table>\n",
              "</div>"
            ],
            "text/plain": [
              "assigned_room_type           A           B           C  ...          I    L    P\n",
              "arrival_date_month                                      ...                     \n",
              "January              44.696784   34.933333   50.098421  ...   9.954545  NaN  NaN\n",
              "February             50.085972   35.666667   65.746899  ...  18.406087  NaN  0.0\n",
              "March                49.637858   51.181818   58.651273  ...  31.917222  NaN  NaN\n",
              "April                66.873139   77.046667   83.957343  ...  38.080000  NaN  NaN\n",
              "May                  65.756235   74.947143   78.559804  ...  33.698039  NaN  NaN\n",
              "June                 95.949922   99.632381  132.758077  ...  63.673571  NaN  NaN\n",
              "July                134.711490  134.564545  168.287872  ...  57.814048  8.0  NaN\n",
              "August              166.188725  166.563429  208.749581  ...  93.998235  NaN  NaN\n",
              "September            74.718118   82.830000   99.861278  ...  64.342857  NaN  NaN\n",
              "October              52.828256   56.100000   62.032953  ...  16.143636  NaN  NaN\n",
              "November             42.157597   41.250000   50.270196  ...  12.642857  NaN  0.0\n",
              "December             63.838404   45.606667   87.754175  ...  21.483333  NaN  NaN\n",
              "\n",
              "[12 rows x 11 columns]"
            ]
          },
          "metadata": {
            "tags": []
          },
          "execution_count": 71
        }
      ]
    },
    {
      "cell_type": "code",
      "metadata": {
        "colab": {
          "base_uri": "https://localhost:8080/",
          "height": 447
        },
        "id": "_BYZdkBZAF77",
        "outputId": "01e2a668-4289-4fe9-be1d-93ed2adfa18e"
      },
      "source": [
        "adr_resort_df=adr_resort_df.fillna(0)\n",
        "adr_resort_df"
      ],
      "execution_count": 72,
      "outputs": [
        {
          "output_type": "execute_result",
          "data": {
            "text/html": [
              "<div>\n",
              "<style scoped>\n",
              "    .dataframe tbody tr th:only-of-type {\n",
              "        vertical-align: middle;\n",
              "    }\n",
              "\n",
              "    .dataframe tbody tr th {\n",
              "        vertical-align: top;\n",
              "    }\n",
              "\n",
              "    .dataframe thead th {\n",
              "        text-align: right;\n",
              "    }\n",
              "</style>\n",
              "<table border=\"1\" class=\"dataframe\">\n",
              "  <thead>\n",
              "    <tr style=\"text-align: right;\">\n",
              "      <th>assigned_room_type</th>\n",
              "      <th>A</th>\n",
              "      <th>B</th>\n",
              "      <th>C</th>\n",
              "      <th>D</th>\n",
              "      <th>E</th>\n",
              "      <th>F</th>\n",
              "      <th>G</th>\n",
              "      <th>H</th>\n",
              "      <th>I</th>\n",
              "      <th>L</th>\n",
              "      <th>P</th>\n",
              "    </tr>\n",
              "    <tr>\n",
              "      <th>arrival_date_month</th>\n",
              "      <th></th>\n",
              "      <th></th>\n",
              "      <th></th>\n",
              "      <th></th>\n",
              "      <th></th>\n",
              "      <th></th>\n",
              "      <th></th>\n",
              "      <th></th>\n",
              "      <th></th>\n",
              "      <th></th>\n",
              "      <th></th>\n",
              "    </tr>\n",
              "  </thead>\n",
              "  <tbody>\n",
              "    <tr>\n",
              "      <th>January</th>\n",
              "      <td>44.696784</td>\n",
              "      <td>34.933333</td>\n",
              "      <td>50.098421</td>\n",
              "      <td>45.669857</td>\n",
              "      <td>60.569833</td>\n",
              "      <td>57.196452</td>\n",
              "      <td>80.680714</td>\n",
              "      <td>87.126071</td>\n",
              "      <td>9.954545</td>\n",
              "      <td>0.0</td>\n",
              "      <td>0.0</td>\n",
              "    </tr>\n",
              "    <tr>\n",
              "      <th>February</th>\n",
              "      <td>50.085972</td>\n",
              "      <td>35.666667</td>\n",
              "      <td>65.746899</td>\n",
              "      <td>50.874748</td>\n",
              "      <td>64.942891</td>\n",
              "      <td>68.446190</td>\n",
              "      <td>90.622190</td>\n",
              "      <td>106.540556</td>\n",
              "      <td>18.406087</td>\n",
              "      <td>0.0</td>\n",
              "      <td>0.0</td>\n",
              "    </tr>\n",
              "    <tr>\n",
              "      <th>March</th>\n",
              "      <td>49.637858</td>\n",
              "      <td>51.181818</td>\n",
              "      <td>58.651273</td>\n",
              "      <td>55.352293</td>\n",
              "      <td>68.831207</td>\n",
              "      <td>75.433151</td>\n",
              "      <td>98.382063</td>\n",
              "      <td>97.814706</td>\n",
              "      <td>31.917222</td>\n",
              "      <td>0.0</td>\n",
              "      <td>0.0</td>\n",
              "    </tr>\n",
              "    <tr>\n",
              "      <th>April</th>\n",
              "      <td>66.873139</td>\n",
              "      <td>77.046667</td>\n",
              "      <td>83.957343</td>\n",
              "      <td>73.107093</td>\n",
              "      <td>89.354293</td>\n",
              "      <td>95.302409</td>\n",
              "      <td>136.504626</td>\n",
              "      <td>146.416170</td>\n",
              "      <td>38.080000</td>\n",
              "      <td>0.0</td>\n",
              "      <td>0.0</td>\n",
              "    </tr>\n",
              "    <tr>\n",
              "      <th>May</th>\n",
              "      <td>65.756235</td>\n",
              "      <td>74.947143</td>\n",
              "      <td>78.559804</td>\n",
              "      <td>76.011980</td>\n",
              "      <td>92.894139</td>\n",
              "      <td>101.295125</td>\n",
              "      <td>138.043077</td>\n",
              "      <td>131.376719</td>\n",
              "      <td>33.698039</td>\n",
              "      <td>0.0</td>\n",
              "      <td>0.0</td>\n",
              "    </tr>\n",
              "    <tr>\n",
              "      <th>June</th>\n",
              "      <td>95.949922</td>\n",
              "      <td>99.632381</td>\n",
              "      <td>132.758077</td>\n",
              "      <td>98.911147</td>\n",
              "      <td>120.961719</td>\n",
              "      <td>138.513699</td>\n",
              "      <td>167.399392</td>\n",
              "      <td>188.200000</td>\n",
              "      <td>63.673571</td>\n",
              "      <td>0.0</td>\n",
              "      <td>0.0</td>\n",
              "    </tr>\n",
              "    <tr>\n",
              "      <th>July</th>\n",
              "      <td>134.711490</td>\n",
              "      <td>134.564545</td>\n",
              "      <td>168.287872</td>\n",
              "      <td>153.129021</td>\n",
              "      <td>165.809018</td>\n",
              "      <td>180.454595</td>\n",
              "      <td>216.688789</td>\n",
              "      <td>224.651304</td>\n",
              "      <td>57.814048</td>\n",
              "      <td>8.0</td>\n",
              "      <td>0.0</td>\n",
              "    </tr>\n",
              "    <tr>\n",
              "      <th>August</th>\n",
              "      <td>166.188725</td>\n",
              "      <td>166.563429</td>\n",
              "      <td>208.749581</td>\n",
              "      <td>182.832802</td>\n",
              "      <td>192.811411</td>\n",
              "      <td>208.599920</td>\n",
              "      <td>258.959619</td>\n",
              "      <td>273.538226</td>\n",
              "      <td>93.998235</td>\n",
              "      <td>0.0</td>\n",
              "      <td>0.0</td>\n",
              "    </tr>\n",
              "    <tr>\n",
              "      <th>September</th>\n",
              "      <td>74.718118</td>\n",
              "      <td>82.830000</td>\n",
              "      <td>99.861278</td>\n",
              "      <td>94.340754</td>\n",
              "      <td>109.018380</td>\n",
              "      <td>124.893871</td>\n",
              "      <td>153.492875</td>\n",
              "      <td>158.724286</td>\n",
              "      <td>64.342857</td>\n",
              "      <td>0.0</td>\n",
              "      <td>0.0</td>\n",
              "    </tr>\n",
              "    <tr>\n",
              "      <th>October</th>\n",
              "      <td>52.828256</td>\n",
              "      <td>56.100000</td>\n",
              "      <td>62.032953</td>\n",
              "      <td>62.776367</td>\n",
              "      <td>72.537763</td>\n",
              "      <td>78.734662</td>\n",
              "      <td>108.100125</td>\n",
              "      <td>104.546667</td>\n",
              "      <td>16.143636</td>\n",
              "      <td>0.0</td>\n",
              "      <td>0.0</td>\n",
              "    </tr>\n",
              "    <tr>\n",
              "      <th>November</th>\n",
              "      <td>42.157597</td>\n",
              "      <td>41.250000</td>\n",
              "      <td>50.270196</td>\n",
              "      <td>47.073207</td>\n",
              "      <td>58.570464</td>\n",
              "      <td>64.113023</td>\n",
              "      <td>82.602667</td>\n",
              "      <td>84.774815</td>\n",
              "      <td>12.642857</td>\n",
              "      <td>0.0</td>\n",
              "      <td>0.0</td>\n",
              "    </tr>\n",
              "    <tr>\n",
              "      <th>December</th>\n",
              "      <td>63.838404</td>\n",
              "      <td>45.606667</td>\n",
              "      <td>87.754175</td>\n",
              "      <td>61.225693</td>\n",
              "      <td>79.698457</td>\n",
              "      <td>89.384186</td>\n",
              "      <td>112.810361</td>\n",
              "      <td>121.037209</td>\n",
              "      <td>21.483333</td>\n",
              "      <td>0.0</td>\n",
              "      <td>0.0</td>\n",
              "    </tr>\n",
              "  </tbody>\n",
              "</table>\n",
              "</div>"
            ],
            "text/plain": [
              "assigned_room_type           A           B           C  ...          I    L    P\n",
              "arrival_date_month                                      ...                     \n",
              "January              44.696784   34.933333   50.098421  ...   9.954545  0.0  0.0\n",
              "February             50.085972   35.666667   65.746899  ...  18.406087  0.0  0.0\n",
              "March                49.637858   51.181818   58.651273  ...  31.917222  0.0  0.0\n",
              "April                66.873139   77.046667   83.957343  ...  38.080000  0.0  0.0\n",
              "May                  65.756235   74.947143   78.559804  ...  33.698039  0.0  0.0\n",
              "June                 95.949922   99.632381  132.758077  ...  63.673571  0.0  0.0\n",
              "July                134.711490  134.564545  168.287872  ...  57.814048  8.0  0.0\n",
              "August              166.188725  166.563429  208.749581  ...  93.998235  0.0  0.0\n",
              "September            74.718118   82.830000   99.861278  ...  64.342857  0.0  0.0\n",
              "October              52.828256   56.100000   62.032953  ...  16.143636  0.0  0.0\n",
              "November             42.157597   41.250000   50.270196  ...  12.642857  0.0  0.0\n",
              "December             63.838404   45.606667   87.754175  ...  21.483333  0.0  0.0\n",
              "\n",
              "[12 rows x 11 columns]"
            ]
          },
          "metadata": {
            "tags": []
          },
          "execution_count": 72
        }
      ]
    },
    {
      "cell_type": "code",
      "metadata": {
        "colab": {
          "base_uri": "https://localhost:8080/",
          "height": 447
        },
        "id": "qkzqdBG3pBgn",
        "outputId": "a0aa16b3-c41f-4317-a1f8-19cf528aeb4b"
      },
      "source": [
        "adr_city_df= city_df.groupby(['arrival_date_month','assigned_room_type'])['adr'].mean().unstack()\n",
        "adr_city_df"
      ],
      "execution_count": 73,
      "outputs": [
        {
          "output_type": "execute_result",
          "data": {
            "text/html": [
              "<div>\n",
              "<style scoped>\n",
              "    .dataframe tbody tr th:only-of-type {\n",
              "        vertical-align: middle;\n",
              "    }\n",
              "\n",
              "    .dataframe tbody tr th {\n",
              "        vertical-align: top;\n",
              "    }\n",
              "\n",
              "    .dataframe thead th {\n",
              "        text-align: right;\n",
              "    }\n",
              "</style>\n",
              "<table border=\"1\" class=\"dataframe\">\n",
              "  <thead>\n",
              "    <tr style=\"text-align: right;\">\n",
              "      <th>assigned_room_type</th>\n",
              "      <th>A</th>\n",
              "      <th>B</th>\n",
              "      <th>C</th>\n",
              "      <th>D</th>\n",
              "      <th>E</th>\n",
              "      <th>F</th>\n",
              "      <th>G</th>\n",
              "      <th>K</th>\n",
              "      <th>P</th>\n",
              "    </tr>\n",
              "    <tr>\n",
              "      <th>arrival_date_month</th>\n",
              "      <th></th>\n",
              "      <th></th>\n",
              "      <th></th>\n",
              "      <th></th>\n",
              "      <th></th>\n",
              "      <th></th>\n",
              "      <th></th>\n",
              "      <th></th>\n",
              "      <th></th>\n",
              "    </tr>\n",
              "  </thead>\n",
              "  <tbody>\n",
              "    <tr>\n",
              "      <th>April</th>\n",
              "      <td>100.660533</td>\n",
              "      <td>97.074431</td>\n",
              "      <td>107.620000</td>\n",
              "      <td>127.819188</td>\n",
              "      <td>159.179793</td>\n",
              "      <td>191.407067</td>\n",
              "      <td>197.852969</td>\n",
              "      <td>71.364000</td>\n",
              "      <td>0.0</td>\n",
              "    </tr>\n",
              "    <tr>\n",
              "      <th>August</th>\n",
              "      <td>100.638361</td>\n",
              "      <td>95.652510</td>\n",
              "      <td>106.828462</td>\n",
              "      <td>138.797752</td>\n",
              "      <td>162.757843</td>\n",
              "      <td>197.797760</td>\n",
              "      <td>222.707475</td>\n",
              "      <td>87.015476</td>\n",
              "      <td>0.0</td>\n",
              "    </tr>\n",
              "    <tr>\n",
              "      <th>December</th>\n",
              "      <td>81.228731</td>\n",
              "      <td>83.372394</td>\n",
              "      <td>65.060000</td>\n",
              "      <td>101.782615</td>\n",
              "      <td>126.365875</td>\n",
              "      <td>157.949344</td>\n",
              "      <td>135.149250</td>\n",
              "      <td>49.778636</td>\n",
              "      <td>0.0</td>\n",
              "    </tr>\n",
              "    <tr>\n",
              "      <th>February</th>\n",
              "      <td>78.467295</td>\n",
              "      <td>71.902650</td>\n",
              "      <td>76.880000</td>\n",
              "      <td>97.913163</td>\n",
              "      <td>107.134513</td>\n",
              "      <td>153.042193</td>\n",
              "      <td>176.623500</td>\n",
              "      <td>49.138333</td>\n",
              "      <td>NaN</td>\n",
              "    </tr>\n",
              "    <tr>\n",
              "      <th>January</th>\n",
              "      <td>78.476215</td>\n",
              "      <td>77.274390</td>\n",
              "      <td>NaN</td>\n",
              "      <td>92.772441</td>\n",
              "      <td>108.701446</td>\n",
              "      <td>136.546780</td>\n",
              "      <td>143.883077</td>\n",
              "      <td>44.203333</td>\n",
              "      <td>NaN</td>\n",
              "    </tr>\n",
              "    <tr>\n",
              "      <th>July</th>\n",
              "      <td>97.394711</td>\n",
              "      <td>89.644211</td>\n",
              "      <td>103.992083</td>\n",
              "      <td>137.515175</td>\n",
              "      <td>161.666643</td>\n",
              "      <td>187.227731</td>\n",
              "      <td>227.235682</td>\n",
              "      <td>71.238333</td>\n",
              "      <td>NaN</td>\n",
              "    </tr>\n",
              "    <tr>\n",
              "      <th>June</th>\n",
              "      <td>110.955929</td>\n",
              "      <td>106.079485</td>\n",
              "      <td>92.623571</td>\n",
              "      <td>135.349528</td>\n",
              "      <td>160.392180</td>\n",
              "      <td>185.971082</td>\n",
              "      <td>185.538429</td>\n",
              "      <td>64.534286</td>\n",
              "      <td>NaN</td>\n",
              "    </tr>\n",
              "    <tr>\n",
              "      <th>March</th>\n",
              "      <td>86.075725</td>\n",
              "      <td>83.693974</td>\n",
              "      <td>83.236923</td>\n",
              "      <td>104.616692</td>\n",
              "      <td>123.910204</td>\n",
              "      <td>160.938681</td>\n",
              "      <td>130.524808</td>\n",
              "      <td>28.730263</td>\n",
              "      <td>NaN</td>\n",
              "    </tr>\n",
              "    <tr>\n",
              "      <th>May</th>\n",
              "      <td>111.683030</td>\n",
              "      <td>108.694667</td>\n",
              "      <td>112.957619</td>\n",
              "      <td>139.949887</td>\n",
              "      <td>161.107984</td>\n",
              "      <td>195.327169</td>\n",
              "      <td>202.796706</td>\n",
              "      <td>61.666667</td>\n",
              "      <td>NaN</td>\n",
              "    </tr>\n",
              "    <tr>\n",
              "      <th>November</th>\n",
              "      <td>86.643930</td>\n",
              "      <td>85.763600</td>\n",
              "      <td>76.810000</td>\n",
              "      <td>90.503783</td>\n",
              "      <td>98.939718</td>\n",
              "      <td>135.027541</td>\n",
              "      <td>107.118571</td>\n",
              "      <td>48.292609</td>\n",
              "      <td>0.0</td>\n",
              "    </tr>\n",
              "    <tr>\n",
              "      <th>October</th>\n",
              "      <td>94.332317</td>\n",
              "      <td>96.028139</td>\n",
              "      <td>91.038235</td>\n",
              "      <td>112.018411</td>\n",
              "      <td>125.111366</td>\n",
              "      <td>164.410000</td>\n",
              "      <td>151.298519</td>\n",
              "      <td>40.427561</td>\n",
              "      <td>NaN</td>\n",
              "    </tr>\n",
              "    <tr>\n",
              "      <th>September</th>\n",
              "      <td>103.198470</td>\n",
              "      <td>101.627185</td>\n",
              "      <td>123.577647</td>\n",
              "      <td>124.739426</td>\n",
              "      <td>133.003881</td>\n",
              "      <td>176.738111</td>\n",
              "      <td>176.725246</td>\n",
              "      <td>38.458750</td>\n",
              "      <td>NaN</td>\n",
              "    </tr>\n",
              "  </tbody>\n",
              "</table>\n",
              "</div>"
            ],
            "text/plain": [
              "assigned_room_type           A           B  ...          K    P\n",
              "arrival_date_month                          ...                \n",
              "April               100.660533   97.074431  ...  71.364000  0.0\n",
              "August              100.638361   95.652510  ...  87.015476  0.0\n",
              "December             81.228731   83.372394  ...  49.778636  0.0\n",
              "February             78.467295   71.902650  ...  49.138333  NaN\n",
              "January              78.476215   77.274390  ...  44.203333  NaN\n",
              "July                 97.394711   89.644211  ...  71.238333  NaN\n",
              "June                110.955929  106.079485  ...  64.534286  NaN\n",
              "March                86.075725   83.693974  ...  28.730263  NaN\n",
              "May                 111.683030  108.694667  ...  61.666667  NaN\n",
              "November             86.643930   85.763600  ...  48.292609  0.0\n",
              "October              94.332317   96.028139  ...  40.427561  NaN\n",
              "September           103.198470  101.627185  ...  38.458750  NaN\n",
              "\n",
              "[12 rows x 9 columns]"
            ]
          },
          "metadata": {
            "tags": []
          },
          "execution_count": 73
        }
      ]
    },
    {
      "cell_type": "code",
      "metadata": {
        "id": "_NJ2AcAcp46J"
      },
      "source": [
        "adr_city_df.index=pd.CategoricalIndex(adr_city_df.index, categories=Months_name, ordered=True)\n",
        "adr_city_df = adr_city_df.sort_index()"
      ],
      "execution_count": 74,
      "outputs": []
    },
    {
      "cell_type": "code",
      "metadata": {
        "colab": {
          "base_uri": "https://localhost:8080/",
          "height": 447
        },
        "id": "9A8DtV3mqMs_",
        "outputId": "e5c1b535-6793-4efa-f681-f69de1005dec"
      },
      "source": [
        "adr_city_df"
      ],
      "execution_count": 75,
      "outputs": [
        {
          "output_type": "execute_result",
          "data": {
            "text/html": [
              "<div>\n",
              "<style scoped>\n",
              "    .dataframe tbody tr th:only-of-type {\n",
              "        vertical-align: middle;\n",
              "    }\n",
              "\n",
              "    .dataframe tbody tr th {\n",
              "        vertical-align: top;\n",
              "    }\n",
              "\n",
              "    .dataframe thead th {\n",
              "        text-align: right;\n",
              "    }\n",
              "</style>\n",
              "<table border=\"1\" class=\"dataframe\">\n",
              "  <thead>\n",
              "    <tr style=\"text-align: right;\">\n",
              "      <th>assigned_room_type</th>\n",
              "      <th>A</th>\n",
              "      <th>B</th>\n",
              "      <th>C</th>\n",
              "      <th>D</th>\n",
              "      <th>E</th>\n",
              "      <th>F</th>\n",
              "      <th>G</th>\n",
              "      <th>K</th>\n",
              "      <th>P</th>\n",
              "    </tr>\n",
              "    <tr>\n",
              "      <th>arrival_date_month</th>\n",
              "      <th></th>\n",
              "      <th></th>\n",
              "      <th></th>\n",
              "      <th></th>\n",
              "      <th></th>\n",
              "      <th></th>\n",
              "      <th></th>\n",
              "      <th></th>\n",
              "      <th></th>\n",
              "    </tr>\n",
              "  </thead>\n",
              "  <tbody>\n",
              "    <tr>\n",
              "      <th>January</th>\n",
              "      <td>78.476215</td>\n",
              "      <td>77.274390</td>\n",
              "      <td>NaN</td>\n",
              "      <td>92.772441</td>\n",
              "      <td>108.701446</td>\n",
              "      <td>136.546780</td>\n",
              "      <td>143.883077</td>\n",
              "      <td>44.203333</td>\n",
              "      <td>NaN</td>\n",
              "    </tr>\n",
              "    <tr>\n",
              "      <th>February</th>\n",
              "      <td>78.467295</td>\n",
              "      <td>71.902650</td>\n",
              "      <td>76.880000</td>\n",
              "      <td>97.913163</td>\n",
              "      <td>107.134513</td>\n",
              "      <td>153.042193</td>\n",
              "      <td>176.623500</td>\n",
              "      <td>49.138333</td>\n",
              "      <td>NaN</td>\n",
              "    </tr>\n",
              "    <tr>\n",
              "      <th>March</th>\n",
              "      <td>86.075725</td>\n",
              "      <td>83.693974</td>\n",
              "      <td>83.236923</td>\n",
              "      <td>104.616692</td>\n",
              "      <td>123.910204</td>\n",
              "      <td>160.938681</td>\n",
              "      <td>130.524808</td>\n",
              "      <td>28.730263</td>\n",
              "      <td>NaN</td>\n",
              "    </tr>\n",
              "    <tr>\n",
              "      <th>April</th>\n",
              "      <td>100.660533</td>\n",
              "      <td>97.074431</td>\n",
              "      <td>107.620000</td>\n",
              "      <td>127.819188</td>\n",
              "      <td>159.179793</td>\n",
              "      <td>191.407067</td>\n",
              "      <td>197.852969</td>\n",
              "      <td>71.364000</td>\n",
              "      <td>0.0</td>\n",
              "    </tr>\n",
              "    <tr>\n",
              "      <th>May</th>\n",
              "      <td>111.683030</td>\n",
              "      <td>108.694667</td>\n",
              "      <td>112.957619</td>\n",
              "      <td>139.949887</td>\n",
              "      <td>161.107984</td>\n",
              "      <td>195.327169</td>\n",
              "      <td>202.796706</td>\n",
              "      <td>61.666667</td>\n",
              "      <td>NaN</td>\n",
              "    </tr>\n",
              "    <tr>\n",
              "      <th>June</th>\n",
              "      <td>110.955929</td>\n",
              "      <td>106.079485</td>\n",
              "      <td>92.623571</td>\n",
              "      <td>135.349528</td>\n",
              "      <td>160.392180</td>\n",
              "      <td>185.971082</td>\n",
              "      <td>185.538429</td>\n",
              "      <td>64.534286</td>\n",
              "      <td>NaN</td>\n",
              "    </tr>\n",
              "    <tr>\n",
              "      <th>July</th>\n",
              "      <td>97.394711</td>\n",
              "      <td>89.644211</td>\n",
              "      <td>103.992083</td>\n",
              "      <td>137.515175</td>\n",
              "      <td>161.666643</td>\n",
              "      <td>187.227731</td>\n",
              "      <td>227.235682</td>\n",
              "      <td>71.238333</td>\n",
              "      <td>NaN</td>\n",
              "    </tr>\n",
              "    <tr>\n",
              "      <th>August</th>\n",
              "      <td>100.638361</td>\n",
              "      <td>95.652510</td>\n",
              "      <td>106.828462</td>\n",
              "      <td>138.797752</td>\n",
              "      <td>162.757843</td>\n",
              "      <td>197.797760</td>\n",
              "      <td>222.707475</td>\n",
              "      <td>87.015476</td>\n",
              "      <td>0.0</td>\n",
              "    </tr>\n",
              "    <tr>\n",
              "      <th>September</th>\n",
              "      <td>103.198470</td>\n",
              "      <td>101.627185</td>\n",
              "      <td>123.577647</td>\n",
              "      <td>124.739426</td>\n",
              "      <td>133.003881</td>\n",
              "      <td>176.738111</td>\n",
              "      <td>176.725246</td>\n",
              "      <td>38.458750</td>\n",
              "      <td>NaN</td>\n",
              "    </tr>\n",
              "    <tr>\n",
              "      <th>October</th>\n",
              "      <td>94.332317</td>\n",
              "      <td>96.028139</td>\n",
              "      <td>91.038235</td>\n",
              "      <td>112.018411</td>\n",
              "      <td>125.111366</td>\n",
              "      <td>164.410000</td>\n",
              "      <td>151.298519</td>\n",
              "      <td>40.427561</td>\n",
              "      <td>NaN</td>\n",
              "    </tr>\n",
              "    <tr>\n",
              "      <th>November</th>\n",
              "      <td>86.643930</td>\n",
              "      <td>85.763600</td>\n",
              "      <td>76.810000</td>\n",
              "      <td>90.503783</td>\n",
              "      <td>98.939718</td>\n",
              "      <td>135.027541</td>\n",
              "      <td>107.118571</td>\n",
              "      <td>48.292609</td>\n",
              "      <td>0.0</td>\n",
              "    </tr>\n",
              "    <tr>\n",
              "      <th>December</th>\n",
              "      <td>81.228731</td>\n",
              "      <td>83.372394</td>\n",
              "      <td>65.060000</td>\n",
              "      <td>101.782615</td>\n",
              "      <td>126.365875</td>\n",
              "      <td>157.949344</td>\n",
              "      <td>135.149250</td>\n",
              "      <td>49.778636</td>\n",
              "      <td>0.0</td>\n",
              "    </tr>\n",
              "  </tbody>\n",
              "</table>\n",
              "</div>"
            ],
            "text/plain": [
              "assigned_room_type           A           B  ...          K    P\n",
              "arrival_date_month                          ...                \n",
              "January              78.476215   77.274390  ...  44.203333  NaN\n",
              "February             78.467295   71.902650  ...  49.138333  NaN\n",
              "March                86.075725   83.693974  ...  28.730263  NaN\n",
              "April               100.660533   97.074431  ...  71.364000  0.0\n",
              "May                 111.683030  108.694667  ...  61.666667  NaN\n",
              "June                110.955929  106.079485  ...  64.534286  NaN\n",
              "July                 97.394711   89.644211  ...  71.238333  NaN\n",
              "August              100.638361   95.652510  ...  87.015476  0.0\n",
              "September           103.198470  101.627185  ...  38.458750  NaN\n",
              "October              94.332317   96.028139  ...  40.427561  NaN\n",
              "November             86.643930   85.763600  ...  48.292609  0.0\n",
              "December             81.228731   83.372394  ...  49.778636  0.0\n",
              "\n",
              "[12 rows x 9 columns]"
            ]
          },
          "metadata": {
            "tags": []
          },
          "execution_count": 75
        }
      ]
    },
    {
      "cell_type": "code",
      "metadata": {
        "id": "wq0DFvY8qSBZ"
      },
      "source": [
        "adr_city_df = adr_city_df.fillna(0)"
      ],
      "execution_count": 76,
      "outputs": []
    },
    {
      "cell_type": "code",
      "metadata": {
        "colab": {
          "base_uri": "https://localhost:8080/",
          "height": 447
        },
        "id": "1E4ghRiAqe56",
        "outputId": "544e15b9-3c7a-413d-82dc-db5fafe5601a"
      },
      "source": [
        "adr_city_df"
      ],
      "execution_count": 77,
      "outputs": [
        {
          "output_type": "execute_result",
          "data": {
            "text/html": [
              "<div>\n",
              "<style scoped>\n",
              "    .dataframe tbody tr th:only-of-type {\n",
              "        vertical-align: middle;\n",
              "    }\n",
              "\n",
              "    .dataframe tbody tr th {\n",
              "        vertical-align: top;\n",
              "    }\n",
              "\n",
              "    .dataframe thead th {\n",
              "        text-align: right;\n",
              "    }\n",
              "</style>\n",
              "<table border=\"1\" class=\"dataframe\">\n",
              "  <thead>\n",
              "    <tr style=\"text-align: right;\">\n",
              "      <th>assigned_room_type</th>\n",
              "      <th>A</th>\n",
              "      <th>B</th>\n",
              "      <th>C</th>\n",
              "      <th>D</th>\n",
              "      <th>E</th>\n",
              "      <th>F</th>\n",
              "      <th>G</th>\n",
              "      <th>K</th>\n",
              "      <th>P</th>\n",
              "    </tr>\n",
              "    <tr>\n",
              "      <th>arrival_date_month</th>\n",
              "      <th></th>\n",
              "      <th></th>\n",
              "      <th></th>\n",
              "      <th></th>\n",
              "      <th></th>\n",
              "      <th></th>\n",
              "      <th></th>\n",
              "      <th></th>\n",
              "      <th></th>\n",
              "    </tr>\n",
              "  </thead>\n",
              "  <tbody>\n",
              "    <tr>\n",
              "      <th>January</th>\n",
              "      <td>78.476215</td>\n",
              "      <td>77.274390</td>\n",
              "      <td>0.000000</td>\n",
              "      <td>92.772441</td>\n",
              "      <td>108.701446</td>\n",
              "      <td>136.546780</td>\n",
              "      <td>143.883077</td>\n",
              "      <td>44.203333</td>\n",
              "      <td>0.0</td>\n",
              "    </tr>\n",
              "    <tr>\n",
              "      <th>February</th>\n",
              "      <td>78.467295</td>\n",
              "      <td>71.902650</td>\n",
              "      <td>76.880000</td>\n",
              "      <td>97.913163</td>\n",
              "      <td>107.134513</td>\n",
              "      <td>153.042193</td>\n",
              "      <td>176.623500</td>\n",
              "      <td>49.138333</td>\n",
              "      <td>0.0</td>\n",
              "    </tr>\n",
              "    <tr>\n",
              "      <th>March</th>\n",
              "      <td>86.075725</td>\n",
              "      <td>83.693974</td>\n",
              "      <td>83.236923</td>\n",
              "      <td>104.616692</td>\n",
              "      <td>123.910204</td>\n",
              "      <td>160.938681</td>\n",
              "      <td>130.524808</td>\n",
              "      <td>28.730263</td>\n",
              "      <td>0.0</td>\n",
              "    </tr>\n",
              "    <tr>\n",
              "      <th>April</th>\n",
              "      <td>100.660533</td>\n",
              "      <td>97.074431</td>\n",
              "      <td>107.620000</td>\n",
              "      <td>127.819188</td>\n",
              "      <td>159.179793</td>\n",
              "      <td>191.407067</td>\n",
              "      <td>197.852969</td>\n",
              "      <td>71.364000</td>\n",
              "      <td>0.0</td>\n",
              "    </tr>\n",
              "    <tr>\n",
              "      <th>May</th>\n",
              "      <td>111.683030</td>\n",
              "      <td>108.694667</td>\n",
              "      <td>112.957619</td>\n",
              "      <td>139.949887</td>\n",
              "      <td>161.107984</td>\n",
              "      <td>195.327169</td>\n",
              "      <td>202.796706</td>\n",
              "      <td>61.666667</td>\n",
              "      <td>0.0</td>\n",
              "    </tr>\n",
              "    <tr>\n",
              "      <th>June</th>\n",
              "      <td>110.955929</td>\n",
              "      <td>106.079485</td>\n",
              "      <td>92.623571</td>\n",
              "      <td>135.349528</td>\n",
              "      <td>160.392180</td>\n",
              "      <td>185.971082</td>\n",
              "      <td>185.538429</td>\n",
              "      <td>64.534286</td>\n",
              "      <td>0.0</td>\n",
              "    </tr>\n",
              "    <tr>\n",
              "      <th>July</th>\n",
              "      <td>97.394711</td>\n",
              "      <td>89.644211</td>\n",
              "      <td>103.992083</td>\n",
              "      <td>137.515175</td>\n",
              "      <td>161.666643</td>\n",
              "      <td>187.227731</td>\n",
              "      <td>227.235682</td>\n",
              "      <td>71.238333</td>\n",
              "      <td>0.0</td>\n",
              "    </tr>\n",
              "    <tr>\n",
              "      <th>August</th>\n",
              "      <td>100.638361</td>\n",
              "      <td>95.652510</td>\n",
              "      <td>106.828462</td>\n",
              "      <td>138.797752</td>\n",
              "      <td>162.757843</td>\n",
              "      <td>197.797760</td>\n",
              "      <td>222.707475</td>\n",
              "      <td>87.015476</td>\n",
              "      <td>0.0</td>\n",
              "    </tr>\n",
              "    <tr>\n",
              "      <th>September</th>\n",
              "      <td>103.198470</td>\n",
              "      <td>101.627185</td>\n",
              "      <td>123.577647</td>\n",
              "      <td>124.739426</td>\n",
              "      <td>133.003881</td>\n",
              "      <td>176.738111</td>\n",
              "      <td>176.725246</td>\n",
              "      <td>38.458750</td>\n",
              "      <td>0.0</td>\n",
              "    </tr>\n",
              "    <tr>\n",
              "      <th>October</th>\n",
              "      <td>94.332317</td>\n",
              "      <td>96.028139</td>\n",
              "      <td>91.038235</td>\n",
              "      <td>112.018411</td>\n",
              "      <td>125.111366</td>\n",
              "      <td>164.410000</td>\n",
              "      <td>151.298519</td>\n",
              "      <td>40.427561</td>\n",
              "      <td>0.0</td>\n",
              "    </tr>\n",
              "    <tr>\n",
              "      <th>November</th>\n",
              "      <td>86.643930</td>\n",
              "      <td>85.763600</td>\n",
              "      <td>76.810000</td>\n",
              "      <td>90.503783</td>\n",
              "      <td>98.939718</td>\n",
              "      <td>135.027541</td>\n",
              "      <td>107.118571</td>\n",
              "      <td>48.292609</td>\n",
              "      <td>0.0</td>\n",
              "    </tr>\n",
              "    <tr>\n",
              "      <th>December</th>\n",
              "      <td>81.228731</td>\n",
              "      <td>83.372394</td>\n",
              "      <td>65.060000</td>\n",
              "      <td>101.782615</td>\n",
              "      <td>126.365875</td>\n",
              "      <td>157.949344</td>\n",
              "      <td>135.149250</td>\n",
              "      <td>49.778636</td>\n",
              "      <td>0.0</td>\n",
              "    </tr>\n",
              "  </tbody>\n",
              "</table>\n",
              "</div>"
            ],
            "text/plain": [
              "assigned_room_type           A           B  ...          K    P\n",
              "arrival_date_month                          ...                \n",
              "January              78.476215   77.274390  ...  44.203333  0.0\n",
              "February             78.467295   71.902650  ...  49.138333  0.0\n",
              "March                86.075725   83.693974  ...  28.730263  0.0\n",
              "April               100.660533   97.074431  ...  71.364000  0.0\n",
              "May                 111.683030  108.694667  ...  61.666667  0.0\n",
              "June                110.955929  106.079485  ...  64.534286  0.0\n",
              "July                 97.394711   89.644211  ...  71.238333  0.0\n",
              "August              100.638361   95.652510  ...  87.015476  0.0\n",
              "September           103.198470  101.627185  ...  38.458750  0.0\n",
              "October              94.332317   96.028139  ...  40.427561  0.0\n",
              "November             86.643930   85.763600  ...  48.292609  0.0\n",
              "December             81.228731   83.372394  ...  49.778636  0.0\n",
              "\n",
              "[12 rows x 9 columns]"
            ]
          },
          "metadata": {
            "tags": []
          },
          "execution_count": 77
        }
      ]
    },
    {
      "cell_type": "code",
      "metadata": {
        "colab": {
          "base_uri": "https://localhost:8080/",
          "height": 597
        },
        "id": "BmX8SjasB0z3",
        "outputId": "f231d0b1-4546-4f87-ee83-c81fda283595"
      },
      "source": [
        "fig, ax1 = plt.subplots(figsize=(20,9))\n",
        "sns.heatmap(adr_resort_df,ax= ax1, linewidths=0.5, annot= True, annot_kws={'size':15}, fmt='0.2f')\n",
        "ax1.set_ylabel('Month', fontsize=18)\n",
        "ax1.set_xlabel('Room Types', fontsize=18)\n",
        "ax1.set_title('ADR variation according to Room Type and Months(Resort Hotel)', fontsize=20)\n"
      ],
      "execution_count": 78,
      "outputs": [
        {
          "output_type": "execute_result",
          "data": {
            "text/plain": [
              "Text(0.5, 1.0, 'ADR variation according to Room Type and Months(Resort Hotel)')"
            ]
          },
          "metadata": {
            "tags": []
          },
          "execution_count": 78
        },
        {
          "output_type": "display_data",
          "data": {
            "image/png": "[encoded data removed]",
            "text/plain": [
              "<Figure size 1440x648 with 2 Axes>"
            ]
          },
          "metadata": {
            "tags": [],
            "needs_background": "light"
          }
        }
      ]
    },
    {
      "cell_type": "code",
      "metadata": {
        "colab": {
          "base_uri": "https://localhost:8080/",
          "height": 597
        },
        "id": "_XyfTnhjhdDe",
        "outputId": "b5d5b099-09d7-4536-e6c5-a3ab640c4baf"
      },
      "source": [
        "fig, ax2=plt.subplots(figsize= (20,9))\n",
        "sns.heatmap(adr_city_df,ax=ax2, linewidths=0.5, annot= True, annot_kws={'size':15}, fmt='0.2f')\n",
        "ax2.set_ylabel('Month', fontsize=18)\n",
        "ax2.set_xlabel('Room Types', fontsize=18)\n",
        "ax2.set_title('ADR variation according to Room Type and Months(City Hotel)', fontsize=20)"
      ],
      "execution_count": 79,
      "outputs": [
        {
          "output_type": "execute_result",
          "data": {
            "text/plain": [
              "Text(0.5, 1.0, 'ADR variation according to Room Type and Months(City Hotel)')"
            ]
          },
          "metadata": {
            "tags": []
          },
          "execution_count": 79
        },
        {
          "output_type": "display_data",
          "data": {
            "image/png": "[encoded data removed]",
            "text/plain": [
              "<Figure size 1440x648 with 2 Axes>"
            ]
          },
          "metadata": {
            "tags": [],
            "needs_background": "light"
          }
        }
      ]
    },
    {
      "cell_type": "code",
      "metadata": {
        "id": "Una8_13-xPui"
      },
      "source": [
        "hotel_df_copy['hotel']=hotel_df_copy['hotel'].convert_dtypes(convert_string= True)"
      ],
      "execution_count": 80,
      "outputs": []
    },
    {
      "cell_type": "code",
      "metadata": {
        "colab": {
          "base_uri": "https://localhost:8080/"
        },
        "id": "Oo8NOMP3JUan",
        "outputId": "883d0436-66aa-49f2-f023-6f8c04b52e42"
      },
      "source": [
        "hotel_df_copy.info()"
      ],
      "execution_count": 81,
      "outputs": [
        {
          "output_type": "stream",
          "text": [
            "<class 'pandas.core.frame.DataFrame'>\n",
            "RangeIndex: 119390 entries, 0 to 119389\n",
            "Data columns (total 32 columns):\n",
            " #   Column                          Non-Null Count   Dtype  \n",
            "---  ------                          --------------   -----  \n",
            " 0   hotel                           119390 non-null  string \n",
            " 1   is_canceled                     119390 non-null  int64  \n",
            " 2   lead_time                       119390 non-null  int64  \n",
            " 3   arrival_date_year               119390 non-null  int64  \n",
            " 4   arrival_date_month              119390 non-null  object \n",
            " 5   arrival_date_week_number        119390 non-null  int64  \n",
            " 6   arrival_date_day_of_month       119390 non-null  int64  \n",
            " 7   stays_in_weekend_nights         119390 non-null  int64  \n",
            " 8   stays_in_week_nights            119390 non-null  int64  \n",
            " 9   adults                          119390 non-null  int64  \n",
            " 10  children                        119386 non-null  float64\n",
            " 11  babies                          119390 non-null  int64  \n",
            " 12  meal                            119390 non-null  object \n",
            " 13  country                         118902 non-null  object \n",
            " 14  market_segment                  119390 non-null  object \n",
            " 15  distribution_channel            119390 non-null  object \n",
            " 16  is_repeated_guest               119390 non-null  int64  \n",
            " 17  previous_cancellations          119390 non-null  int64  \n",
            " 18  previous_bookings_not_canceled  119390 non-null  int64  \n",
            " 19  reserved_room_type              119390 non-null  object \n",
            " 20  assigned_room_type              119390 non-null  object \n",
            " 21  booking_changes                 119390 non-null  int64  \n",
            " 22  deposit_type                    119390 non-null  object \n",
            " 23  agent                           103050 non-null  float64\n",
            " 24  company                         6797 non-null    float64\n",
            " 25  days_in_waiting_list            119390 non-null  int64  \n",
            " 26  customer_type                   119390 non-null  object \n",
            " 27  adr                             119390 non-null  float64\n",
            " 28  required_car_parking_spaces     119390 non-null  int64  \n",
            " 29  total_of_special_requests       119390 non-null  int64  \n",
            " 30  reservation_status              119390 non-null  object \n",
            " 31  reservation_status_date         119390 non-null  object \n",
            "dtypes: float64(4), int64(16), object(11), string(1)\n",
            "memory usage: 29.1+ MB\n"
          ],
          "name": "stdout"
        }
      ]
    },
    {
      "cell_type": "code",
      "metadata": {
        "id": "CEyJMT1yJekz"
      },
      "source": [
        ""
      ],
      "execution_count": 81,
      "outputs": []
    }
  ]
}